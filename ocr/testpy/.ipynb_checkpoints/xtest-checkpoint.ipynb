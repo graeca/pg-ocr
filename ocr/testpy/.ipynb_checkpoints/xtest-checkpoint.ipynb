{
 "cells": [
  {
   "cell_type": "code",
   "execution_count": 2,
   "metadata": {},
   "outputs": [
    {
     "name": "stdout",
     "output_type": "stream",
     "text": [
      "__pycache__  xmodule.py  xtest.ipynb\n",
      "['__builtins__', '__cached__', '__doc__', '__file__', '__loader__', '__name__', '__package__', '__spec__', 'xgreeting']\n",
      "Hello, fffff\n",
      "None\n"
     ]
    }
   ],
   "source": [
    "import xmodule as t\n",
    "!ls\n",
    "x = dir(t)\n",
    "print(x)\n",
    "print(t.xgreeting('fffff'))\n",
    "\n",
    "\n",
    "#!pip3 list\n"
   ]
  },
  {
   "cell_type": "code",
   "execution_count": 6,
   "metadata": {},
   "outputs": [
    {
     "name": "stdout",
     "output_type": "stream",
     "text": [
      "Collecting scipy\n",
      "  Downloading https://files.pythonhosted.org/packages/7f/5f/c48860704092933bf1c4c1574a8de1ffd16bf4fde8bab190d747598844b2/scipy-1.2.1-cp36-cp36m-manylinux1_x86_64.whl (24.8MB)\n",
      "\u001b[K    100% |████████████████████████████████| 24.8MB 44kB/s \n",
      "\u001b[?25hRequirement already satisfied: numpy>=1.8.2 in /usr/local/lib/python3.6/dist-packages (from scipy)\n",
      "Installing collected packages: scipy\n",
      "Successfully installed scipy-1.2.1\n"
     ]
    }
   ],
   "source": [
    "#!pip3 install matplotlib\n",
    "#!pip3 install scipy"
   ]
  },
  {
   "cell_type": "code",
   "execution_count": 7,
   "metadata": {},
   "outputs": [
    {
     "ename": "error",
     "evalue": "/io/opencv/modules/imgproc/src/imgwarp.cpp:3483: error: (-215) ssize.width > 0 && ssize.height > 0 in function resize\n",
     "output_type": "error",
     "traceback": [
      "\u001b[0;31m---------------------------------------------------------------------------\u001b[0m",
      "\u001b[0;31merror\u001b[0m                                     Traceback (most recent call last)",
      "\u001b[0;32m<ipython-input-7-f7f481724a04>\u001b[0m in \u001b[0;36m<module>\u001b[0;34m\u001b[0m\n\u001b[1;32m     15\u001b[0m \u001b[0mnewX\u001b[0m\u001b[0;34m=\u001b[0m\u001b[0;36m256\u001b[0m\u001b[0;34m\u001b[0m\u001b[0;34m\u001b[0m\u001b[0m\n\u001b[1;32m     16\u001b[0m \u001b[0mnewY\u001b[0m\u001b[0;34m=\u001b[0m\u001b[0;36m32\u001b[0m\u001b[0;34m\u001b[0m\u001b[0;34m\u001b[0m\u001b[0m\n\u001b[0;32m---> 17\u001b[0;31m \u001b[0mimg\u001b[0m \u001b[0;34m=\u001b[0m \u001b[0mcv2\u001b[0m\u001b[0;34m.\u001b[0m\u001b[0mresize\u001b[0m\u001b[0;34m(\u001b[0m\u001b[0mimg\u001b[0m\u001b[0;34m,\u001b[0m\u001b[0;34m(\u001b[0m\u001b[0mint\u001b[0m\u001b[0;34m(\u001b[0m\u001b[0mnewX\u001b[0m\u001b[0;34m)\u001b[0m\u001b[0;34m,\u001b[0m\u001b[0mint\u001b[0m\u001b[0;34m(\u001b[0m\u001b[0mnewY\u001b[0m\u001b[0;34m)\u001b[0m\u001b[0;34m)\u001b[0m\u001b[0;34m)\u001b[0m\u001b[0;34m\u001b[0m\u001b[0;34m\u001b[0m\u001b[0m\n\u001b[0m\u001b[1;32m     18\u001b[0m \u001b[0mimg\u001b[0m\u001b[0;34m=\u001b[0m\u001b[0mimg\u001b[0m\u001b[0;34m/\u001b[0m\u001b[0;36m255\u001b[0m\u001b[0;34m\u001b[0m\u001b[0;34m\u001b[0m\u001b[0m\n\u001b[1;32m     19\u001b[0m \u001b[0my\u001b[0m\u001b[0;34m=\u001b[0m\u001b[0mimg\u001b[0m\u001b[0;34m.\u001b[0m\u001b[0msum\u001b[0m\u001b[0;34m(\u001b[0m\u001b[0maxis\u001b[0m\u001b[0;34m=\u001b[0m\u001b[0;36m0\u001b[0m\u001b[0;34m)\u001b[0m\u001b[0;34m\u001b[0m\u001b[0;34m\u001b[0m\u001b[0m\n",
      "\u001b[0;31merror\u001b[0m: /io/opencv/modules/imgproc/src/imgwarp.cpp:3483: error: (-215) ssize.width > 0 && ssize.height > 0 in function resize\n"
     ]
    }
   ],
   "source": [
    "# -*- coding: utf-8 -*-\n",
    "\"\"\"\n",
    "Created on Sat Feb 23 16:36:39 2019\n",
    "\n",
    "@author: ainok\n",
    "\"\"\"\n",
    "import matplotlib\n",
    "import matplotlib.pyplot as plt \n",
    "import numpy as np\n",
    "import cv2\n",
    "\n",
    "from scipy.spatial.distance import euclidean\n",
    "img = cv2.imread(\"word/kyrios.png\",0);\n",
    "img = cv2.bitwise_not(img)\n",
    "newX=256\n",
    "newY=32\n",
    "img = cv2.resize(img,(int(newX),int(newY)))\n",
    "img=img/255\n",
    "y=img.sum(axis=0)\n",
    "print(y.shape)\n",
    "num=np.size(img,1)\n",
    "b = np.arange(num)\n",
    "print(b.shape)\n",
    "fig, ax = plt.subplots()\n",
    "ax.plot(b,y)\n",
    "plt.show()\n",
    "plt.figure()\n",
    "\n",
    "img2= cv2.imread(\"word/kyrios2.png\",0);\n",
    "img2 = cv2.bitwise_not(img2)\n",
    "\n",
    "\n",
    "img2 = cv2.resize(img2,(int(newX),int(newY)))\n",
    "\n",
    "plt.imshow(img2, cmap='gray')\n",
    "\n",
    "\n",
    "img2=img2/255\n",
    "y2=img2.sum(axis=0)\n",
    "print(y2.shape)\n",
    "num=np.size(img2,1)\n",
    "b = np.arange(num)\n",
    "print(b.shape)\n",
    "fig, ax = plt.subplots()\n",
    "ax.plot(b,y2)\n",
    "plt.show()\n",
    "\n",
    "from fastdtw import fastdtw\n",
    "distance, path = fastdtw(y, y2, dist=euclidean)\n",
    "print(distance)\n",
    "\n",
    "\n",
    "from dtw import dtw\n",
    "euclidean_norm = lambda y, y2: np.abs(y - y2)\n",
    "d, cost_matrix, acc_cost_matrix, path = dtw(y, y2, dist=euclidean_norm)\n",
    "print(d)\n",
    "\n",
    "\n",
    "plt.imshow(acc_cost_matrix.T, origin='lower', cmap='gray', interpolation='nearest')\n",
    "plt.plot(path[0], path[1], 'w')\n",
    "plt.show()\n",
    "\n",
    "\n",
    "\n",
    "\n",
    "\n",
    "\n",
    "\n"
   ]
  },
  {
   "cell_type": "code",
   "execution_count": null,
   "metadata": {},
   "outputs": [],
   "source": []
  }
 ],
 "metadata": {
  "kernelspec": {
   "display_name": "Python 3",
   "language": "python",
   "name": "python3"
  },
  "language_info": {
   "codemirror_mode": {
    "name": "ipython",
    "version": 3
   },
   "file_extension": ".py",
   "mimetype": "text/x-python",
   "name": "python",
   "nbconvert_exporter": "python",
   "pygments_lexer": "ipython3",
   "version": "3.6.7"
  }
 },
 "nbformat": 4,
 "nbformat_minor": 2
}
