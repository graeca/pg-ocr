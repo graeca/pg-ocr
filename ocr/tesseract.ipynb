{
 "cells": [
  {
   "cell_type": "code",
   "execution_count": 6,
   "metadata": {},
   "outputs": [
    {
     "name": "stdout",
     "output_type": "stream",
     "text": [
      "Πνεύματος\n"
     ]
    }
   ],
   "source": [
    "#conda install -c conda-forge tesseract\n",
    "#pip install pytesseract\n",
    "import cv2\n",
    "import pytesseract\n",
    "img = cv2.imread('word/example_03.png')\n",
    "img = cv2.imread('word/pneuma.png')\n",
    "img = cv2.imread('word/patera.png')\n",
    "img = cv2.imread('test/0185.pdf300/262-1186-177-36.png')\n",
    "img = cv2.imread('test/0179.pdf300/2314-1499-166-32.png')\n",
    "img = cv2.imread('test/0164.pdf300/2326-599-165-37.png')\n",
    "#print(img)\n",
    "print(pytesseract.image_to_string(img, lang='grc'))\n",
    "#pytesseract.image_to_string(Image.open(filename), lang='fra')  \n",
    "# OR explicit beforehand converting\n",
    "#print(pytesseract.image_to_string(Image.fromarray(img))"
   ]
  },
  {
   "cell_type": "code",
   "execution_count": null,
   "metadata": {},
   "outputs": [],
   "source": []
  }
 ],
 "metadata": {
  "kernelspec": {
   "display_name": "Python 3",
   "language": "python",
   "name": "python3"
  },
  "language_info": {
   "codemirror_mode": {
    "name": "ipython",
    "version": 3
   },
   "file_extension": ".py",
   "mimetype": "text/x-python",
   "name": "python",
   "nbconvert_exporter": "python",
   "pygments_lexer": "ipython3",
   "version": "3.7.3"
  }
 },
 "nbformat": 4,
 "nbformat_minor": 2
}
