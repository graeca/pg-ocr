{
 "cells": [
  {
   "cell_type": "code",
   "execution_count": 29,
   "metadata": {},
   "outputs": [],
   "source": [
    "\n",
    "import matplotlib.pyplot as plt \n",
    "import numpy as np\n",
    "import cv2\n",
    "newX=256\n",
    "newY=64\n",
    "myList=[]\n",
    "files = [line.rstrip() for line in open(\"word/pneuma.png.txt\", 'r')]\n",
    "for file in files:\n",
    "    #print(file)\n",
    "    #xx=0\n",
    "    img = cv2.imread(file,0);\n",
    "    img = cv2.bitwise_not(img)\n",
    "    img = cv2.resize(img,(int(newX),int(newY)))\n",
    "    img=img/255\n",
    "    y=img.sum(axis=0)\n",
    "    line=':0'\n",
    "    for i in y:\n",
    "        #print(str(i))\n",
    "        line=line+\",\"+str(i)\n",
    "    #print(line)\n",
    "    with open(\"hist.txt\", 'a') as f:\n",
    "        f.write(\"%s\\n\" % line)\n",
    "    #break\n",
    "    \n",
    "    \n",
    "\n",
    "\n",
    "\n",
    "\n",
    "\n",
    "\n",
    "\n",
    "#print(y.shape)\n",
    "#print(y)\n",
    "#num=np.size(img,1)\n",
    "#x = np.arange(num)\n",
    "#print(x.shape)\n",
    "#fig, ax = plt.subplots()\n",
    "#ax.plot(x,y)\n",
    "#plt.show()"
   ]
  },
  {
   "cell_type": "code",
   "execution_count": null,
   "metadata": {},
   "outputs": [],
   "source": []
  },
  {
   "cell_type": "code",
   "execution_count": null,
   "metadata": {},
   "outputs": [],
   "source": []
  }
 ],
 "metadata": {
  "kernelspec": {
   "display_name": "Python 3",
   "language": "python",
   "name": "python3"
  },
  "language_info": {
   "codemirror_mode": {
    "name": "ipython",
    "version": 3
   },
   "file_extension": ".py",
   "mimetype": "text/x-python",
   "name": "python",
   "nbconvert_exporter": "python",
   "pygments_lexer": "ipython3",
   "version": "3.7.3"
  }
 },
 "nbformat": 4,
 "nbformat_minor": 2
}
