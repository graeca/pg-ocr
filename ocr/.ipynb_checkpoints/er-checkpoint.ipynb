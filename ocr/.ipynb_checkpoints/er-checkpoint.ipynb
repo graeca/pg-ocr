{
 "cells": [
  {
   "cell_type": "code",
   "execution_count": null,
   "metadata": {},
   "outputs": [
    {
     "name": "stdout",
     "output_type": "stream",
     "text": [
      "2033\n"
     ]
    },
    {
     "name": "stderr",
     "output_type": "stream",
     "text": [
      "/root/miniconda3/lib/python3.7/site-packages/matplotlib/pyplot.py:514: RuntimeWarning: More than 20 figures have been opened. Figures created through the pyplot interface (`matplotlib.pyplot.figure`) are retained until explicitly closed and may consume too much memory. (To control this warning, see the rcParam `figure.max_open_warning`).\n",
      "  max_open_warning, RuntimeWarning)\n"
     ]
    },
    {
     "name": "stdout",
     "output_type": "stream",
     "text": [
      "0.049137797206640244\n"
     ]
    }
   ],
   "source": [
    "import cv2 as cv2  \n",
    "from matplotlib import pyplot as plt\n",
    "import numpy as np\n",
    "\n",
    " \n",
    "\n",
    "def createPadding(img, margin):\n",
    "    w=img.shape[1]\n",
    "    #print(w)\n",
    "    for i in range(10):\n",
    "        img = np.insert(img, w, values=255, axis=1)\n",
    "\n",
    "    for i in range(10):\n",
    "        img = np.insert(img, 0, values=255, axis=1)    \n",
    "    \n",
    "    h=img.shape[0]\n",
    "    #print(w)\n",
    "    for i in range(10):\n",
    "        img = np.insert(img, h, values=255, axis=0)\n",
    "    \n",
    "    for i in range(10):\n",
    "        img = np.insert(img, 0, values=255, axis=0)\n",
    "    \n",
    "    \n",
    "    return img\n",
    "\n",
    "#words=['word/pneuma.png','word/patera.png']\n",
    "\n",
    "#for word in words:\n",
    "\n",
    "\n",
    "\n",
    "kernel=cv2.getStructuringElement(cv2.MORPH_ELLIPSE,(6,6))\n",
    "#kernel=cv2.getStructuringElement(cv2.MORPH_ELLIPSE,(6,3))\n",
    "#kernel = np.ones((7,7),np.uint8)\n",
    "#kernel = cv2.getStructuringElement(cv2.MORPH_CROSS, (8, 12));\n",
    "\n",
    "imgQ= cv2.imread(\"word/oti.png\",0);  \n",
    "imgQ=createPadding(imgQ, 20)       \n",
    "imgQ = cv2.erode(imgQ, kernel, iterations=1)\n",
    "\n",
    "_, QueryContours, _ = cv2.findContours(imgQ, cv2.RETR_TREE,cv2.CHAIN_APPROX_NONE)\n",
    "\n",
    "\n",
    "plt.figure()\n",
    "plt.imshow(imgQ, cmap='gray')       \n",
    "\n",
    "count=0  \n",
    "files = [line.rstrip() for line in open(\"word/oti.png.txt\", 'r')]\n",
    "print(len(files))\n",
    "for word in files: \n",
    "    \n",
    "    #print(word)\n",
    "    count=count+1\n",
    "    if count<1000:\n",
    "        img= cv2.imread(word,0);\n",
    "        imgO=img.copy()\n",
    "        img=createPadding(img, 20)\n",
    "        img = cv2.erode(img, kernel, iterations=1)\n",
    "        \n",
    "        _, DataContours, _ = cv2.findContours(img, cv2.RETR_TREE,cv2.CHAIN_APPROX_NONE)\n",
    "        \n",
    "        sd = cv2.createShapeContextDistanceExtractor() \n",
    "        abc = sd.computeDistance(QueryContours[1],DataContours[1])\n",
    "        if abc < 0.07:\n",
    "            print(abc)\n",
    "        plt.figure()\n",
    "        plt.xlabel(abc)\n",
    "        plt.imshow(imgO, cmap='gray')\n",
    "\n",
    "        \n",
    "        \n",
    "#img = cv2.dilate(img, kernel, iterations=1)        \n",
    "#print(len(DataContours))"
   ]
  },
  {
   "cell_type": "code",
   "execution_count": 16,
   "metadata": {},
   "outputs": [
    {
     "data": {
      "text/plain": [
       "<matplotlib.image.AxesImage at 0x7f2acb645748>"
      ]
     },
     "execution_count": 16,
     "metadata": {},
     "output_type": "execute_result"
    },
    {
     "data": {
      "image/png": "[encoded data removed]",
      "text/plain": [
       "<Figure size 432x288 with 1 Axes>"
      ]
     },
     "metadata": {
      "needs_background": "light"
     },
     "output_type": "display_data"
    },
    {
     "data": {
      "image/png": "[encoded data removed]",
      "text/plain": [
       "<Figure size 432x288 with 1 Axes>"
      ]
     },
     "metadata": {
      "needs_background": "light"
     },
     "output_type": "display_data"
    }
   ],
   "source": [
    "#Pattern Recognition and Artificial Intelligence Techniques for Cultural Heritage special issue\n",
    "import cv2 as cv2  \n",
    "from matplotlib import pyplot as plt\n",
    "import numpy as np\n",
    "\n",
    "\n",
    "def createPadding(query, margin):\n",
    "    #size=np.size(query)\n",
    "    #query = np.insert(query, w, values=0, axis=1)\n",
    "    #create horizontal space\n",
    "    w=query.shape[0]\n",
    "    x=np.zeros(shape=(w, margin))\n",
    "    x.fill(255)\n",
    "    #x.astype(int)\n",
    "    query = np.hstack((query, x))\n",
    "    query = np.hstack((x,query))\n",
    "    \n",
    "    h=query.shape[1]\n",
    "    y=np.zeros(shape=(margin, h))\n",
    "    y.fill(255)\n",
    "    query = np.vstack((query, y))\n",
    "    query = np.vstack((y,query))\n",
    "\n",
    "    return query\n",
    " \n",
    "\n",
    "\n",
    "def applyCircleErosion(word_img):\n",
    "    kernel=cv2.getStructuringElement(cv2.MORPH_ELLIPSE,(9,9))\n",
    "    erode_img = cv2.erode(word_img, kernel, iterations=1)\n",
    "    return erode_img\n",
    "\n",
    "#===============================\n",
    "#img=cv2.cvtColor(img, cv2.COLOR_BGR2RGB)\n",
    "#img= cv2.imread(\"tmp1/kyrios4.png\",0);\n",
    "#img= cv2.imread(\"tmp1/kyriosa1.png\",0);\n",
    "\n",
    "\n",
    "\n",
    "img= cv2.imread(\"word/patros.png\",0);\n",
    "img= cv2.imread(\"word/kyrios.png\",0);\n",
    "img= cv2.imread(\"word/fos.png\",0);\n",
    "img= cv2.imread(\"word/pneumatos.png\",0);\n",
    "img= cv2.imread(\"test/0164.pdf300/591-208-122-37.png\",0);\n",
    "\n",
    "img=createPadding(img, 20)\n",
    "\n",
    "plt.figure()\n",
    "plt.imshow(img, cmap='gray')\n",
    "\n",
    "img=applyCircleErosion(img)\n",
    "\n",
    "\n",
    "plt.figure()\n",
    "plt.imshow(img, cmap='gray')\n",
    "\n",
    "\n"
   ]
  },
  {
   "cell_type": "code",
   "execution_count": null,
   "metadata": {},
   "outputs": [],
   "source": []
  },
  {
   "cell_type": "code",
   "execution_count": null,
   "metadata": {},
   "outputs": [],
   "source": []
  },
  {
   "cell_type": "code",
   "execution_count": null,
   "metadata": {},
   "outputs": [],
   "source": []
  },
  {
   "cell_type": "code",
   "execution_count": null,
   "metadata": {},
   "outputs": [],
   "source": []
  }
 ],
 "metadata": {
  "kernelspec": {
   "display_name": "Python 3",
   "language": "python",
   "name": "python3"
  },
  "language_info": {
   "codemirror_mode": {
    "name": "ipython",
    "version": 3
   },
   "file_extension": ".py",
   "mimetype": "text/x-python",
   "name": "python",
   "nbconvert_exporter": "python",
   "pygments_lexer": "ipython3",
   "version": "3.7.0"
  }
 },
 "nbformat": 4,
 "nbformat_minor": 2
}
