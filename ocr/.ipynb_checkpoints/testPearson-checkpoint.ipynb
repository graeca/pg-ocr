{
 "cells": [
  {
   "cell_type": "code",
   "execution_count": 145,
   "metadata": {},
   "outputs": [
    {
     "name": "stdout",
     "output_type": "stream",
     "text": [
      "45\n",
      "132\n",
      "48\n",
      "120\n",
      "45\n",
      "132\n"
     ]
    },
    {
     "data": {
      "image/png": "[encoded data removed]",
      "text/plain": [
       "<Figure size 432x288 with 1 Axes>"
      ]
     },
     "metadata": {
      "needs_background": "light"
     },
     "output_type": "display_data"
    },
    {
     "data": {
      "image/png": "[encoded data removed]",
      "text/plain": [
       "<Figure size 432x288 with 1 Axes>"
      ]
     },
     "metadata": {
      "needs_background": "light"
     },
     "output_type": "display_data"
    },
    {
     "data": {
      "image/png": "[encoded data removed]",
      "text/plain": [
       "<Figure size 432x288 with 1 Axes>"
      ]
     },
     "metadata": {
      "needs_background": "light"
     },
     "output_type": "display_data"
    },
    {
     "data": {
      "image/png": "[encoded data removed]",
      "text/plain": [
       "<Figure size 432x288 with 1 Axes>"
      ]
     },
     "metadata": {
      "needs_background": "light"
     },
     "output_type": "display_data"
    },
    {
     "data": {
      "image/png": "[encoded data removed]",
      "text/plain": [
       "<Figure size 432x288 with 1 Axes>"
      ]
     },
     "metadata": {
      "needs_background": "light"
     },
     "output_type": "display_data"
    },
    {
     "data": {
      "image/png": "[encoded data removed]",
      "text/plain": [
       "<Figure size 432x288 with 1 Axes>"
      ]
     },
     "metadata": {
      "needs_background": "light"
     },
     "output_type": "display_data"
    }
   ],
   "source": [
    "import numpy as np\n",
    "import cv2 as cv2\n",
    "from matplotlib import pyplot as plt\n",
    "files = [line.rstrip() for line in open(\"word/pneuma.png.txt\", 'r')]\n",
    "\n",
    "\n",
    "interpList=[]\n",
    "mtrxList=[]\n",
    "metr=0\n",
    "\n",
    "\n",
    "\n",
    "\n",
    "\n",
    "\n",
    "for file in files:\n",
    "    metr=metr+1\n",
    "    if metr>3:\n",
    "        continue\n",
    "    \n",
    "    \n",
    "    img = cv2.imread(file,0)\n",
    "    plt.figure()\n",
    "    plt.imshow(img)\n",
    "    \n",
    "    \n",
    "    \n",
    "    img=img-255 \n",
    "    #img = np.ones((3,5),dtype='int')\n",
    "    countup=0\n",
    "    for row in img:\n",
    "        #print(str(row.sum()))\n",
    "        if row.sum()==0:\n",
    "            countup=countup+1\n",
    "        else:\n",
    "            #print(countup)\n",
    "            break\n",
    "    countdn=0\n",
    "    for row in img[::-1]:\n",
    "        #print(str(row.sum()))\n",
    "        if row.sum()==0:\n",
    "            countdn=countdn+1\n",
    "        else:\n",
    "            #print(countdn)\n",
    "            break\n",
    "    h=img.shape[0]\n",
    "     #img = np.ones((3,5),dtype='int')\n",
    "    \n",
    "    \n",
    "    print(h)\n",
    "    imgupdn=img[countup:h-countdn,:].copy()\n",
    "    #plt.figure()\n",
    "    #plt.imshow(imgupdn)\n",
    "    \n",
    "    #img=img.T\n",
    "    \n",
    "    \n",
    "    img=imgupdn.T\n",
    "    \n",
    "     #img = np.ones((3,5),dtype='int')\n",
    "    countup=0\n",
    "    for row in img:\n",
    "        #print(str(row.sum()))\n",
    "        if row.sum()==0:\n",
    "            countup=countup+1\n",
    "        else:\n",
    "            #print(countup)\n",
    "            break\n",
    "    countdn=0\n",
    "    for row in img[::-1]:\n",
    "        #print(str(row.sum()))\n",
    "        if row.sum()==0:\n",
    "            countdn=countdn+1\n",
    "        else:\n",
    "            #print(countdn)\n",
    "            #countdn=coundn-1\n",
    "            break\n",
    "    h=img.shape[0]\n",
    "    \n",
    "    \n",
    "    \n",
    "    print(h)\n",
    "    imgupdn=img[countup:h-countdn,:].T.copy()\n",
    "    \n",
    "    \n",
    "    w=imgupdn.shape[1]\n",
    "    zerosRows= np.zeros((1,w),dtype='int')\n",
    "    imgupdn=np.r_[zerosRows,imgupdn]\n",
    "    imgupdn=np.r_[imgupdn,zerosRows]\n",
    "    \n",
    "    h=imgupdn.shape[0]\n",
    "    zerosRows= np.zeros((h,1),dtype='int')\n",
    "    imgupdn=np.c_[zerosRows,imgupdn]\n",
    "    imgupdn=np.c_[imgupdn,zerosRows]\n",
    "    \n",
    "    \n",
    "    \n",
    "    plt.figure()\n",
    "    plt.imshow(imgupdn)\n",
    "    \n",
    "    \n",
    "    \n",
    "    \n",
    "    \n",
    "    \n",
    "    \n",
    "    \n",
    "    \n",
    "    \n",
    "    \n",
    "    \n",
    "    \n",
    "    \n",
    "    \n",
    "    \n",
    "    \n",
    "    \n",
    "    \n",
    "    \n",
    "    "
   ]
  },
  {
   "cell_type": "code",
   "execution_count": 42,
   "metadata": {},
   "outputs": [
    {
     "name": "stdout",
     "output_type": "stream",
     "text": [
      "0.0\n",
      "0.0\n",
      "0.0\n",
      "0.2\n",
      "1.0\n",
      "1.0\n",
      "0.0\n",
      "0.0\n",
      "0.0\n",
      "0.0\n"
     ]
    },
    {
     "data": {
      "text/plain": [
       "[<matplotlib.lines.Line2D at 0x7f047c3ba0f0>]"
      ]
     },
     "execution_count": 42,
     "metadata": {},
     "output_type": "execute_result"
    },
    {
     "data": {
      "image/png": "[encoded data removed]",
      "text/plain": [
       "<Figure size 432x288 with 1 Axes>"
      ]
     },
     "metadata": {
      "needs_background": "light"
     },
     "output_type": "display_data"
    }
   ],
   "source": [
    "import numpy as np\n",
    "import cv2 as cv2\n",
    "from matplotlib import pyplot as plt\n",
    "from scipy.stats.stats import pearsonr \n",
    "from scipy.stats.stats import  spearmanr\n",
    "\n",
    "\n",
    "\n",
    "X=np.array([0,0,0,4,20,20,0,0,0,0])\n",
    "Y=np.array([0,0,5,10,10,4,5,0,0,0])\n",
    "\n",
    "\n",
    "x=   np.arange(0, X.shape[0], 1)\n",
    "\n",
    "\n",
    "\n",
    "x2=   np.arange(0, Y.shape[0], 1)\n",
    "\n",
    "max_X=max(X)\n",
    "min_X=min(X)\n",
    "max_Y=max(Y)\n",
    "min_Y=min(Y)\n",
    "\n",
    "DX=max(X)-min(X)\n",
    "DY=max(Y)-min(Y)\n",
    "X=X/DX\n",
    "Y=Y/DY\n",
    "X=X-min(X)\n",
    "Y=Y-min(Y)\n",
    "\n",
    "\n",
    "\n",
    "if max_Y>=max_X:\n",
    "    #X=X*max_Y/max_X\n",
    "    cc=0\n",
    "else:\n",
    "    #Y=Y*max_X/max_Y\n",
    "    cc=0\n",
    "    \n",
    "#print(coef)\n",
    "\n",
    "\n",
    "for xi in range(len(X)):\n",
    "    print(X[xi])\n",
    "    if X[xi]>0:\n",
    "        cc=0\n",
    "\n",
    "\n",
    "\n",
    "\n",
    "plt.figure()\n",
    "plt.plot(x, X, 'r--', )\n",
    "plt.plot(x2, Y, 'b--', )\n",
    "\n",
    "\n",
    "\n"
   ]
  },
  {
   "cell_type": "code",
   "execution_count": 81,
   "metadata": {},
   "outputs": [
    {
     "data": {
      "image/png": "[encoded data removed]",
      "text/plain": [
       "<Figure size 432x288 with 1 Axes>"
      ]
     },
     "metadata": {
      "needs_background": "light"
     },
     "output_type": "display_data"
    },
    {
     "data": {
      "image/png": "[encoded data removed]",
      "text/plain": [
       "<Figure size 432x288 with 1 Axes>"
      ]
     },
     "metadata": {
      "needs_background": "light"
     },
     "output_type": "display_data"
    }
   ],
   "source": [
    "import numpy as np\n",
    "import cv2 as cv2\n",
    "from matplotlib import pyplot as plt\n",
    "from scipy.fftpack import fft, ifft\n",
    "\n",
    "def findFFT(samples):\n",
    "    #samples=np.array([1,2,3,1,4,2])\n",
    "    #samples = np.sin(50.0 * 2.0*np.pi*x) + 0.5*np.sin(80.0 * 2.0*np.pi*x)\n",
    "\n",
    "    top = np.max(samples)\n",
    "    bottom = np.min(samples)\n",
    "    mid = np.average(samples)\n",
    "    normSamples = (samples - mid)\n",
    "    #normSamples = (samples - 0)\n",
    "    normSamples /= top - bottom\n",
    "\n",
    "    spectrum = np.abs(fft(normSamples))\n",
    "    spectrum *= spectrum\n",
    "\n",
    "\n",
    "    #print(spectrum)\n",
    "    #plt.plot(samples)\n",
    "    plt.plot(spectrum)\n",
    "    plt.show()\n",
    "    \n",
    "samples = np.sin(50.0 * 2.0*np.pi*x) + 0.5*np.sin(80.0 * 2.0*np.pi*x)    \n",
    "\n",
    "findFFT(samples)\n",
    "samples = np.sin(50.0 * 24.0*np.pi*x) + 0.5*np.sin(80.0 * 2.0*np.pi*x) \n",
    "findFFT(samples)\n",
    "\n",
    "from scipy.fftpack import fft\n",
    "# Number of sample points\n",
    "N = 600\n",
    "# sample spacing\n",
    "T = 1.0 / 800.0\n",
    "x = np.linspace(0.0, N*T, N)\n",
    "y = np.sin(50.0 * 2.0*np.pi*x) + 0.5*np.sin(80.0 * 2.0*np.pi*x)\n",
    "yf = fft(y)\n",
    "xf = np.linspace(0.0, 1.0/(2.0*T), N//2)\n",
    " \n",
    "#plt.plot(xf, 2.0/N * np.abs(yf[0:N//2]))\n",
    "#plt.grid()\n",
    "#plt.show()"
   ]
  },
  {
   "cell_type": "code",
   "execution_count": 57,
   "metadata": {},
   "outputs": [
    {
     "ename": "TypeError",
     "evalue": "'float' object cannot be interpreted as an integer",
     "output_type": "error",
     "traceback": [
      "\u001b[0;31m---------------------------------------------------------------------------\u001b[0m",
      "\u001b[0;31mTypeError\u001b[0m                                 Traceback (most recent call last)",
      "\u001b[0;32m<ipython-input-57-8fcd8e525a8f>\u001b[0m in \u001b[0;36m<module>\u001b[0;34m\u001b[0m\n\u001b[1;32m     32\u001b[0m \u001b[0mylabel\u001b[0m\u001b[0;34m(\u001b[0m\u001b[0;34m'Amplitude'\u001b[0m\u001b[0;34m)\u001b[0m\u001b[0;34m\u001b[0m\u001b[0m\n\u001b[1;32m     33\u001b[0m \u001b[0msubplot\u001b[0m\u001b[0;34m(\u001b[0m\u001b[0;36m2\u001b[0m\u001b[0;34m,\u001b[0m\u001b[0;36m1\u001b[0m\u001b[0;34m,\u001b[0m\u001b[0;36m2\u001b[0m\u001b[0;34m)\u001b[0m\u001b[0;34m\u001b[0m\u001b[0m\n\u001b[0;32m---> 34\u001b[0;31m \u001b[0mplotSpectrum\u001b[0m\u001b[0;34m(\u001b[0m\u001b[0my\u001b[0m\u001b[0;34m,\u001b[0m\u001b[0mFs\u001b[0m\u001b[0;34m)\u001b[0m\u001b[0;34m\u001b[0m\u001b[0m\n\u001b[0m\u001b[1;32m     35\u001b[0m \u001b[0mshow\u001b[0m\u001b[0;34m(\u001b[0m\u001b[0;34m)\u001b[0m\u001b[0;34m\u001b[0m\u001b[0m\n",
      "\u001b[0;32m<ipython-input-57-8fcd8e525a8f>\u001b[0m in \u001b[0;36mplotSpectrum\u001b[0;34m(y, Fs)\u001b[0m\n\u001b[1;32m     11\u001b[0m  \u001b[0mT\u001b[0m \u001b[0;34m=\u001b[0m \u001b[0mn\u001b[0m\u001b[0;34m/\u001b[0m\u001b[0mFs\u001b[0m\u001b[0;34m\u001b[0m\u001b[0m\n\u001b[1;32m     12\u001b[0m  \u001b[0mfrq\u001b[0m \u001b[0;34m=\u001b[0m \u001b[0mk\u001b[0m\u001b[0;34m/\u001b[0m\u001b[0mT\u001b[0m \u001b[0;31m# two sides frequency range\u001b[0m\u001b[0;34m\u001b[0m\u001b[0m\n\u001b[0;32m---> 13\u001b[0;31m  \u001b[0mfrq\u001b[0m \u001b[0;34m=\u001b[0m \u001b[0mfrq\u001b[0m\u001b[0;34m[\u001b[0m\u001b[0mrange\u001b[0m\u001b[0;34m(\u001b[0m\u001b[0mn\u001b[0m\u001b[0;34m/\u001b[0m\u001b[0;36m2\u001b[0m\u001b[0;34m)\u001b[0m\u001b[0;34m]\u001b[0m \u001b[0;31m# one side frequency range\u001b[0m\u001b[0;34m\u001b[0m\u001b[0m\n\u001b[0m\u001b[1;32m     14\u001b[0m \u001b[0;34m\u001b[0m\u001b[0m\n\u001b[1;32m     15\u001b[0m  \u001b[0mY\u001b[0m \u001b[0;34m=\u001b[0m \u001b[0mfft\u001b[0m\u001b[0;34m(\u001b[0m\u001b[0my\u001b[0m\u001b[0;34m)\u001b[0m\u001b[0;34m/\u001b[0m\u001b[0mn\u001b[0m \u001b[0;31m# fft computing and normalization\u001b[0m\u001b[0;34m\u001b[0m\u001b[0m\n",
      "\u001b[0;31mTypeError\u001b[0m: 'float' object cannot be interpreted as an integer"
     ]
    },
    {
     "data": {
      "image/png": "[encoded data removed]",
      "text/plain": [
       "<Figure size 432x288 with 2 Axes>"
      ]
     },
     "metadata": {
      "needs_background": "light"
     },
     "output_type": "display_data"
    }
   ],
   "source": [
    "from numpy import sin, linspace, pi\n",
    "from pylab import plot, show, title, xlabel, ylabel, subplot\n",
    "from scipy import fft, arange\n",
    "\n",
    "def plotSpectrum(y,Fs):\n",
    " \"\"\"\n",
    " Plots a Single-Sided Amplitude Spectrum of y(t)\n",
    " \"\"\"\n",
    " n = len(y) # length of the signal\n",
    " k = arange(n)\n",
    " T = n/Fs\n",
    " frq = k/T # two sides frequency range\n",
    " frq = frq[range(n/2)] # one side frequency range\n",
    "\n",
    " Y = fft(y)/n # fft computing and normalization\n",
    " Y = Y[range(n/2)]\n",
    " \n",
    " plot(frq,abs(Y),'r') # plotting the spectrum\n",
    " xlabel('Freq (Hz)')\n",
    " ylabel('|Y(freq)|')\n",
    "\n",
    "Fs = 150.0;  # sampling rate\n",
    "Ts = 1.0/Fs; # sampling interval\n",
    "t = arange(0,1,Ts) # time vector\n",
    "\n",
    "ff = 5;   # frequency of the signal\n",
    "y = sin(2*pi*ff*t)\n",
    "\n",
    "subplot(2,1,1)\n",
    "plot(t,y)\n",
    "xlabel('Time')\n",
    "ylabel('Amplitude')\n",
    "subplot(2,1,2)\n",
    "plotSpectrum(y,Fs)\n",
    "show()"
   ]
  },
  {
   "cell_type": "code",
   "execution_count": 63,
   "metadata": {},
   "outputs": [
    {
     "data": {
      "text/plain": [
       "0.8944271909999157"
      ]
     },
     "execution_count": 63,
     "metadata": {},
     "output_type": "execute_result"
    }
   ],
   "source": [
    "import scipy.stats as stats\n",
    "x1 = [12, 2, 1, 12, 2]\n",
    "x2 = [15, 4, 2, 12, 3]\n",
    "tau, p_value = stats.kendalltau(x1, x2)\n",
    "tau"
   ]
  },
  {
   "cell_type": "code",
   "execution_count": null,
   "metadata": {},
   "outputs": [],
   "source": []
  }
 ],
 "metadata": {
  "kernelspec": {
   "display_name": "Python 3",
   "language": "python",
   "name": "python3"
  },
  "language_info": {
   "codemirror_mode": {
    "name": "ipython",
    "version": 3
   },
   "file_extension": ".py",
   "mimetype": "text/x-python",
   "name": "python",
   "nbconvert_exporter": "python",
   "pygments_lexer": "ipython3",
   "version": "3.7.0"
  }
 },
 "nbformat": 4,
 "nbformat_minor": 2
}
