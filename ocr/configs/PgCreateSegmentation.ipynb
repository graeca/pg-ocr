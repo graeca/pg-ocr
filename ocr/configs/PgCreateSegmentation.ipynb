{
 "cells": [
  {
   "cell_type": "code",
   "execution_count": 2,
   "metadata": {},
   "outputs": [
    {
     "name": "stdout",
     "output_type": "stream",
     "text": [
      "source/0151.pdf300.png\n",
      "0151.pdf300\n",
      "7.747747747747748 test/0151.pdf300/2897-252-185-30.png\n",
      "7.542742205833053 test/0151.pdf300/2828-1214-157-38.png\n",
      "6.54940119760479 test/0151.pdf300/2797-1253-167-32.png\n",
      "8.431195423065342 test/0151.pdf300/2695-929-81-31.png\n",
      "6.345848757271285 test/0151.pdf300/2652-507-183-31.png\n",
      "8.25288072251635 test/0151.pdf300/2558-1333-169-28.png\n",
      "9.744861800141743 test/0151.pdf300/2557-1567-166-34.png\n",
      "6.169212690951821 test/0151.pdf300/2548-721-184-37.png\n",
      "6.25 test/0151.pdf300/2540-363-190-32.png\n",
      "7.5518089216719355 test/0151.pdf300/2520-1656-146-39.png\n",
      "8.994003997335112 test/0151.pdf300/2513-1270-158-38.png\n",
      "7.555555555555555 test/0151.pdf300/2506-361-150-30.png\n",
      "7.14455822814956 test/0151.pdf300/2483-1244-247-34.png\n",
      "9.85525100092393 test/0151.pdf300/2441-463-191-34.png\n",
      "6.883604505632039 test/0151.pdf300/2415-833-68-37.png\n",
      "9.398496240601503 test/0151.pdf300/2404-644-182-38.png\n",
      "9.113300492610836 test/0151.pdf300/2272-565-116-25.png\n",
      "6.591796875 test/0151.pdf300/2267-725-128-32.png\n",
      "8.008736803785949 test/0151.pdf300/2195-727-67-31.png\n",
      "9.410944579993028 test/0151.pdf300/2022-1207-151-38.png\n",
      "6.513926325247081 test/0151.pdf300/1999-1541-212-32.png\n",
      "3.9580447259054026 test/0151.pdf300/1980-365-163-31.png\n",
      "8.80281690140845 test/0151.pdf300/1952-1182-142-32.png\n",
      "8.767123287671234 test/0151.pdf300/1882-450-146-25.png\n",
      "7.666666666666667 test/0151.pdf300/1740-1596-100-30.png\n",
      "5.263157894736842 test/0151.pdf300/1597-1184-180-38.png\n",
      "6.091193873999305 test/0151.pdf300/1460-1237-169-34.png\n",
      "9.810479375696767 test/0151.pdf300/1375-1781-115-39.png\n",
      "5.861282969716705 test/0151.pdf300/1369-1305-166-37.png\n",
      "6.249999999999999 test/0151.pdf300/1276-1102-192-35.png\n",
      "8.620689655172413 test/0151.pdf300/1232-263-145-30.png\n",
      "8.065657280316966 test/0151.pdf300/1231-1103-191-37.png\n",
      "8.281573498964804 test/0151.pdf300/1226-924-138-35.png\n",
      "5.874060150375939 test/0151.pdf300/1099-1507-224-38.png\n",
      "8.205542103847188 test/0151.pdf300/1096-264-177-32.png\n",
      "8.04093567251462 test/0151.pdf300/1054-265-144-28.png\n",
      "5.635787249031349 test/0151.pdf300/1003-1155-167-34.png\n",
      "5.733005733005733 test/0151.pdf300/707-1558-165-37.png\n"
     ]
    }
   ],
   "source": [
    "import cv2 as cv2  \n",
    "from matplotlib import pyplot as plt\n",
    "import numpy as np\n",
    "\n",
    "from PgFunctions import clearBorder\n",
    "from PgFunctions import checkDiacritics\n",
    "from PgFunctions import cutPunctuation\n",
    "from PgFunctions import applyCircleErosion\n",
    "from PgFunctions import applyWordSegmentation\n",
    "from PgFunctions import searchData\n",
    "from PgFunctions import createView\n",
    "\n",
    "import shutil\n",
    "import glob, os\n",
    "\n",
    "\n",
    "for filename in glob.glob(\"source/0151.pdf300.png\"):\n",
    "    print(filename)\n",
    "    filename_w_ext = os.path.basename(filename)\n",
    "    name, extension = os.path.splitext(filename_w_ext)\n",
    "    print(name)\n",
    "    folder=name\n",
    "    \n",
    "    if os.path.exists('test/'+folder):    \n",
    "        shutil.rmtree('test/'+folder)\n",
    "        \n",
    "    os.mkdir('test/'+folder)\n",
    "    img = cv2.imread(filename,0)\n",
    "    applyWordSegmentation(img,folder)\n",
    "     \n",
    "   \n",
    "\n",
    "\n",
    "\n",
    "\n"
   ]
  },
  {
   "cell_type": "code",
   "execution_count": null,
   "metadata": {},
   "outputs": [],
   "source": []
  },
  {
   "cell_type": "code",
   "execution_count": null,
   "metadata": {},
   "outputs": [],
   "source": []
  },
  {
   "cell_type": "code",
   "execution_count": null,
   "metadata": {},
   "outputs": [],
   "source": []
  }
 ],
 "metadata": {
  "kernelspec": {
   "display_name": "Python 3",
   "language": "python",
   "name": "python3"
  },
  "language_info": {
   "codemirror_mode": {
    "name": "ipython",
    "version": 3
   },
   "file_extension": ".py",
   "mimetype": "text/x-python",
   "name": "python",
   "nbconvert_exporter": "python",
   "pygments_lexer": "ipython3",
   "version": "3.6.8"
  }
 },
 "nbformat": 4,
 "nbformat_minor": 2
}
