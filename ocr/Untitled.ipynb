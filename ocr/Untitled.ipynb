{
 "cells": [
  {
   "cell_type": "code",
   "execution_count": 11,
   "metadata": {},
   "outputs": [
    {
     "name": "stdout",
     "output_type": "stream",
     "text": [
      "['word/gar.png', 'word/theos.png', 'word/Ihsou.png', 'word/fos.png', 'word/Yios.png', 'word/pneumatos.png', 'word/paulos.png', 'word/ypostateos.png', 'word/agion.png', 'word/oti.png', 'word/kyrios.png', 'word/pneuma.png', 'word/patir.png', 'word/xristou.png', 'word/pisteos.png', 'word/kai.png', 'word/patros.png', 'word/dauid.png']\n"
     ]
    }
   ],
   "source": [
    "wordtokens=!find word -type f -name *.png| sed -n /ipynb/!p\n",
    "print(x)"
   ]
  },
  {
   "cell_type": "code",
   "execution_count": null,
   "metadata": {},
   "outputs": [],
   "source": []
  },
  {
   "cell_type": "code",
   "execution_count": null,
   "metadata": {},
   "outputs": [],
   "source": []
  }
 ],
 "metadata": {
  "kernelspec": {
   "display_name": "Python 3",
   "language": "python",
   "name": "python3"
  },
  "language_info": {
   "codemirror_mode": {
    "name": "ipython",
    "version": 3
   },
   "file_extension": ".py",
   "mimetype": "text/x-python",
   "name": "python",
   "nbconvert_exporter": "python",
   "pygments_lexer": "ipython3",
   "version": "3.7.3"
  }
 },
 "nbformat": 4,
 "nbformat_minor": 2
}
