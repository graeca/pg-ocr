{
 "cells": [
  {
   "cell_type": "code",
   "execution_count": 21,
   "metadata": {},
   "outputs": [
    {
     "data": {
      "text/html": [
       "<a href=http://195.201.141.240:8888/files/ocr/overall/0152.pdf300.html>overall/0152.pdf300.html---1</a>"
      ],
      "text/plain": [
       "<IPython.core.display.HTML object>"
      ]
     },
     "metadata": {},
     "output_type": "display_data"
    },
    {
     "data": {
      "text/html": [
       "<a href=http://195.201.141.240:8888/files/ocr/overall/0153.pdf300.html>overall/0153.pdf300.html---2</a>"
      ],
      "text/plain": [
       "<IPython.core.display.HTML object>"
      ]
     },
     "metadata": {},
     "output_type": "display_data"
    },
    {
     "data": {
      "text/html": [
       "<a href=http://195.201.141.240:8888/files/ocr/overall/0154.pdf300.html>overall/0154.pdf300.html---1</a>"
      ],
      "text/plain": [
       "<IPython.core.display.HTML object>"
      ]
     },
     "metadata": {},
     "output_type": "display_data"
    },
    {
     "data": {
      "text/html": [
       "<a href=http://195.201.141.240:8888/files/ocr/overall/0155.pdf300.html>overall/0155.pdf300.html---2</a>"
      ],
      "text/plain": [
       "<IPython.core.display.HTML object>"
      ]
     },
     "metadata": {},
     "output_type": "display_data"
    },
    {
     "data": {
      "text/html": [
       "<a href=http://195.201.141.240:8888/files/ocr/overall/0158.pdf300.html>overall/0158.pdf300.html---1</a>"
      ],
      "text/plain": [
       "<IPython.core.display.HTML object>"
      ]
     },
     "metadata": {},
     "output_type": "display_data"
    },
    {
     "data": {
      "text/html": [
       "<a href=http://195.201.141.240:8888/files/ocr/overall/0159.pdf300.html>overall/0159.pdf300.html---1</a>"
      ],
      "text/plain": [
       "<IPython.core.display.HTML object>"
      ]
     },
     "metadata": {},
     "output_type": "display_data"
    },
    {
     "data": {
      "text/html": [
       "<a href=http://195.201.141.240:8888/files/ocr/overall/0160.pdf300.html>overall/0160.pdf300.html---4</a>"
      ],
      "text/plain": [
       "<IPython.core.display.HTML object>"
      ]
     },
     "metadata": {},
     "output_type": "display_data"
    },
    {
     "data": {
      "text/html": [
       "<a href=http://195.201.141.240:8888/files/ocr/overall/0162.pdf300.html>overall/0162.pdf300.html---3</a>"
      ],
      "text/plain": [
       "<IPython.core.display.HTML object>"
      ]
     },
     "metadata": {},
     "output_type": "display_data"
    },
    {
     "data": {
      "text/html": [
       "<a href=http://195.201.141.240:8888/files/ocr/overall/0163.pdf300.html>overall/0163.pdf300.html---3</a>"
      ],
      "text/plain": [
       "<IPython.core.display.HTML object>"
      ]
     },
     "metadata": {},
     "output_type": "display_data"
    },
    {
     "data": {
      "text/html": [
       "<a href=http://195.201.141.240:8888/files/ocr/overall/0164.pdf300.html>overall/0164.pdf300.html---2</a>"
      ],
      "text/plain": [
       "<IPython.core.display.HTML object>"
      ]
     },
     "metadata": {},
     "output_type": "display_data"
    },
    {
     "data": {
      "text/html": [
       "<a href=http://195.201.141.240:8888/files/ocr/overall/0165.pdf300.html>overall/0165.pdf300.html---1</a>"
      ],
      "text/plain": [
       "<IPython.core.display.HTML object>"
      ]
     },
     "metadata": {},
     "output_type": "display_data"
    },
    {
     "data": {
      "text/html": [
       "<a href=http://195.201.141.240:8888/files/ocr/overall/0167.pdf300.html>overall/0167.pdf300.html---2</a>"
      ],
      "text/plain": [
       "<IPython.core.display.HTML object>"
      ]
     },
     "metadata": {},
     "output_type": "display_data"
    },
    {
     "data": {
      "text/html": [
       "<a href=http://195.201.141.240:8888/files/ocr/overall/0168.pdf300.html>overall/0168.pdf300.html---2</a>"
      ],
      "text/plain": [
       "<IPython.core.display.HTML object>"
      ]
     },
     "metadata": {},
     "output_type": "display_data"
    },
    {
     "data": {
      "text/html": [
       "<a href=http://195.201.141.240:8888/files/ocr/overall/0169.pdf300.html>overall/0169.pdf300.html---3</a>"
      ],
      "text/plain": [
       "<IPython.core.display.HTML object>"
      ]
     },
     "metadata": {},
     "output_type": "display_data"
    },
    {
     "data": {
      "text/html": [
       "<a href=http://195.201.141.240:8888/files/ocr/overall/0171.pdf300.html>overall/0171.pdf300.html---1</a>"
      ],
      "text/plain": [
       "<IPython.core.display.HTML object>"
      ]
     },
     "metadata": {},
     "output_type": "display_data"
    },
    {
     "data": {
      "text/html": [
       "<a href=http://195.201.141.240:8888/files/ocr/overall/0172.pdf300.html>overall/0172.pdf300.html---1</a>"
      ],
      "text/plain": [
       "<IPython.core.display.HTML object>"
      ]
     },
     "metadata": {},
     "output_type": "display_data"
    },
    {
     "data": {
      "text/html": [
       "<a href=http://195.201.141.240:8888/files/ocr/overall/0173.pdf300.html>overall/0173.pdf300.html---2</a>"
      ],
      "text/plain": [
       "<IPython.core.display.HTML object>"
      ]
     },
     "metadata": {},
     "output_type": "display_data"
    },
    {
     "data": {
      "text/html": [
       "<a href=http://195.201.141.240:8888/files/ocr/overall/0175.pdf300.html>overall/0175.pdf300.html---1</a>"
      ],
      "text/plain": [
       "<IPython.core.display.HTML object>"
      ]
     },
     "metadata": {},
     "output_type": "display_data"
    },
    {
     "data": {
      "text/html": [
       "<a href=http://195.201.141.240:8888/files/ocr/overall/0177.pdf300.html>overall/0177.pdf300.html---3</a>"
      ],
      "text/plain": [
       "<IPython.core.display.HTML object>"
      ]
     },
     "metadata": {},
     "output_type": "display_data"
    },
    {
     "data": {
      "text/html": [
       "<a href=http://195.201.141.240:8888/files/ocr/overall/0179.pdf300.html>overall/0179.pdf300.html---2</a>"
      ],
      "text/plain": [
       "<IPython.core.display.HTML object>"
      ]
     },
     "metadata": {},
     "output_type": "display_data"
    },
    {
     "data": {
      "text/html": [
       "<a href=http://195.201.141.240:8888/files/ocr/overall/0182.pdf300.html>overall/0182.pdf300.html---1</a>"
      ],
      "text/plain": [
       "<IPython.core.display.HTML object>"
      ]
     },
     "metadata": {},
     "output_type": "display_data"
    },
    {
     "data": {
      "text/html": [
       "<a href=http://195.201.141.240:8888/files/ocr/overall/0183.pdf300.html>overall/0183.pdf300.html---2</a>"
      ],
      "text/plain": [
       "<IPython.core.display.HTML object>"
      ]
     },
     "metadata": {},
     "output_type": "display_data"
    },
    {
     "data": {
      "text/html": [
       "<a href=http://195.201.141.240:8888/files/ocr/overall/0184.pdf300.html>overall/0184.pdf300.html---6</a>"
      ],
      "text/plain": [
       "<IPython.core.display.HTML object>"
      ]
     },
     "metadata": {},
     "output_type": "display_data"
    },
    {
     "data": {
      "text/html": [
       "<a href=http://195.201.141.240:8888/files/ocr/overall/0186.pdf300.html>overall/0186.pdf300.html---3</a>"
      ],
      "text/plain": [
       "<IPython.core.display.HTML object>"
      ]
     },
     "metadata": {},
     "output_type": "display_data"
    },
    {
     "data": {
      "text/html": [
       "<a href=http://195.201.141.240:8888/files/ocr/overall/0187.pdf300.html>overall/0187.pdf300.html---2</a>"
      ],
      "text/plain": [
       "<IPython.core.display.HTML object>"
      ]
     },
     "metadata": {},
     "output_type": "display_data"
    },
    {
     "data": {
      "text/html": [
       "<a href=http://195.201.141.240:8888/files/ocr/overall/0188.pdf300.html>overall/0188.pdf300.html---5</a>"
      ],
      "text/plain": [
       "<IPython.core.display.HTML object>"
      ]
     },
     "metadata": {},
     "output_type": "display_data"
    },
    {
     "data": {
      "text/html": [
       "<a href=http://195.201.141.240:8888/files/ocr/overall/0189.pdf300.html>overall/0189.pdf300.html---5</a>"
      ],
      "text/plain": [
       "<IPython.core.display.HTML object>"
      ]
     },
     "metadata": {},
     "output_type": "display_data"
    },
    {
     "data": {
      "text/html": [
       "<a href=http://195.201.141.240:8888/files/ocr/overall/0190.pdf300.html>overall/0190.pdf300.html---3</a>"
      ],
      "text/plain": [
       "<IPython.core.display.HTML object>"
      ]
     },
     "metadata": {},
     "output_type": "display_data"
    },
    {
     "data": {
      "text/html": [
       "<a href=http://195.201.141.240:8888/files/ocr/overall/0191.pdf300.html>overall/0191.pdf300.html---4</a>"
      ],
      "text/plain": [
       "<IPython.core.display.HTML object>"
      ]
     },
     "metadata": {},
     "output_type": "display_data"
    },
    {
     "data": {
      "text/html": [
       "<a href=http://195.201.141.240:8888/files/ocr/overall/0192.pdf300.html>overall/0192.pdf300.html---2</a>"
      ],
      "text/plain": [
       "<IPython.core.display.HTML object>"
      ]
     },
     "metadata": {},
     "output_type": "display_data"
    },
    {
     "data": {
      "text/html": [
       "<a href=http://195.201.141.240:8888/files/ocr/overall/0193.pdf300.html>overall/0193.pdf300.html---2</a>"
      ],
      "text/plain": [
       "<IPython.core.display.HTML object>"
      ]
     },
     "metadata": {},
     "output_type": "display_data"
    },
    {
     "data": {
      "text/html": [
       "<a href=http://195.201.141.240:8888/files/ocr/overall/0194.pdf300.html>overall/0194.pdf300.html---3</a>"
      ],
      "text/plain": [
       "<IPython.core.display.HTML object>"
      ]
     },
     "metadata": {},
     "output_type": "display_data"
    },
    {
     "data": {
      "text/html": [
       "<a href=http://195.201.141.240:8888/files/ocr/overall/0195.pdf300.html>overall/0195.pdf300.html---1</a>"
      ],
      "text/plain": [
       "<IPython.core.display.HTML object>"
      ]
     },
     "metadata": {},
     "output_type": "display_data"
    },
    {
     "name": "stdout",
     "output_type": "stream",
     "text": [
      "77\n"
     ]
    }
   ],
   "source": [
    "import re\n",
    "from IPython.core.display import display, HTML\n",
    "word='paulos'\n",
    "\n",
    "filex=\"../word/\"+word+\".png.txt\"\n",
    "\n",
    "wordImages = [line.rstrip() for line in open(filex, 'r')]  \n",
    "#print(imagesx[0])\n",
    "#wordImage=wordImages[0]\n",
    "\n",
    "\n",
    "pages=!find  ../resultsSpot -type f -name '*.html' -maxdepth 1|sort\n",
    "sums=[]  \n",
    "for page in pages:\n",
    "    count=0       \n",
    "    newpage=re.sub('resultsSpot', \"overall\", page)\n",
    "    fnew= open(newpage,\"w+\")#######################\n",
    "    fold= open(page,\"r\")#######################\n",
    "    content=fold.read()\n",
    "    fold.close()\n",
    "    content=re.sub('border: 1px solid blue', '', content)\n",
    "    \n",
    "    for wordImage in wordImages:\n",
    "        wordImageM='<img src=\"../'+wordImage+'\">'\n",
    "        #print(wordImageM)\n",
    "        x = re.search(wordImageM, content)\n",
    "        \n",
    "        if (x):\n",
    "            count=count+1\n",
    "            #print(wordImage)\n",
    "            #print(page)\n",
    "            #print(\"found\")\n",
    "            content=re.sub(wordImageM, '<div style=\"border: 10px solid red\">'+wordImageM+'</div>', content)              \n",
    "    \n",
    "    fnew.write(content)\n",
    "    fnew.close()\n",
    "     #########################\n",
    "    \n",
    "    if count>0:\n",
    "        #print(page,count)\n",
    "        sums.append(count)\n",
    "        pagex=re.sub('../resultsSpot', \"overall\", page)\n",
    "        #http://195.201.141.240:8888/files/ocr/overall/0153.pdf300.html\n",
    "        #http://http//195.201.141.240:8888/files/ocr/overall/0152.pdf300.html\n",
    "        display(HTML('<a href=http://195.201.141.240:8888/files/ocr/'+pagex+'>'+pagex+'---'+str(count)+'</a>'))\n",
    "    #break\n",
    "\n",
    "#print(sums)\n",
    "total=0\n",
    "for sum1 in sums:\n",
    "    total=total+sum1\n",
    "    #print(sum1)\n",
    "print(total)"
   ]
  },
  {
   "cell_type": "code",
   "execution_count": 3,
   "metadata": {},
   "outputs": [],
   "source": [
    "import re\n",
    "from IPython.core.display import display, HTML\n",
    "word='paulos'\n",
    "\n",
    "filex=\"../word/\"+word+\".png.txt\"\n",
    "filec=\"../word/\"+word+\".section.txt\"\n",
    "fileu=\"../word/\"+word+\".clear.txt\"\n",
    "wordImagesx = [line.rstrip() for line in open(filex, 'r')]\n",
    "wordImagesc = [line.rstrip() for line in open(filec, 'r')]\n",
    "\n",
    "newList=[]\n",
    "for wordx in wordImagesx:\n",
    "    #print(wordx)\n",
    "    flag=0\n",
    "    for wordc in wordImagesc:\n",
    "        #print(wordx,wordc) \n",
    "        if wordx == wordc:\n",
    "            flag=1\n",
    "            break\n",
    "    if flag==0:\n",
    "        newList.append(wordx)\n",
    "\n",
    "\n",
    "with open(fileu, 'w') as f:\n",
    "    for item in newList:\n",
    "        f.write(\"%s\\n\" % item)\n",
    "        \n",
    "\n",
    "        \n",
    "        \n",
    "imagesClear= [line.rstrip() for line in open(fileu, 'r')]\n",
    "\n",
    "#print()"
   ]
  },
  {
   "cell_type": "code",
   "execution_count": null,
   "metadata": {},
   "outputs": [],
   "source": []
  },
  {
   "cell_type": "code",
   "execution_count": null,
   "metadata": {},
   "outputs": [],
   "source": []
  },
  {
   "cell_type": "code",
   "execution_count": 2,
   "metadata": {},
   "outputs": [
    {
     "name": "stdout",
     "output_type": "stream",
     "text": [
      "0151\n",
      "\n",
      "0153\n",
      "κύριος,\n",
      "κύριος,\n",
      "0154\n",
      "κύριος\n",
      "0157\n",
      "\n",
      "0158\n",
      "κύριος,\n",
      "κύριος\n",
      "κύριος\n",
      "κύριος\n",
      "κύριος\n",
      "0162\n",
      "κύριος\n",
      "κύριος»,\n",
      "κύριος\n",
      "κύριος\n",
      "κύριος\n",
      "κύριος\n",
      "0163\n",
      "\n",
      "0164\n",
      "κύριος\n",
      "0169\n",
      "κύριος,\n",
      "κύριος,\n",
      "0171\n",
      "κύριος,\n",
      "0172\n",
      "\n",
      "0176\n",
      "κύριος\n",
      "0177\n",
      "κύριος\n",
      "«κύριος»,\n",
      "«κύριος»\n",
      "κύριος\n",
      "κύριος\n",
      "κύριος\n",
      "«κύριος\n",
      "κύριος\n",
      "κύριος\n",
      "«κύριος\n",
      "κύριος»\n",
      "0178\n",
      "κύριος·\n",
      "«κύριος».\n",
      "0179\n",
      "\n",
      "0181\n",
      "\n",
      "0182\n",
      "κύριος\n",
      "«κύριος\n",
      "0183\n",
      "κύριος\n",
      "κύριος\n",
      "κύριος\n",
      "κύριος\n",
      "0184\n",
      "κύριος\n",
      "0185\n",
      "\n",
      "0186\n",
      "κύριος,\n",
      "κύριος\n",
      "κύριος·\n",
      "κύριος\n",
      "κύριος\n",
      "0187\n",
      "κύριος\n",
      "0189\n",
      "«κύριος\n",
      "κύριος\n",
      "κύριος\n",
      "κύριος\n",
      "κύριος\n",
      "«κύριος\n",
      "κύριος·\n",
      "0190\n",
      "\n",
      "0191\n",
      "\n",
      "0192\n",
      "\n",
      "0193\n",
      "\n",
      "0194\n",
      "«κύριος\n",
      "0195\n",
      "\n",
      "totalTLG= 53\n",
      "totalOCR= 96\n"
     ]
    }
   ],
   "source": [
    "%%bash  \n",
    "#%%bash --out out --err err\n",
    "\n",
    "\n",
    "\n",
    "file=\"../word/agion.png.txt\"\n",
    "word=\"ἅγιον\"\n",
    "file=\"../word/Ihsou.png.txt\"\n",
    "word=\"Ἰησοῦ\"\n",
    "\n",
    "\n",
    "file=\"../word/paulos.png.txt\"\n",
    "word=\"Παῦλος\"\n",
    "file=\"../word/xristou.png.txt\"\n",
    "word=\"Χριστοῦ\"\n",
    "\n",
    "file=\"../word/agenitos.png.txt\"\n",
    "word=\"ἀγένητος\"\n",
    "file=\"../word/monogeni.png.txt\"\n",
    "word=\"μονογενῆ\"\n",
    "\n",
    "file=\"../word/korinthiois.png.txt\"\n",
    "word=\"Κορινθίοις\"\n",
    "file=\"../word/ypostateos.png.txt\"\n",
    "word=\"ὑποστάσεως\"\n",
    "\n",
    "file=\"../word/pantokrator.png.txt\"\n",
    "word=\"παντοκράτωρ\"\n",
    "\n",
    "file=\"../word/akatalhptos.png.txt\"\n",
    "word=\"ἀκατάληπτος\"\n",
    "\n",
    "file=\"../word/apavgazmatos.png.txt\"\n",
    "word=\"ἀπαυγάσματος\"\n",
    "\n",
    "file=\"../word/pantokratoros.png.txt\"\n",
    "word=\"παντοκράτορος\"\n",
    "\n",
    "file=\"../word/exomologisetai.png.txt\"\n",
    "word=\"ἐξομολογήσεται\"\n",
    "\n",
    "\n",
    "file=\"../word/theos.png.txt\"\n",
    "word=\"θεὸς\"\n",
    "\n",
    "file=\"../word/gar.png.txt\"\n",
    "word=\"γὰρ\"\n",
    "\n",
    "file=\"../word/dauid.png.txt\"\n",
    "word=\"∆αυῒδ\"\n",
    "file=\"../word/pneuma.png.txt\"\n",
    "word=\"πνεῦμα\"\n",
    "\n",
    "file=\"../word/kyrios.png.txt\"\n",
    "word=\"κύριος\"\n",
    "\n",
    "echo \"pageOCR,numOCR,numTLG\">\"results/$word\"\".x.txt\"\n",
    "images=`cat \"$file\"|sort`\n",
    "#echo $images\n",
    "pagesOCRall=`cat \"$file\"|sort|sed -r 's@/[^\\/]*\\.png@@g'`\n",
    "\n",
    "\n",
    "pagesOCR=`echo \"$pagesOCRall\"|uniq`\n",
    "\n",
    "#word=\"ἀπαύγασμα\"\n",
    "\n",
    "#echo \"$pagesOCR\"\n",
    "totalOCR=0\n",
    "totalTLG=0\n",
    "for pageOCR in `echo \"$pagesOCR\"`\n",
    "do\n",
    "\n",
    "\n",
    "pageTmp=`echo \"$pageOCR\"|sed -r 's@test\\/0(.*)\\.pdf300@\\1@g'`\n",
    "\n",
    "pageTmp=\"0\"\"$pageTmp\"\n",
    "echo \"$pageTmp\"\n",
    "#echo \"======\"\n",
    "\n",
    "\n",
    "groupimages=`echo \"$images\"|sed -rn 's@'\"$pageTmp\"'@&@gp'`\n",
    "\n",
    "lineimages='0'\n",
    "for img in `echo \"$groupimages\"`\n",
    "do\n",
    "\n",
    "#echo $img\n",
    "lineimages=\"$img\"\",\"\"$lineimages\"\n",
    "\n",
    "done\n",
    "#$lineimages=`echo \"$lineimages\"|sed -r 's@(.*)(,)$@\\1@g'`\n",
    "#echo $lineimages\n",
    "\n",
    "numOCR=`echo \"$pagesOCRall\"|sed -rn 's@('\"$pageTmp\"')@\\1@gp'|wc -l`\n",
    "totalOCR=`expr \"$totalOCR\" + \"$numOCR\"`\n",
    "\n",
    "\n",
    "\n",
    "\n",
    "pageTLG=\"page \"`echo \"$pageOCR\"|sed -r 's@test\\/0(.*)\\.pdf300@\\1@g'`\n",
    "wordlist=`cat \"pages/$pageTLG\"|tr \" \" \"\\n\"|sed -rn 's@('$word')(.*)@\\1\\2@gp'`\n",
    "echo \"$wordlist\"\n",
    "numTLG=`cat \"pages/$pageTLG\"|tr \" \" \"\\n\"|sed -rn 's@('$word')(.*)@\\1\\2@gp'|wc -l`\n",
    "\n",
    "\n",
    "\n",
    "if [ \"$numTLG\" -gt 0 ]\n",
    "then\n",
    "#echo \"$pageTLG\"\n",
    "#echo \"pageTLG= $pageOCR\"\n",
    "\n",
    "#echo \"   TLGwords= $numTLG\"\n",
    "totalTLG=`expr \"$totalTLG\" + \"$numTLG\"`\n",
    "else\n",
    "x=0\n",
    "#echo \"pageTLG= $pageOCR\"\n",
    "#echo \"   TLGwords= 0\"\n",
    "totalTLG=$totalTLG\n",
    "fi\n",
    "#break\n",
    "\n",
    "#echo \"pageOCR= $pageOCR\">>\"results/$word\"\".x.txt\"\n",
    "#echo \"OCRwords= $numOCR\">>\"results/$word\"\".x.txt\"\n",
    "#echo \"TLGwords= $numTLG\">>\"results/$word\"\".x.txt\"\n",
    "\n",
    "\n",
    "echo \"$pageTmp\"\",\"\"$numOCR\"\",\"\"$numTLG\",\"$lineimages\">>\"results/$word\"\".x.txt\"\n",
    "done\n",
    "\n",
    "\n",
    "echo \"totalTLG= $totalTLG\"\n",
    "echo \"totalOCR= $totalOCR\"\n",
    "\n",
    "\n",
    "#echo \"<a href=\"https://google.at\">text</a>\"\n",
    "#from IPython.core.display import display, HTML\n",
    "#display(HTML(\"<a href=\"https://google.at\">text</a>\"))"
   ]
  },
  {
   "cell_type": "code",
   "execution_count": 17,
   "metadata": {},
   "outputs": [
    {
     "data": {
      "text/html": [
       "<a href=http://195.201.141.240:8888/files/ocr/resultsSpot/0153.pdf300.html>0153---OCR=2___TLG=1</a>"
      ],
      "text/plain": [
       "<IPython.core.display.HTML object>"
      ]
     },
     "metadata": {},
     "output_type": "display_data"
    },
    {
     "name": "stdout",
     "output_type": "stream",
     "text": [
      "['test/0153.pdf300/264-874-109-29.png', 'test/0153.pdf300/1458-1509-115-34.png', '0']\n"
     ]
    },
    {
     "data": {
      "text/html": [
       "<img src=\"http:\\/\\/195.201.141.240:8888/files/ocr/test/0153.pdf300/264-874-109-29.png\" alt=\"Smiley face\" height=\"42\" width=\"82\">"
      ],
      "text/plain": [
       "<IPython.core.display.HTML object>"
      ]
     },
     "metadata": {},
     "output_type": "display_data"
    },
    {
     "data": {
      "text/html": [
       "<img src=\"http:\\/\\/195.201.141.240:8888/files/ocr/test/0153.pdf300/1458-1509-115-34.png\" alt=\"Smiley face\" height=\"42\" width=\"82\">"
      ],
      "text/plain": [
       "<IPython.core.display.HTML object>"
      ]
     },
     "metadata": {},
     "output_type": "display_data"
    },
    {
     "data": {
      "text/html": [
       "<a href=http://195.201.141.240:8888/files/ocr/resultsSpot/0159.pdf300.html>0159---OCR=1___TLG=1</a>"
      ],
      "text/plain": [
       "<IPython.core.display.HTML object>"
      ]
     },
     "metadata": {},
     "output_type": "display_data"
    },
    {
     "name": "stdout",
     "output_type": "stream",
     "text": [
      "['test/0159.pdf300/453-1465-115-35.png', '0']\n"
     ]
    },
    {
     "data": {
      "text/html": [
       "<img src=\"http:\\/\\/195.201.141.240:8888/files/ocr/test/0159.pdf300/453-1465-115-35.png\" alt=\"Smiley face\" height=\"42\" width=\"82\">"
      ],
      "text/plain": [
       "<IPython.core.display.HTML object>"
      ]
     },
     "metadata": {},
     "output_type": "display_data"
    },
    {
     "data": {
      "text/html": [
       "<a href=http://195.201.141.240:8888/files/ocr/resultsSpot/0160.pdf300.html>0160---OCR=4___TLG=1</a>"
      ],
      "text/plain": [
       "<IPython.core.display.HTML object>"
      ]
     },
     "metadata": {},
     "output_type": "display_data"
    },
    {
     "name": "stdout",
     "output_type": "stream",
     "text": [
      "['test/0160.pdf300/2141-1167-117-31.png', 'test/0160.pdf300/1350-149-119-35.png', 'test/0160.pdf300/1260-617-102-30.png', 'test/0160.pdf300/1031-828-114-34.png', '0']\n"
     ]
    },
    {
     "data": {
      "text/html": [
       "<img src=\"http:\\/\\/195.201.141.240:8888/files/ocr/test/0160.pdf300/2141-1167-117-31.png\" alt=\"Smiley face\" height=\"42\" width=\"82\">"
      ],
      "text/plain": [
       "<IPython.core.display.HTML object>"
      ]
     },
     "metadata": {},
     "output_type": "display_data"
    },
    {
     "data": {
      "text/html": [
       "<img src=\"http:\\/\\/195.201.141.240:8888/files/ocr/test/0160.pdf300/1350-149-119-35.png\" alt=\"Smiley face\" height=\"42\" width=\"82\">"
      ],
      "text/plain": [
       "<IPython.core.display.HTML object>"
      ]
     },
     "metadata": {},
     "output_type": "display_data"
    },
    {
     "data": {
      "text/html": [
       "<img src=\"http:\\/\\/195.201.141.240:8888/files/ocr/test/0160.pdf300/1260-617-102-30.png\" alt=\"Smiley face\" height=\"42\" width=\"82\">"
      ],
      "text/plain": [
       "<IPython.core.display.HTML object>"
      ]
     },
     "metadata": {},
     "output_type": "display_data"
    },
    {
     "data": {
      "text/html": [
       "<img src=\"http:\\/\\/195.201.141.240:8888/files/ocr/test/0160.pdf300/1031-828-114-34.png\" alt=\"Smiley face\" height=\"42\" width=\"82\">"
      ],
      "text/plain": [
       "<IPython.core.display.HTML object>"
      ]
     },
     "metadata": {},
     "output_type": "display_data"
    },
    {
     "data": {
      "text/html": [
       "<a href=http://195.201.141.240:8888/files/ocr/resultsSpot/0162.pdf300.html>0162---OCR=3___TLG=2</a>"
      ],
      "text/plain": [
       "<IPython.core.display.HTML object>"
      ]
     },
     "metadata": {},
     "output_type": "display_data"
    },
    {
     "name": "stdout",
     "output_type": "stream",
     "text": [
      "['test/0162.pdf300/761-275-128-34.png', 'test/0162.pdf300/1761-537-115-34.png', 'test/0162.pdf300/1444-558-116-33.png', '0']\n"
     ]
    },
    {
     "data": {
      "text/html": [
       "<img src=\"http:\\/\\/195.201.141.240:8888/files/ocr/test/0162.pdf300/761-275-128-34.png\" alt=\"Smiley face\" height=\"42\" width=\"82\">"
      ],
      "text/plain": [
       "<IPython.core.display.HTML object>"
      ]
     },
     "metadata": {},
     "output_type": "display_data"
    },
    {
     "data": {
      "text/html": [
       "<img src=\"http:\\/\\/195.201.141.240:8888/files/ocr/test/0162.pdf300/1761-537-115-34.png\" alt=\"Smiley face\" height=\"42\" width=\"82\">"
      ],
      "text/plain": [
       "<IPython.core.display.HTML object>"
      ]
     },
     "metadata": {},
     "output_type": "display_data"
    },
    {
     "data": {
      "text/html": [
       "<img src=\"http:\\/\\/195.201.141.240:8888/files/ocr/test/0162.pdf300/1444-558-116-33.png\" alt=\"Smiley face\" height=\"42\" width=\"82\">"
      ],
      "text/plain": [
       "<IPython.core.display.HTML object>"
      ]
     },
     "metadata": {},
     "output_type": "display_data"
    },
    {
     "data": {
      "text/html": [
       "<a href=http://195.201.141.240:8888/files/ocr/resultsSpot/0167.pdf300.html>0167---OCR=2___TLG=1</a>"
      ],
      "text/plain": [
       "<IPython.core.display.HTML object>"
      ]
     },
     "metadata": {},
     "output_type": "display_data"
    },
    {
     "name": "stdout",
     "output_type": "stream",
     "text": [
      "['test/0167.pdf300/580-1636-115-33.png', 'test/0167.pdf300/356-402-109-29.png', '0']\n"
     ]
    },
    {
     "data": {
      "text/html": [
       "<img src=\"http:\\/\\/195.201.141.240:8888/files/ocr/test/0167.pdf300/580-1636-115-33.png\" alt=\"Smiley face\" height=\"42\" width=\"82\">"
      ],
      "text/plain": [
       "<IPython.core.display.HTML object>"
      ]
     },
     "metadata": {},
     "output_type": "display_data"
    },
    {
     "data": {
      "text/html": [
       "<img src=\"http:\\/\\/195.201.141.240:8888/files/ocr/test/0167.pdf300/356-402-109-29.png\" alt=\"Smiley face\" height=\"42\" width=\"82\">"
      ],
      "text/plain": [
       "<IPython.core.display.HTML object>"
      ]
     },
     "metadata": {},
     "output_type": "display_data"
    },
    {
     "data": {
      "text/html": [
       "<a href=http://195.201.141.240:8888/files/ocr/resultsSpot/0169.pdf300.html>0169---OCR=3___TLG=1</a>"
      ],
      "text/plain": [
       "<IPython.core.display.HTML object>"
      ]
     },
     "metadata": {},
     "output_type": "display_data"
    },
    {
     "name": "stdout",
     "output_type": "stream",
     "text": [
      "['test/0169.pdf300/637-1375-115-34.png', 'test/0169.pdf300/2602-958-116-35.png', 'test/0169.pdf300/2147-1121-122-33.png', '0']\n"
     ]
    },
    {
     "data": {
      "text/html": [
       "<img src=\"http:\\/\\/195.201.141.240:8888/files/ocr/test/0169.pdf300/637-1375-115-34.png\" alt=\"Smiley face\" height=\"42\" width=\"82\">"
      ],
      "text/plain": [
       "<IPython.core.display.HTML object>"
      ]
     },
     "metadata": {},
     "output_type": "display_data"
    },
    {
     "data": {
      "text/html": [
       "<img src=\"http:\\/\\/195.201.141.240:8888/files/ocr/test/0169.pdf300/2602-958-116-35.png\" alt=\"Smiley face\" height=\"42\" width=\"82\">"
      ],
      "text/plain": [
       "<IPython.core.display.HTML object>"
      ]
     },
     "metadata": {},
     "output_type": "display_data"
    },
    {
     "data": {
      "text/html": [
       "<img src=\"http:\\/\\/195.201.141.240:8888/files/ocr/test/0169.pdf300/2147-1121-122-33.png\" alt=\"Smiley face\" height=\"42\" width=\"82\">"
      ],
      "text/plain": [
       "<IPython.core.display.HTML object>"
      ]
     },
     "metadata": {},
     "output_type": "display_data"
    },
    {
     "data": {
      "text/html": [
       "<a href=http://195.201.141.240:8888/files/ocr/resultsSpot/0179.pdf300.html>0179---OCR=2___TLG=1</a>"
      ],
      "text/plain": [
       "<IPython.core.display.HTML object>"
      ]
     },
     "metadata": {},
     "output_type": "display_data"
    },
    {
     "name": "stdout",
     "output_type": "stream",
     "text": [
      "['test/0179.pdf300/1998-1141-118-33.png', 'test/0179.pdf300/1404-548-104-30.png', '0']\n"
     ]
    },
    {
     "data": {
      "text/html": [
       "<img src=\"http:\\/\\/195.201.141.240:8888/files/ocr/test/0179.pdf300/1998-1141-118-33.png\" alt=\"Smiley face\" height=\"42\" width=\"82\">"
      ],
      "text/plain": [
       "<IPython.core.display.HTML object>"
      ]
     },
     "metadata": {},
     "output_type": "display_data"
    },
    {
     "data": {
      "text/html": [
       "<img src=\"http:\\/\\/195.201.141.240:8888/files/ocr/test/0179.pdf300/1404-548-104-30.png\" alt=\"Smiley face\" height=\"42\" width=\"82\">"
      ],
      "text/plain": [
       "<IPython.core.display.HTML object>"
      ]
     },
     "metadata": {},
     "output_type": "display_data"
    },
    {
     "data": {
      "text/html": [
       "<a href=http://195.201.141.240:8888/files/ocr/resultsSpot/0183.pdf300.html>0183---OCR=2___TLG=1</a>"
      ],
      "text/plain": [
       "<IPython.core.display.HTML object>"
      ]
     },
     "metadata": {},
     "output_type": "display_data"
    },
    {
     "name": "stdout",
     "output_type": "stream",
     "text": [
      "['test/0183.pdf300/2409-428-114-30.png', 'test/0183.pdf300/1777-1649-124-34.png', '0']\n"
     ]
    },
    {
     "data": {
      "text/html": [
       "<img src=\"http:\\/\\/195.201.141.240:8888/files/ocr/test/0183.pdf300/2409-428-114-30.png\" alt=\"Smiley face\" height=\"42\" width=\"82\">"
      ],
      "text/plain": [
       "<IPython.core.display.HTML object>"
      ]
     },
     "metadata": {},
     "output_type": "display_data"
    },
    {
     "data": {
      "text/html": [
       "<img src=\"http:\\/\\/195.201.141.240:8888/files/ocr/test/0183.pdf300/1777-1649-124-34.png\" alt=\"Smiley face\" height=\"42\" width=\"82\">"
      ],
      "text/plain": [
       "<IPython.core.display.HTML object>"
      ]
     },
     "metadata": {},
     "output_type": "display_data"
    },
    {
     "data": {
      "text/html": [
       "<a href=http://195.201.141.240:8888/files/ocr/resultsSpot/0184.pdf300.html>0184---OCR=6___TLG=4</a>"
      ],
      "text/plain": [
       "<IPython.core.display.HTML object>"
      ]
     },
     "metadata": {},
     "output_type": "display_data"
    },
    {
     "name": "stdout",
     "output_type": "stream",
     "text": [
      "['test/0184.pdf300/824-257-115-35.png', 'test/0184.pdf300/688-266-115-33.png', 'test/0184.pdf300/599-184-124-32.png', 'test/0184.pdf300/273-751-116-34.png', 'test/0184.pdf300/1417-380-115-35.png', 'test/0184.pdf300/1281-364-124-33.png', '0']\n"
     ]
    },
    {
     "data": {
      "text/html": [
       "<img src=\"http:\\/\\/195.201.141.240:8888/files/ocr/test/0184.pdf300/824-257-115-35.png\" alt=\"Smiley face\" height=\"42\" width=\"82\">"
      ],
      "text/plain": [
       "<IPython.core.display.HTML object>"
      ]
     },
     "metadata": {},
     "output_type": "display_data"
    },
    {
     "data": {
      "text/html": [
       "<img src=\"http:\\/\\/195.201.141.240:8888/files/ocr/test/0184.pdf300/688-266-115-33.png\" alt=\"Smiley face\" height=\"42\" width=\"82\">"
      ],
      "text/plain": [
       "<IPython.core.display.HTML object>"
      ]
     },
     "metadata": {},
     "output_type": "display_data"
    },
    {
     "data": {
      "text/html": [
       "<img src=\"http:\\/\\/195.201.141.240:8888/files/ocr/test/0184.pdf300/599-184-124-32.png\" alt=\"Smiley face\" height=\"42\" width=\"82\">"
      ],
      "text/plain": [
       "<IPython.core.display.HTML object>"
      ]
     },
     "metadata": {},
     "output_type": "display_data"
    },
    {
     "data": {
      "text/html": [
       "<img src=\"http:\\/\\/195.201.141.240:8888/files/ocr/test/0184.pdf300/273-751-116-34.png\" alt=\"Smiley face\" height=\"42\" width=\"82\">"
      ],
      "text/plain": [
       "<IPython.core.display.HTML object>"
      ]
     },
     "metadata": {},
     "output_type": "display_data"
    },
    {
     "data": {
      "text/html": [
       "<img src=\"http:\\/\\/195.201.141.240:8888/files/ocr/test/0184.pdf300/1417-380-115-35.png\" alt=\"Smiley face\" height=\"42\" width=\"82\">"
      ],
      "text/plain": [
       "<IPython.core.display.HTML object>"
      ]
     },
     "metadata": {},
     "output_type": "display_data"
    },
    {
     "data": {
      "text/html": [
       "<img src=\"http:\\/\\/195.201.141.240:8888/files/ocr/test/0184.pdf300/1281-364-124-33.png\" alt=\"Smiley face\" height=\"42\" width=\"82\">"
      ],
      "text/plain": [
       "<IPython.core.display.HTML object>"
      ]
     },
     "metadata": {},
     "output_type": "display_data"
    },
    {
     "data": {
      "text/html": [
       "<a href=http://195.201.141.240:8888/files/ocr/resultsSpot/0186.pdf300.html>0186---OCR=3___TLG=3</a>"
      ],
      "text/plain": [
       "<IPython.core.display.HTML object>"
      ]
     },
     "metadata": {},
     "output_type": "display_data"
    },
    {
     "name": "stdout",
     "output_type": "stream",
     "text": [
      "['test/0186.pdf300/612-1419-109-29.png', 'test/0186.pdf300/381-769-115-34.png', 'test/0186.pdf300/1162-373-117-34.png', '0']\n"
     ]
    },
    {
     "data": {
      "text/html": [
       "<img src=\"http:\\/\\/195.201.141.240:8888/files/ocr/test/0186.pdf300/612-1419-109-29.png\" alt=\"Smiley face\" height=\"42\" width=\"82\">"
      ],
      "text/plain": [
       "<IPython.core.display.HTML object>"
      ]
     },
     "metadata": {},
     "output_type": "display_data"
    },
    {
     "data": {
      "text/html": [
       "<img src=\"http:\\/\\/195.201.141.240:8888/files/ocr/test/0186.pdf300/381-769-115-34.png\" alt=\"Smiley face\" height=\"42\" width=\"82\">"
      ],
      "text/plain": [
       "<IPython.core.display.HTML object>"
      ]
     },
     "metadata": {},
     "output_type": "display_data"
    },
    {
     "data": {
      "text/html": [
       "<img src=\"http:\\/\\/195.201.141.240:8888/files/ocr/test/0186.pdf300/1162-373-117-34.png\" alt=\"Smiley face\" height=\"42\" width=\"82\">"
      ],
      "text/plain": [
       "<IPython.core.display.HTML object>"
      ]
     },
     "metadata": {},
     "output_type": "display_data"
    },
    {
     "data": {
      "text/html": [
       "<a href=http://195.201.141.240:8888/files/ocr/resultsSpot/0188.pdf300.html>0188---OCR=5___TLG=2</a>"
      ],
      "text/plain": [
       "<IPython.core.display.HTML object>"
      ]
     },
     "metadata": {},
     "output_type": "display_data"
    },
    {
     "name": "stdout",
     "output_type": "stream",
     "text": [
      "['test/0188.pdf300/320-845-123-34.png', 'test/0188.pdf300/1583-147-118-36.png', 'test/0188.pdf300/1492-151-127-35.png', 'test/0188.pdf300/1092-657-102-29.png', 'test/0188.pdf300/1005-851-106-28.png', '0']\n"
     ]
    },
    {
     "data": {
      "text/html": [
       "<img src=\"http:\\/\\/195.201.141.240:8888/files/ocr/test/0188.pdf300/320-845-123-34.png\" alt=\"Smiley face\" height=\"42\" width=\"82\">"
      ],
      "text/plain": [
       "<IPython.core.display.HTML object>"
      ]
     },
     "metadata": {},
     "output_type": "display_data"
    },
    {
     "data": {
      "text/html": [
       "<img src=\"http:\\/\\/195.201.141.240:8888/files/ocr/test/0188.pdf300/1583-147-118-36.png\" alt=\"Smiley face\" height=\"42\" width=\"82\">"
      ],
      "text/plain": [
       "<IPython.core.display.HTML object>"
      ]
     },
     "metadata": {},
     "output_type": "display_data"
    },
    {
     "data": {
      "text/html": [
       "<img src=\"http:\\/\\/195.201.141.240:8888/files/ocr/test/0188.pdf300/1492-151-127-35.png\" alt=\"Smiley face\" height=\"42\" width=\"82\">"
      ],
      "text/plain": [
       "<IPython.core.display.HTML object>"
      ]
     },
     "metadata": {},
     "output_type": "display_data"
    },
    {
     "data": {
      "text/html": [
       "<img src=\"http:\\/\\/195.201.141.240:8888/files/ocr/test/0188.pdf300/1092-657-102-29.png\" alt=\"Smiley face\" height=\"42\" width=\"82\">"
      ],
      "text/plain": [
       "<IPython.core.display.HTML object>"
      ]
     },
     "metadata": {},
     "output_type": "display_data"
    },
    {
     "data": {
      "text/html": [
       "<img src=\"http:\\/\\/195.201.141.240:8888/files/ocr/test/0188.pdf300/1005-851-106-28.png\" alt=\"Smiley face\" height=\"42\" width=\"82\">"
      ],
      "text/plain": [
       "<IPython.core.display.HTML object>"
      ]
     },
     "metadata": {},
     "output_type": "display_data"
    },
    {
     "data": {
      "text/html": [
       "<a href=http://195.201.141.240:8888/files/ocr/resultsSpot/0189.pdf300.html>0189---OCR=5___TLG=3</a>"
      ],
      "text/plain": [
       "<IPython.core.display.HTML object>"
      ]
     },
     "metadata": {},
     "output_type": "display_data"
    },
    {
     "name": "stdout",
     "output_type": "stream",
     "text": [
      "['test/0189.pdf300/693-1319-116-35.png', 'test/0189.pdf300/468-1788-135-35.png', 'test/0189.pdf300/2110-1748-105-27.png', 'test/0189.pdf300/1699-1795-116-33.png', 'test/0189.pdf300/1516-1641-115-34.png', '0']\n"
     ]
    },
    {
     "data": {
      "text/html": [
       "<img src=\"http:\\/\\/195.201.141.240:8888/files/ocr/test/0189.pdf300/693-1319-116-35.png\" alt=\"Smiley face\" height=\"42\" width=\"82\">"
      ],
      "text/plain": [
       "<IPython.core.display.HTML object>"
      ]
     },
     "metadata": {},
     "output_type": "display_data"
    },
    {
     "data": {
      "text/html": [
       "<img src=\"http:\\/\\/195.201.141.240:8888/files/ocr/test/0189.pdf300/468-1788-135-35.png\" alt=\"Smiley face\" height=\"42\" width=\"82\">"
      ],
      "text/plain": [
       "<IPython.core.display.HTML object>"
      ]
     },
     "metadata": {},
     "output_type": "display_data"
    },
    {
     "data": {
      "text/html": [
       "<img src=\"http:\\/\\/195.201.141.240:8888/files/ocr/test/0189.pdf300/2110-1748-105-27.png\" alt=\"Smiley face\" height=\"42\" width=\"82\">"
      ],
      "text/plain": [
       "<IPython.core.display.HTML object>"
      ]
     },
     "metadata": {},
     "output_type": "display_data"
    },
    {
     "data": {
      "text/html": [
       "<img src=\"http:\\/\\/195.201.141.240:8888/files/ocr/test/0189.pdf300/1699-1795-116-33.png\" alt=\"Smiley face\" height=\"42\" width=\"82\">"
      ],
      "text/plain": [
       "<IPython.core.display.HTML object>"
      ]
     },
     "metadata": {},
     "output_type": "display_data"
    },
    {
     "data": {
      "text/html": [
       "<img src=\"http:\\/\\/195.201.141.240:8888/files/ocr/test/0189.pdf300/1516-1641-115-34.png\" alt=\"Smiley face\" height=\"42\" width=\"82\">"
      ],
      "text/plain": [
       "<IPython.core.display.HTML object>"
      ]
     },
     "metadata": {},
     "output_type": "display_data"
    },
    {
     "data": {
      "text/html": [
       "<a href=http://195.201.141.240:8888/files/ocr/resultsSpot/0190.pdf300.html>0190---OCR=3___TLG=1</a>"
      ],
      "text/plain": [
       "<IPython.core.display.HTML object>"
      ]
     },
     "metadata": {},
     "output_type": "display_data"
    },
    {
     "name": "stdout",
     "output_type": "stream",
     "text": [
      "['test/0190.pdf300/412-182-108-35.png', 'test/0190.pdf300/2070-313-107-35.png', 'test/0190.pdf300/1978-392-114-34.png', '0']\n"
     ]
    },
    {
     "data": {
      "text/html": [
       "<img src=\"http:\\/\\/195.201.141.240:8888/files/ocr/test/0190.pdf300/412-182-108-35.png\" alt=\"Smiley face\" height=\"42\" width=\"82\">"
      ],
      "text/plain": [
       "<IPython.core.display.HTML object>"
      ]
     },
     "metadata": {},
     "output_type": "display_data"
    },
    {
     "data": {
      "text/html": [
       "<img src=\"http:\\/\\/195.201.141.240:8888/files/ocr/test/0190.pdf300/2070-313-107-35.png\" alt=\"Smiley face\" height=\"42\" width=\"82\">"
      ],
      "text/plain": [
       "<IPython.core.display.HTML object>"
      ]
     },
     "metadata": {},
     "output_type": "display_data"
    },
    {
     "data": {
      "text/html": [
       "<img src=\"http:\\/\\/195.201.141.240:8888/files/ocr/test/0190.pdf300/1978-392-114-34.png\" alt=\"Smiley face\" height=\"42\" width=\"82\">"
      ],
      "text/plain": [
       "<IPython.core.display.HTML object>"
      ]
     },
     "metadata": {},
     "output_type": "display_data"
    },
    {
     "data": {
      "text/html": [
       "<a href=http://195.201.141.240:8888/files/ocr/resultsSpot/0191.pdf300.html>0191---OCR=4___TLG=1</a>"
      ],
      "text/plain": [
       "<IPython.core.display.HTML object>"
      ]
     },
     "metadata": {},
     "output_type": "display_data"
    },
    {
     "name": "stdout",
     "output_type": "stream",
     "text": [
      "['test/0191.pdf300/533-776-115-30.png', 'test/0191.pdf300/1488-1237-126-34.png', 'test/0191.pdf300/1260-990-115-36.png', 'test/0191.pdf300/1260-852-138-30.png', '0']\n"
     ]
    },
    {
     "data": {
      "text/html": [
       "<img src=\"http:\\/\\/195.201.141.240:8888/files/ocr/test/0191.pdf300/533-776-115-30.png\" alt=\"Smiley face\" height=\"42\" width=\"82\">"
      ],
      "text/plain": [
       "<IPython.core.display.HTML object>"
      ]
     },
     "metadata": {},
     "output_type": "display_data"
    },
    {
     "data": {
      "text/html": [
       "<img src=\"http:\\/\\/195.201.141.240:8888/files/ocr/test/0191.pdf300/1488-1237-126-34.png\" alt=\"Smiley face\" height=\"42\" width=\"82\">"
      ],
      "text/plain": [
       "<IPython.core.display.HTML object>"
      ]
     },
     "metadata": {},
     "output_type": "display_data"
    },
    {
     "data": {
      "text/html": [
       "<img src=\"http:\\/\\/195.201.141.240:8888/files/ocr/test/0191.pdf300/1260-990-115-36.png\" alt=\"Smiley face\" height=\"42\" width=\"82\">"
      ],
      "text/plain": [
       "<IPython.core.display.HTML object>"
      ]
     },
     "metadata": {},
     "output_type": "display_data"
    },
    {
     "data": {
      "text/html": [
       "<img src=\"http:\\/\\/195.201.141.240:8888/files/ocr/test/0191.pdf300/1260-852-138-30.png\" alt=\"Smiley face\" height=\"42\" width=\"82\">"
      ],
      "text/plain": [
       "<IPython.core.display.HTML object>"
      ]
     },
     "metadata": {},
     "output_type": "display_data"
    },
    {
     "data": {
      "text/html": [
       "<a href=http://195.201.141.240:8888/files/ocr/resultsSpot/0192.pdf300.html>0192---OCR=2___TLG=1</a>"
      ],
      "text/plain": [
       "<IPython.core.display.HTML object>"
      ]
     },
     "metadata": {},
     "output_type": "display_data"
    },
    {
     "name": "stdout",
     "output_type": "stream",
     "text": [
      "['test/0192.pdf300/2308-1115-109-29.png', 'test/0192.pdf300/1133-874-116-34.png', '0']\n"
     ]
    },
    {
     "data": {
      "text/html": [
       "<img src=\"http:\\/\\/195.201.141.240:8888/files/ocr/test/0192.pdf300/2308-1115-109-29.png\" alt=\"Smiley face\" height=\"42\" width=\"82\">"
      ],
      "text/plain": [
       "<IPython.core.display.HTML object>"
      ]
     },
     "metadata": {},
     "output_type": "display_data"
    },
    {
     "data": {
      "text/html": [
       "<img src=\"http:\\/\\/195.201.141.240:8888/files/ocr/test/0192.pdf300/1133-874-116-34.png\" alt=\"Smiley face\" height=\"42\" width=\"82\">"
      ],
      "text/plain": [
       "<IPython.core.display.HTML object>"
      ]
     },
     "metadata": {},
     "output_type": "display_data"
    },
    {
     "data": {
      "text/html": [
       "<a href=http://195.201.141.240:8888/files/ocr/resultsSpot/0193.pdf300.html>0193---OCR=2___TLG=2</a>"
      ],
      "text/plain": [
       "<IPython.core.display.HTML object>"
      ]
     },
     "metadata": {},
     "output_type": "display_data"
    },
    {
     "name": "stdout",
     "output_type": "stream",
     "text": [
      "['test/0193.pdf300/511-1497-114-33.png', 'test/0193.pdf300/1310-1430-117-35.png', '0']\n"
     ]
    },
    {
     "data": {
      "text/html": [
       "<img src=\"http:\\/\\/195.201.141.240:8888/files/ocr/test/0193.pdf300/511-1497-114-33.png\" alt=\"Smiley face\" height=\"42\" width=\"82\">"
      ],
      "text/plain": [
       "<IPython.core.display.HTML object>"
      ]
     },
     "metadata": {},
     "output_type": "display_data"
    },
    {
     "data": {
      "text/html": [
       "<img src=\"http:\\/\\/195.201.141.240:8888/files/ocr/test/0193.pdf300/1310-1430-117-35.png\" alt=\"Smiley face\" height=\"42\" width=\"82\">"
      ],
      "text/plain": [
       "<IPython.core.display.HTML object>"
      ]
     },
     "metadata": {},
     "output_type": "display_data"
    },
    {
     "data": {
      "text/html": [
       "<a href=http://195.201.141.240:8888/files/ocr/resultsSpot/0194.pdf300.html>0194---OCR=3___TLG=3</a>"
      ],
      "text/plain": [
       "<IPython.core.display.HTML object>"
      ]
     },
     "metadata": {},
     "output_type": "display_data"
    },
    {
     "name": "stdout",
     "output_type": "stream",
     "text": [
      "['test/0194.pdf300/729-742-114-36.png', 'test/0194.pdf300/498-300-124-35.png', 'test/0194.pdf300/2017-601-116-35.png', '0']\n"
     ]
    },
    {
     "data": {
      "text/html": [
       "<img src=\"http:\\/\\/195.201.141.240:8888/files/ocr/test/0194.pdf300/729-742-114-36.png\" alt=\"Smiley face\" height=\"42\" width=\"82\">"
      ],
      "text/plain": [
       "<IPython.core.display.HTML object>"
      ]
     },
     "metadata": {},
     "output_type": "display_data"
    },
    {
     "data": {
      "text/html": [
       "<img src=\"http:\\/\\/195.201.141.240:8888/files/ocr/test/0194.pdf300/498-300-124-35.png\" alt=\"Smiley face\" height=\"42\" width=\"82\">"
      ],
      "text/plain": [
       "<IPython.core.display.HTML object>"
      ]
     },
     "metadata": {},
     "output_type": "display_data"
    },
    {
     "data": {
      "text/html": [
       "<img src=\"http:\\/\\/195.201.141.240:8888/files/ocr/test/0194.pdf300/2017-601-116-35.png\" alt=\"Smiley face\" height=\"42\" width=\"82\">"
      ],
      "text/plain": [
       "<IPython.core.display.HTML object>"
      ]
     },
     "metadata": {},
     "output_type": "display_data"
    },
    {
     "data": {
      "text/html": [
       "<a href=http://195.201.141.240:8888/files/ocr/resultsSpot/0195.pdf300.html>0195---OCR=1___TLG=1</a>"
      ],
      "text/plain": [
       "<IPython.core.display.HTML object>"
      ]
     },
     "metadata": {},
     "output_type": "display_data"
    },
    {
     "name": "stdout",
     "output_type": "stream",
     "text": [
      "['test/0195.pdf300/1670-1779-124-36.png', '0']\n"
     ]
    },
    {
     "data": {
      "text/html": [
       "<img src=\"http:\\/\\/195.201.141.240:8888/files/ocr/test/0195.pdf300/1670-1779-124-36.png\" alt=\"Smiley face\" height=\"42\" width=\"82\">"
      ],
      "text/plain": [
       "<IPython.core.display.HTML object>"
      ]
     },
     "metadata": {},
     "output_type": "display_data"
    }
   ],
   "source": [
    "from IPython.core.display import display, HTML\n",
    "\n",
    "\n",
    "word=\"ἅγιον\"\n",
    "word=\"Ἰησοῦ\"\n",
    "word=\"κύριος\"\n",
    "word=\"πνεῦμα\"\n",
    "\n",
    "word=\"Χριστοῦ\"\n",
    "word=\"ἀγένητος\"\n",
    "word=\"μονογενῆ\"\n",
    "word=\"Κορινθίοις\"\n",
    "word=\"ὑποστάσεως\"\n",
    "word=\"παντοκράτωρ\"\n",
    "word=\"ἀκατάληπτος\"\n",
    "word=\"ἀπαυγάσματος\"\n",
    "word=\"παντοκράτορος\"\n",
    "word=\"παντοκράτορος\"\n",
    "\n",
    "\n",
    "word=\"θεὸς\"\n",
    "\n",
    "word=\"γὰρ\"\n",
    "word=\"∆αυῒδ\"\n",
    "word=\"ἐξομολογήσεται\"\n",
    "word=\"Παῦλος\"\n",
    "\n",
    "files = [line.rstrip() for line in open(\"results/\"+word+\".x.txt\", 'r')]  \n",
    "count=0\n",
    "for file in files:\n",
    "    #print(file)\n",
    "    count=count+1 #discards the header\n",
    "    if count==1:\n",
    "        continue\n",
    "    \n",
    "    \n",
    "    #print(file.split(\",\"))\n",
    "    myData=file.split(\",\")\n",
    "    \n",
    "    count2=-1\n",
    "    images=[]\n",
    "    for item in myData:\n",
    "       \n",
    "        count2= count2+1\n",
    "        if count2==0:\n",
    "            page=item\n",
    "            pageTLG=\"page\"+page\n",
    "        if count2==1:\n",
    "            numOCR=item\n",
    "            \n",
    "        if count2==2:\n",
    "            numTLG=item  \n",
    "        \n",
    "        if count2>2:\n",
    "            images.append(item)\n",
    "    \n",
    "    #print(myData)\n",
    "    \n",
    "    \n",
    "    \n",
    "    \n",
    "    \n",
    "    \n",
    "    \n",
    "    if int(numTLG)==0:\n",
    "        continue\n",
    "    \n",
    "    \n",
    "    \n",
    "    htmlpage1=\"195.201.141.240:8888/files/ocr/resultsSpot/\"+page+\".pdf300.html\"\n",
    "    #htmlpage2=\"195.201.141.240:8888/files/ocr/truthfiles/pages/\"+pageTLG\n",
    "    #print(page,numOCR,numTLG)\n",
    "    display(HTML('<a href=http://'+htmlpage1+'>'+page+'---OCR='+numOCR+'___TLG='+numTLG+'</a>'))\n",
    "    #display(HTML('<a href=http://'+htmlpage2+'>'+pageTLG+'---OCR='+numOCR+'___TLG='+numTLG+'</a>'))\n",
    "    \n",
    "    \n",
    "    #<img src=\"smiley.gif\" alt=\"Smiley face\" height=\"42\" width=\"42\">\n",
    "    print(images)\n",
    "    \n",
    "    \n",
    "    for i in range(len(images)-1):\n",
    "        \n",
    "        url= 'http:\\/\\/195.201.141.240:8888/files/ocr/'+images[i]\n",
    "        display(HTML('<img src=\"'+url+'\" alt=\"Smiley face\" height=\"42\" width=\"82\">'))\n",
    "        \n",
    "        \n",
    "        "
   ]
  },
  {
   "cell_type": "code",
   "execution_count": null,
   "metadata": {},
   "outputs": [],
   "source": []
  },
  {
   "cell_type": "code",
   "execution_count": null,
   "metadata": {},
   "outputs": [],
   "source": []
  },
  {
   "cell_type": "code",
   "execution_count": null,
   "metadata": {},
   "outputs": [],
   "source": []
  }
 ],
 "metadata": {
  "kernelspec": {
   "display_name": "Python 3",
   "language": "python",
   "name": "python3"
  },
  "language_info": {
   "codemirror_mode": {
    "name": "ipython",
    "version": 3
   },
   "file_extension": ".py",
   "mimetype": "text/x-python",
   "name": "python",
   "nbconvert_exporter": "python",
   "pygments_lexer": "ipython3",
   "version": "3.7.0"
  }
 },
 "nbformat": 4,
 "nbformat_minor": 2
}
