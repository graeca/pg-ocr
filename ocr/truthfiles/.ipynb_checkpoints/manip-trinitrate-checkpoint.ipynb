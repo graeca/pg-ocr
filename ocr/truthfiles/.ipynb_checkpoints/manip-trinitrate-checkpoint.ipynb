{
 "cells": [
  {
   "cell_type": "code",
   "execution_count": 21,
   "metadata": {},
   "outputs": [
    {
     "name": "stdout",
     "output_type": "stream",
     "text": [
      "pages/page 159\n",
      "      1 παντοκράτορος\n",
      "      1 παντοκράτορος.\n",
      "pages/page 186\n",
      "      1 παντοκράτορος\n",
      "number of occurence of ... παντοκράτορος: 3\n"
     ]
    }
   ],
   "source": [
    "%%bash\n",
    "IFS='\n",
    "'\n",
    "#∆αυῒδ\n",
    "#Ῥωμαίοις\n",
    "#ὑποστάσεως\n",
    "words='\n",
    "ἀπαυγάσματος\n",
    "παρασημαίνοντες\n",
    "μονογενῆ\n",
    "παντοκράτωρ\n",
    "ἀγένητος\n",
    "∆αυ.δ\n",
    "Ῥωμα.οις\n",
    ".ποστ.σεως\n",
    "πίστεως\n",
    "ἅγιον\n",
    "Κορινθίοις\n",
    "φῶς\n",
    "Ἰησοῦ\n",
    "Χριστοῦ\n",
    "Παῦλος\n",
    "πατρὸς\n",
    "υἱὸς\n",
    "θεὸν\n",
    "κύριος\n",
    "πνεύματος\n",
    "πνεῦμα\n",
    "θεὸς\n",
    "ὅτι\n",
    "γὰρ\n",
    "καὶ'\n",
    "\n",
    "words='πνεῦμα'\n",
    "words='κύριος'\n",
    "words='θεὸς'\n",
    "words='γὰρ'\n",
    "words='παντοκράτωρ'\n",
    "words='ἀπαυγάσματος'\n",
    "words='μονογενῆ'\n",
    "words='ἀγένητος'\n",
    "words='ἐξομολογήσεται'\n",
    "words='Κορινθίοις'\n",
    "words='παντοκράτορος'\n",
    "words='δικαιοσύνη'\n",
    "\n",
    "\n",
    "for word in `echo \"$words\"`\n",
    "do\n",
    "\n",
    "x=0\n",
    "files=`find  pages -type f|sort`\n",
    "for file in `echo \"$files\"`\n",
    "do\n",
    "res=`cat \"$file\"|tr \" \" \"\\n\"|sort|uniq -c|sed -rn 's@('$word')(.*)@\\1\\2@gp'`\n",
    "if [ \"$res\" = \"\" ] \n",
    "then\n",
    "xx=0\n",
    "else\n",
    "echo $file\n",
    "echo \"$res\"\n",
    "fi\n",
    "\n",
    "\n",
    "num=`cat \"$file\"|tr \" \" \"\\n\"|sort|sed -rn 's@('$word')(.*)@\\1\\2@gp'|wc -l`\n",
    "#echo $num\n",
    "\n",
    "x=`expr $x + $num`\n",
    "done\n",
    "echo \"number of occurence of ... $word: $x\"\n",
    "done\n",
    "\n",
    "\n"
   ]
  },
  {
   "cell_type": "code",
   "execution_count": null,
   "metadata": {},
   "outputs": [],
   "source": []
  },
  {
   "cell_type": "code",
   "execution_count": null,
   "metadata": {},
   "outputs": [],
   "source": []
  }
 ],
 "metadata": {
  "kernelspec": {
   "display_name": "Python 3",
   "language": "python",
   "name": "python3"
  },
  "language_info": {
   "codemirror_mode": {
    "name": "ipython",
    "version": 3
   },
   "file_extension": ".py",
   "mimetype": "text/x-python",
   "name": "python",
   "nbconvert_exporter": "python",
   "pygments_lexer": "ipython3",
   "version": "3.7.0"
  }
 },
 "nbformat": 4,
 "nbformat_minor": 2
}
