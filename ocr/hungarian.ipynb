{
 "cells": [
  {
   "cell_type": "code",
   "execution_count": 19,
   "metadata": {},
   "outputs": [
    {
     "name": "stdout",
     "output_type": "stream",
     "text": [
      "5\n",
      "[0, 0, 5, 0, 0] [(0, 0), (1, 1), (2, 3), (3, 2), (4, 4)]\n"
     ]
    }
   ],
   "source": [
    "import numpy as np\n",
    "from scipy.optimize import linear_sum_assignment\n",
    "import math \n",
    "\n",
    "def closest_pairs(inp1, inp2, threshold=np.inf):\n",
    "    cost = np.zeros((inp1.shape[0], inp2.shape[0]), dtype=np.int64)\n",
    "\n",
    "    for x in range(inp1.shape[0]):\n",
    "        for y in range(inp2.shape[0]):\n",
    "            cost[x][y] = abs(inp1[x] - inp2[y])\n",
    "            #cost[x][y]=math.sqrt(abs(ts1[x]**2-ts2[y]**2))\n",
    "            \n",
    "    #print('matrix-cost')\n",
    "    #print(cost)\n",
    "    # cost for the above example:\n",
    "    # [[16060 15820 14212 14273 38444]\n",
    "    # [16121 15881 14151 14212 38383]\n",
    "    # [17264 17024 13008 13069 37240]\n",
    "    # [17384 17144 12888 12949 37120]\n",
    "    # [24569 24329  5703  5764 29935]\n",
    "    # [55794 55554 25522 25461  1290]\n",
    "    # [55853 55613 25581 25520  1349]]\n",
    "\n",
    "    # hungarian algorithm implementation provided by scipy\n",
    "    row_ind, col_ind = linear_sum_assignment(cost)\n",
    "    # row_ind = [0 1 3 4 5], col_ind = [1 0 3 2 4] \n",
    "    # where (ts1[5] - ts2[4]) = 1290\n",
    "\n",
    "    # if you want the distances only\n",
    "    out = [item \n",
    "           for item in cost[row_ind, col_ind] \n",
    "           if item < threshold]\n",
    "\n",
    "    # if you want the pair of indices filtered by the threshold\n",
    "    pairs = [(row, col) \n",
    "             for row, col in zip(row_ind, col_ind) \n",
    "             if cost[row, col] < threshold]\n",
    "    \n",
    "    \n",
    "    t_cost=0\n",
    "    for p in pairs:\n",
    "        #print(p)\n",
    "        t_cost=t_cost+cost[p]\n",
    "     \n",
    "    print(t_cost)\n",
    "        \n",
    "    return out, pairs\n",
    "\n",
    "\n",
    "if __name__ == '__main__':\n",
    "    ts1=np.array([ 1311242821.0, 1311242882.0, 1311244025.0, 1311244145.0, 1311251330.0, 1311282555.0, 1311282614.0])\n",
    "    \n",
    "    ts2=np.array([ 1311226761.0, 1311227001.0, 1311257033.0, 1311257094.0, 1311281265.0])\n",
    "    \n",
    "    ts1=np.array([ 1.0, 2.0, 5.0, 5.0, 4.0])\n",
    "    \n",
    "    ts2=np.array([ 1.0, 2.0, 5.0, 10.0, 4.0])\n",
    "    \n",
    "    \n",
    "    \n",
    "\n",
    "    #out, pairs = closest_pairs(ts1, ts2, 6000)\n",
    "    #print(out, pairs)\n",
    "    # out = [5703, 1290] \n",
    "    # pairs = [(4, 2), (5, 4)]\n",
    "\n",
    "    out, pairs = closest_pairs(ts1, ts2)\n",
    "    print(out, pairs)\n",
    "    # out = [15820, 16121, 12949, 5703, 1290] \n",
    "    # pairs = [(0, 1), (1, 0), (3, 3), (4, 2), (5, 4)]\n",
    "    \n",
    "    \n",
    "    "
   ]
  },
  {
   "cell_type": "code",
   "execution_count": null,
   "metadata": {},
   "outputs": [],
   "source": []
  }
 ],
 "metadata": {
  "kernelspec": {
   "display_name": "Python 3",
   "language": "python",
   "name": "python3"
  },
  "language_info": {
   "codemirror_mode": {
    "name": "ipython",
    "version": 3
   },
   "file_extension": ".py",
   "mimetype": "text/x-python",
   "name": "python",
   "nbconvert_exporter": "python",
   "pygments_lexer": "ipython3",
   "version": "3.7.0"
  }
 },
 "nbformat": 4,
 "nbformat_minor": 2
}
