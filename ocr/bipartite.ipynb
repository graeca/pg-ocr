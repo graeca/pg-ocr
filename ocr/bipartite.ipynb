{
 "cells": [
  {
   "cell_type": "code",
   "execution_count": 46,
   "metadata": {},
   "outputs": [
    {
     "name": "stdout",
     "output_type": "stream",
     "text": [
      "[[ 4  5  1  3]\n",
      " [23  5  1  5]]\n",
      "[3 2]\n",
      "[0 1]\n",
      "4\n"
     ]
    },
    {
     "data": {
      "text/plain": [
       "<matplotlib.image.AxesImage at 0x7f35577309b0>"
      ]
     },
     "execution_count": 46,
     "metadata": {},
     "output_type": "execute_result"
    },
    {
     "data": {
      "image/png": "[encoded data removed]",
      "text/plain": [
       "<Figure size 432x288 with 1 Axes>"
      ]
     },
     "metadata": {
      "needs_background": "light"
     },
     "output_type": "display_data"
    },
    {
     "data": {
      "image/png": "[encoded data removed]",
      "text/plain": [
       "<Figure size 432x288 with 1 Axes>"
      ]
     },
     "metadata": {
      "needs_background": "light"
     },
     "output_type": "display_data"
    },
    {
     "data": {
      "image/png": "[encoded data removed]",
      "text/plain": [
       "<Figure size 432x288 with 1 Axes>"
      ]
     },
     "metadata": {
      "needs_background": "light"
     },
     "output_type": "display_data"
    }
   ],
   "source": [
    "import matplotlib.pyplot as plt \n",
    "import numpy as np\n",
    "from scipy.optimize import linear_sum_assignment\n",
    "import cv2\n",
    "newX=5\n",
    "newY=5\n",
    "file1=\"word/kyrios.png\"\n",
    "img1 = cv2.imread(file1,0);\n",
    "img1 = cv2.resize(img1,(int(newX),int(newY)))\n",
    "img1=img = cv2.bitwise_not(img1)\n",
    "plt.figure()\n",
    "plt.imshow(img1, cmap='gray')\n",
    "file2=\"word/pneuma.png\"\n",
    "img2 = cv2.imread(file2,0);\n",
    "img2 = cv2.resize(img2,(int(newX),int(newY)))\n",
    "img2= cv2.bitwise_not(img2)\n",
    "plt.figure()\n",
    "plt.imshow(img2, cmap='gray')\n",
    "cost=abs(img1-img2)\n",
    "cost = np.array([[4,5, 1, 3], [23,5, 1, 5]])\n",
    "\n",
    "row_ind, col_ind = linear_sum_assignment(cost)\n",
    "print(cost)\n",
    "print(col_ind)\n",
    "print(row_ind)\n",
    "print(cost[row_ind, col_ind].sum())\n",
    "\n",
    "\n",
    "\n",
    "plt.figure()\n",
    "plt.imshow(cost, cmap='gray')\n",
    "\n"
   ]
  },
  {
   "cell_type": "code",
   "execution_count": null,
   "metadata": {},
   "outputs": [],
   "source": []
  },
  {
   "cell_type": "code",
   "execution_count": null,
   "metadata": {},
   "outputs": [],
   "source": []
  }
 ],
 "metadata": {
  "kernelspec": {
   "display_name": "Python 3",
   "language": "python",
   "name": "python3"
  },
  "language_info": {
   "codemirror_mode": {
    "name": "ipython",
    "version": 3
   },
   "file_extension": ".py",
   "mimetype": "text/x-python",
   "name": "python",
   "nbconvert_exporter": "python",
   "pygments_lexer": "ipython3",
   "version": "3.7.3"
  }
 },
 "nbformat": 4,
 "nbformat_minor": 2
}
