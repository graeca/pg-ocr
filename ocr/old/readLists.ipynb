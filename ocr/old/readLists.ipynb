{
 "cells": [
  {
   "cell_type": "code",
   "execution_count": 77,
   "metadata": {
    "collapsed": true
   },
   "outputs": [],
   "source": [
    "%%bash\n",
    "x=`ls word`\n",
    "echo \"$x\" > words.txt\n"
   ]
  },
  {
   "cell_type": "code",
   "execution_count": 82,
   "metadata": {
    "code_folding": [],
    "scrolled": false
   },
   "outputs": [
    {
     "data": {
      "text/html": [
       "<img src=word/1249test.png>1249test.png<img src=word/2335test.png>2335test.png<img src=word/444.png>444.png<img src=word/kkk.png>kkk.png<img src=word/ppp.png>ppp.png<img src=word/qqqq.png>qqqq.png<img src=word/test429.png>test429.png"
      ],
      "text/plain": [
       "<IPython.core.display.HTML object>"
      ]
     },
     "metadata": {},
     "output_type": "display_data"
    }
   ],
   "source": [
    "#score=[1,2,3,4,5]\n",
    "\n",
    "\n",
    "\n",
    "#with open(\"f.txt\", 'r') as f:\n",
    "    #score = ['<img src='+line.rstrip('\\n')+'>' for line in f]\n",
    "\n",
    "html=''\n",
    "with open(\"words.txt\", 'r') as f:\n",
    "    for line in f:\n",
    "        #print('<img src='+line.rstrip('\\n')+'>')\n",
    "        html=html+'<img src=word/'+line.rstrip('\\n')+'>'+line.rstrip('\\n')\n",
    "        #html=html+'<img src=word/'+line+'>'+line\n",
    "    \n",
    "\n",
    "#print(html)\n",
    "\n",
    "\n",
    "from IPython.display import display, HTML\n",
    "#js = \"<script>alert('Hello World!');</script>\"\n",
    "#js='<img src=word/1249test.png >'\n",
    "display(HTML(html))\n",
    "\n"
   ]
  },
  {
   "cell_type": "code",
   "execution_count": null,
   "metadata": {
    "collapsed": true
   },
   "outputs": [],
   "source": []
  },
  {
   "cell_type": "code",
   "execution_count": 42,
   "metadata": {},
   "outputs": [
    {
     "name": "stdout",
     "output_type": "stream",
     "text": [
      "['1', '2', '3', '4', '5']\n"
     ]
    }
   ],
   "source": [
    "score=[1,2,3,4,5]\n",
    "\n",
    "with open(\"file.txt\", 'w') as f:\n",
    "    for s in score:\n",
    "        f.write(str(s) + '\\n')\n",
    "\n",
    "with open(\"file.txt\", 'r') as f:\n",
    "    score = [line.rstrip('\\n') for line in f]\n",
    "\n",
    "\n",
    "print(score)"
   ]
  },
  {
   "cell_type": "code",
   "execution_count": 16,
   "metadata": {
    "code_folding": []
   },
   "outputs": [
    {
     "data": {
      "application/javascript": [
       "element.append(\"<div id='chart1'>tgtgtgtgtg</div>\");\n",
       "var x=0\n",
       "\n"
      ],
      "text/plain": [
       "<IPython.core.display.Javascript object>"
      ]
     },
     "metadata": {},
     "output_type": "display_data"
    }
   ],
   "source": [
    "%%javascript\n",
    "element.append(\"<div id='chart1'>tgtgtgtgtg</div>\");\n",
    "var x=0\n",
    "\n",
    "\n"
   ]
  },
  {
   "cell_type": "code",
   "execution_count": 12,
   "metadata": {},
   "outputs": [
    {
     "name": "stdout",
     "output_type": "stream",
     "text": [
      "0\n"
     ]
    }
   ],
   "source": [
    "x=0\n",
    "print(x)\n",
    "\n"
   ]
  },
  {
   "cell_type": "code",
   "execution_count": 15,
   "metadata": {},
   "outputs": [
    {
     "data": {
      "text/html": [
       "<script>alert('Hello World!');</script>"
      ],
      "text/plain": [
       "<IPython.core.display.HTML object>"
      ]
     },
     "metadata": {},
     "output_type": "display_data"
    }
   ],
   "source": [
    "from IPython.display import display, HTML\n",
    "js = \"<script>alert('Hello World!');</script>\"\n",
    "display(HTML(js))"
   ]
  },
  {
   "cell_type": "code",
   "execution_count": 14,
   "metadata": {},
   "outputs": [
    {
     "data": {
      "text/html": [
       "\n",
       "<div style=\"background-color:gainsboro; border:solid black; width:300px; padding:20px;\">\n",
       "Variable Name: <input type=\"text\" id=\"var_name\" value=\"foo\"><br>\n",
       "Variable Value: <input type=\"text\" id=\"var_value\" value=\"bar\"><br>\n",
       "<button onclick=\"set_value()\">Set Value</button>\n",
       "</div>\n",
       "\n",
       "<script type=\"text/Javascript\">\n",
       "    function set_value(){\n",
       "        var var_name = document.getElementById('var_name').value;\n",
       "        var var_value = document.getElementById('var_value').value;\n",
       "        var command = var_name + \" = '\" + var_value + \"'\";\n",
       "        console.log(\"Executing Command: \" + command);\n",
       "        \n",
       "        var kernel = IPython.notebook.kernel;\n",
       "        kernel.execute(command);\n",
       "    }\n",
       "</script>\n"
      ],
      "text/plain": [
       "<IPython.core.display.HTML object>"
      ]
     },
     "execution_count": 14,
     "metadata": {},
     "output_type": "execute_result"
    }
   ],
   "source": [
    "from IPython.display import HTML\n",
    "\n",
    "input_form = \"\"\"\n",
    "<div style=\"background-color:gainsboro; border:solid black; width:300px; padding:20px;\">\n",
    "Variable Name: <input type=\"text\" id=\"var_name\" value=\"foo\"><br>\n",
    "Variable Value: <input type=\"text\" id=\"var_value\" value=\"bar\"><br>\n",
    "<button onclick=\"set_value()\">Set Value</button>\n",
    "</div>\n",
    "\"\"\"\n",
    "\n",
    "javascript = \"\"\"\n",
    "<script type=\"text/Javascript\">\n",
    "    function set_value(){\n",
    "        var var_name = document.getElementById('var_name').value;\n",
    "        var var_value = document.getElementById('var_value').value;\n",
    "        var command = var_name + \" = '\" + var_value + \"'\";\n",
    "        console.log(\"Executing Command: \" + command);\n",
    "        \n",
    "        var kernel = IPython.notebook.kernel;\n",
    "        kernel.execute(command);\n",
    "    }\n",
    "</script>\n",
    "\"\"\"\n",
    "\n",
    "HTML(input_form + javascript)"
   ]
  },
  {
   "cell_type": "code",
   "execution_count": 19,
   "metadata": {},
   "outputs": [
    {
     "data": {
      "application/javascript": [
       "if (IPython.notebook.kernel) {\n",
       "    IPython.notebook.kernel.execute('1')\n",
       "}"
      ],
      "text/plain": [
       "<IPython.core.display.Javascript object>"
      ]
     },
     "metadata": {},
     "output_type": "display_data"
    }
   ],
   "source": [
    "%%javascript \n",
    "if (IPython.notebook.kernel) {\n",
    "    IPython.notebook.kernel.execute('1')\n",
    "}"
   ]
  },
  {
   "cell_type": "code",
   "execution_count": null,
   "metadata": {
    "collapsed": true
   },
   "outputs": [],
   "source": []
  },
  {
   "cell_type": "code",
   "execution_count": null,
   "metadata": {
    "collapsed": true
   },
   "outputs": [],
   "source": []
  }
 ],
 "metadata": {
  "kernelspec": {
   "display_name": "Python 3",
   "language": "python",
   "name": "python3"
  },
  "language_info": {
   "codemirror_mode": {
    "name": "ipython",
    "version": 3
   },
   "file_extension": ".py",
   "mimetype": "text/x-python",
   "name": "python",
   "nbconvert_exporter": "python",
   "pygments_lexer": "ipython3",
   "version": "3.6.3"
  }
 },
 "nbformat": 4,
 "nbformat_minor": 2
}
