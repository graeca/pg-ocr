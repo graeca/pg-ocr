{
 "cells": [
  {
   "cell_type": "code",
   "execution_count": 6,
   "metadata": {},
   "outputs": [],
   "source": [
    "\n",
    "\n",
    "#workFile='pg/author1/work.txt'\n",
    "\n",
    "\n",
    "def createFragmentsResource():\n",
    "    workfiles=!find pg -type f|sort\n",
    "    for workfile in workfiles:\n",
    "        #print('splitting:',workfile)\n",
    "        #print(i)\n",
    "        !sh splitWork.sh {workfile}\n",
    "    \n"
   ]
  },
  {
   "cell_type": "code",
   "execution_count": 7,
   "metadata": {},
   "outputs": [],
   "source": [
    "def createWordsResource():\n",
    "    !rm -r words\n",
    "    !mkdir words\n",
    "\n",
    "    fragmentfiles=!find fragments -type f|sort\n",
    "    for fragmentfile in fragmentfiles:\n",
    "\n",
    "\n",
    "\n",
    "        #================================\n",
    "        #fragmentfile='fragments/fragment--00000.frg'\n",
    "        f = open(fragmentfile, \"r\")\n",
    "        #print(f.read())\n",
    "        fragmentcontent=f.read()\n",
    "        f.close()\n",
    "        fragmentWordsList=fragmentcontent.split()\n",
    "\n",
    "\n",
    "\n",
    "        from itertools import groupby\n",
    "        #print(fragmentWordsList)\n",
    "\n",
    "        #fragmentUniqueWordsList = list(set(fragmentWordsList))\n",
    "\n",
    "        #print(fragmentUniqueWordsList)\n",
    "        wordsPlusCounts = [(i, len(list(c))) for i,c in groupby(sorted(fragmentWordsList))]\n",
    "        #print(counts)\n",
    "        #print(counts[3][0])\n",
    "        #for word in fragmentUniqueWordsList:\n",
    "        for wordPlusCount in wordsPlusCounts:\n",
    "            word=wordPlusCount[0]\n",
    "            count=wordPlusCount[1]\n",
    "            word=''.join(filter(str.isalnum, word))\n",
    "            #print(word,count)\n",
    "\n",
    "            #Create Word-files\n",
    "            !echo {fragmentfile}>>words/{word}\n",
    "            #stem=word[0:2]\n",
    "            #print(stem)\n",
    "\n",
    "    \n"
   ]
  },
  {
   "cell_type": "code",
   "execution_count": null,
   "metadata": {},
   "outputs": [
    {
     "name": "stdout",
     "output_type": "stream",
     "text": [
      "\n",
      "\n",
      "\n",
      "\n",
      "\n"
     ]
    }
   ],
   "source": [
    "\n",
    "def createStemsResource():\n",
    "    import os\n",
    "    !rm -r stems\n",
    "    !mkdir stems\n",
    "    wordfiles=!find words/ -type f|sort\n",
    "    for wordfile in wordfiles:\n",
    "        word=os.path.basename(wordfile)\n",
    "        #Create Stem-files\n",
    "        stem=word[0:2]\n",
    "        #print(stem)\n",
    "        !echo {word}>>stems/{stem}\n",
    "        \n",
    "        \n",
    "        \n"
   ]
  },
  {
   "cell_type": "code",
   "execution_count": 9,
   "metadata": {},
   "outputs": [
    {
     "name": "stdout",
     "output_type": "stream",
     "text": [
      "created fragments\n",
      "created words\n",
      "\n",
      "\n",
      "\n",
      "\n",
      "\n",
      "created stems\n"
     ]
    }
   ],
   "source": [
    "createFragmentsResource()\n",
    "print('created fragments')\n",
    "createWordsResource()\n",
    "print('created words')\n",
    "createStemsResource()\n",
    "print('created stems')"
   ]
  },
  {
   "cell_type": "code",
   "execution_count": 21,
   "metadata": {},
   "outputs": [
    {
     "name": "stdout",
     "output_type": "stream",
     "text": [
      "e8666c30fa3f18d1cfc333bba8fddb7d849724b5\n"
     ]
    }
   ],
   "source": [
    "!echo 'lll'|sha1sum|sed 's@[ ]\\|[-]@@g'"
   ]
  },
  {
   "cell_type": "code",
   "execution_count": null,
   "metadata": {},
   "outputs": [],
   "source": []
  }
 ],
 "metadata": {
  "kernelspec": {
   "display_name": "Python 3",
   "language": "python",
   "name": "python3"
  },
  "language_info": {
   "codemirror_mode": {
    "name": "ipython",
    "version": 3
   },
   "file_extension": ".py",
   "mimetype": "text/x-python",
   "name": "python",
   "nbconvert_exporter": "python",
   "pygments_lexer": "ipython3",
   "version": "3.6.7"
  }
 },
 "nbformat": 4,
 "nbformat_minor": 2
}
