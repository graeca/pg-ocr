{
 "cells": [
  {
   "cell_type": "code",
   "execution_count": 3,
   "metadata": {},
   "outputs": [
    {
     "name": "stdout",
     "output_type": "stream",
     "text": [
      "splitting: pg/author2/work2.txt\n",
      "splitting: pg/author1/work1.txt\n"
     ]
    }
   ],
   "source": [
    "workFile='pg/author1/work.txt'\n",
    "files=!find pg -type f\n",
    "for file in files:\n",
    "    print('splitting:',file)\n",
    "    #print(i)\n",
    "    !sh splitWork.sh {file}\n",
    "\n"
   ]
  },
  {
   "cell_type": "code",
   "execution_count": 33,
   "metadata": {},
   "outputs": [
    {
     "name": "stdout",
     "output_type": "stream",
     "text": [
      "e8666c30fa3f18d1cfc333bba8fddb7d849724b5\n"
     ]
    }
   ],
   "source": [
    "!echo 'lll'|sha1sum|sed 's@[ ]\\|[-]@@g'"
   ]
  },
  {
   "cell_type": "code",
   "execution_count": null,
   "metadata": {},
   "outputs": [],
   "source": []
  },
  {
   "cell_type": "code",
   "execution_count": null,
   "metadata": {},
   "outputs": [],
   "source": []
  }
 ],
 "metadata": {
  "kernelspec": {
   "display_name": "Python 3",
   "language": "python",
   "name": "python3"
  },
  "language_info": {
   "codemirror_mode": {
    "name": "ipython",
    "version": 3
   },
   "file_extension": ".py",
   "mimetype": "text/x-python",
   "name": "python",
   "nbconvert_exporter": "python",
   "pygments_lexer": "ipython3",
   "version": "3.6.7"
  }
 },
 "nbformat": 4,
 "nbformat_minor": 2
}
