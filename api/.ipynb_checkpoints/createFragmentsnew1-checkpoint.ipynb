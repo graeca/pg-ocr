{
 "cells": [
  {
   "cell_type": "code",
   "execution_count": 4,
   "metadata": {},
   "outputs": [
    {
     "name": "stdout",
     "output_type": "stream",
     "text": [
      "splitting: pg/author1/work1.txt\n",
      "author1\n",
      "splitting: pg/author2/work2.txt\n",
      "author2\n"
     ]
    }
   ],
   "source": [
    "\n",
    "\n",
    "#workFile='pg/author1/work.txt'\n",
    "\n",
    "\n",
    "def createFragmentsResource():\n",
    "    workFiles=!find pg -type f|sort\n",
    "    for workFile in workFiles:\n",
    "        print('splitting:',workFile)\n",
    "        #print(workFile.split('/'))\n",
    "        collection_author_work=workFile.split('/')\n",
    "        authorId=collection_author_work[1]\n",
    "        print(authorId)\n",
    "        workId=collection_author_work[2]\n",
    "        !sh splitWork.sh {workFile} {authorId} {workId}\n",
    "        \n",
    "\n",
    "#import base64\n",
    "#encoded = base64.b64encode(b'data to be encoded')\n",
    "#print(encoded) \n",
    "createFragmentsResource()"
   ]
  },
  {
   "cell_type": "code",
   "execution_count": 3,
   "metadata": {},
   "outputs": [],
   "source": [
    "def createWordsResource():\n",
    "    !rm -r words\n",
    "    !mkdir words\n",
    "\n",
    "    fragmentfiles=!find fragments -type f|sort\n",
    "    for fragmentfile in fragmentfiles:\n",
    "\n",
    "\n",
    "\n",
    "        #================================\n",
    "        #fragmentfile='fragments/fragment--00000.frg'\n",
    "        f = open(fragmentfile, \"r\")\n",
    "        #print(f.read())\n",
    "        fragmentcontent=f.read()\n",
    "        f.close()\n",
    "        fragmentWordsList=fragmentcontent.split()\n",
    "\n",
    "\n",
    "\n",
    "        from itertools import groupby\n",
    "        #print(fragmentWordsList)\n",
    "\n",
    "        #fragmentUniqueWordsList = list(set(fragmentWordsList))\n",
    "\n",
    "        #print(fragmentUniqueWordsList)\n",
    "        wordsPlusCounts = [(i, len(list(c))) for i,c in groupby(sorted(fragmentWordsList))]\n",
    "        #print(counts)\n",
    "        #print(counts[3][0])\n",
    "        #for word in fragmentUniqueWordsList:\n",
    "        for wordPlusCount in wordsPlusCounts:\n",
    "            word=wordPlusCount[0]\n",
    "            count=wordPlusCount[1]\n",
    "            word=''.join(filter(str.isalnum, word))\n",
    "            #print(word)\n",
    "            fragmentslist=[]\n",
    "            \n",
    "            if word in wordsdict:\n",
    "                #print(word)\n",
    "                #fragmentslist=wordsdict[word]\n",
    "                tmpfragmentdict[\"fragment\"]=fragmentfile\n",
    "                tmpfragmentdict[\"author\"]=\"joan\"\n",
    "                tmpfragmentdict[\"count\"]=count\n",
    "                wordsdict[word].append(tmpfragmentdict.copy())\n",
    "                x=0\n",
    "            else:\n",
    "                 \n",
    "                tmpfragmentdict[\"fragment\"]=fragmentfile\n",
    "                tmpfragmentdict[\"author\"]=\"joan\"\n",
    "                tmpfragmentdict[\"couunt\"]=count \n",
    "                fragmentslist.append(tmpfragmentdict.copy())\n",
    "                wordsdict[word]=fragmentslist\n",
    "                \n",
    "                x=0\n",
    "\n",
    "    \n"
   ]
  },
  {
   "cell_type": "code",
   "execution_count": 7,
   "metadata": {},
   "outputs": [],
   "source": [
    "\n",
    "def createStemsResource():\n",
    "    import os\n",
    "    !rm -r stems\n",
    "    !mkdir stems\n",
    "    wordfiles=!find words/ -type f|sort\n",
    "    for wordfile in wordfiles:\n",
    "        word=os.path.basename(wordfile)\n",
    "        #Create Stem-files\n",
    "        stem=word[0:2]\n",
    "        #print(stem)\n",
    "        !echo {word}>>stems/{stem}\n",
    "        \n",
    "        \n",
    "        \n"
   ]
  },
  {
   "cell_type": "code",
   "execution_count": 14,
   "metadata": {
    "scrolled": false
   },
   "outputs": [
    {
     "name": "stdout",
     "output_type": "stream",
     "text": [
      "created fragments\n",
      "created words\n",
      "created stems\n",
      "[{'fragment': 'fragments/fragment--00000.frg', 'author': 'joan', 'couunt': 13}, {'fragment': 'fragments/fragment--00001.frg', 'author': 'joan', 'couunt': 1, 'count': 9}, {'fragment': 'fragments/fragment--00002.frg', 'author': 'joan', 'couunt': 1, 'count': 7}, {'fragment': 'fragments/fragment--00003.frg', 'author': 'joan', 'couunt': 1, 'count': 7}, {'fragment': 'fragments/fragment--00004.frg', 'author': 'joan', 'couunt': 1, 'count': 2}]\n"
     ]
    }
   ],
   "source": [
    "\n",
    "import json\n",
    "wordsdict={}\n",
    "fragmentslist=[]\n",
    "tmpfragmentdict={}\n",
    "\n",
    "\n",
    "\n",
    "\n",
    "#createFragmentsResource()\n",
    "print('created fragments')\n",
    "createWordsResource()\n",
    "print('created words')\n",
    "#createStemsResource()\n",
    "print('created stems')\n",
    "\n",
    "print(wordsdict[\"καὶ\"])\n",
    "#print(wordsdict)"
   ]
  },
  {
   "cell_type": "code",
   "execution_count": 21,
   "metadata": {},
   "outputs": [
    {
     "name": "stdout",
     "output_type": "stream",
     "text": [
      "e8666c30fa3f18d1cfc333bba8fddb7d849724b5\n"
     ]
    }
   ],
   "source": [
    "!echo 'lll'|sha1sum|sed 's@[ ]\\|[-]@@g'"
   ]
  },
  {
   "cell_type": "code",
   "execution_count": null,
   "metadata": {},
   "outputs": [],
   "source": []
  }
 ],
 "metadata": {
  "kernelspec": {
   "display_name": "Python 3",
   "language": "python",
   "name": "python3"
  },
  "language_info": {
   "codemirror_mode": {
    "name": "ipython",
    "version": 3
   },
   "file_extension": ".py",
   "mimetype": "text/x-python",
   "name": "python",
   "nbconvert_exporter": "python",
   "pygments_lexer": "ipython3",
   "version": "3.6.7"
  }
 },
 "nbformat": 4,
 "nbformat_minor": 2
}
