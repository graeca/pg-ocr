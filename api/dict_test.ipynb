{
 "cells": [
  {
   "cell_type": "code",
   "execution_count": 15,
   "metadata": {},
   "outputs": [
    {
     "name": "stdout",
     "output_type": "stream",
     "text": [
      "================\n",
      "word1\n",
      "[{'fragment': '*', 'author': '*'}, {'fragment': 'id1', 'author': 'joan'}]\n",
      "[{\"fragment\": \"*\", \"author\": \"*\"}, {\"fragment\": \"id1\", \"author\": \"joan\"}]\n",
      "[{'fragment': '*', 'author': '*'}, {'fragment': 'id1', 'author': 'joan'}]\n"
     ]
    }
   ],
   "source": [
    "import json\n",
    "wordsdict={}\n",
    "fragmentslist=[]\n",
    "tmpfragmentdict={}\n",
    "word='word1'\n",
    "if word  in wordsdict:\n",
    "\n",
    "    tmpfragmentdict[\"fragment\"]=\"id1\"\n",
    "    tmpfragmentdict[\"author\"]=\"joan\"\n",
    "    \n",
    "    wordsdict[word].append(tmpfragmentdict.copy())\n",
    "\n",
    "else:\n",
    "    #init\n",
    "    tmpfragmentdict[\"fragment\"]=\"*\"\n",
    "    tmpfragmentdict[\"author\"]=\"*\"\n",
    "    #create the list in dict\n",
    "    fragmentslist.append(tmpfragmentdict.copy())\n",
    "    wordsdict[word]=fragmentslist\n",
    "    \n",
    "    \n",
    "tmpfragmentdict[\"fragment\"]=\"id1\"\n",
    "tmpfragmentdict[\"author\"]=\"joan\"    \n",
    "wordsdict[word].append(tmpfragmentdict.copy())\n",
    "\n",
    "    \n",
    "#wordsdict[\"word1\"].append(tmpfragmentdict.copy())\n",
    "\n",
    "#print(wordsdict)\n",
    "#print(wordsdict[\"word1\"])\n",
    "\n",
    "\n",
    "\n",
    "\n",
    "print('================')\n",
    "#for wordfile in wordsdict[\"word1\"]:\n",
    "    #print(wordfile)\n",
    "#print('--------------------')   \n",
    "for wordname in wordsdict:\n",
    "    print(wordname)\n",
    "    print(wordsdict[\"word1\"])\n",
    "    print(json.dumps(wordsdict[\"word1\"]))\n",
    "    fragmentslist=wordsdict[\"word1\"]\n",
    "    print(fragmentslist)\n",
    "#print(wordsdict[\"word1\"])"
   ]
  },
  {
   "cell_type": "code",
   "execution_count": 67,
   "metadata": {},
   "outputs": [
    {
     "name": "stdout",
     "output_type": "stream",
     "text": [
      "{'sfsdd': 'sffr', 'fsdd': 'ffr'}\n",
      "{\"sfsdd\": \"sffr\", \"fsdd\": \"ffr\"}\n",
      "{'sfsdd': 'sffr', 'fsdd': 'ffr'}\n"
     ]
    }
   ],
   "source": [
    "import json\n",
    "\n",
    "\n",
    "\n",
    "\n",
    "\n",
    "\n",
    "\n",
    "\n",
    "\n",
    "\n",
    "#l={}\n",
    "#\n",
    "\n",
    "\n",
    "#l[\"word\"]={\"fr\":\"id2\"}\n",
    "#x=\"word\"\n",
    "\n",
    "\n",
    "#print(l[x][\"fr\"])\n",
    "\n",
    "\n",
    "\n",
    "\n",
    "mydict={} \n",
    "mydict[\"sfsdd\"]=\"sffr\"\n",
    "mydict[\"fsdd\"]=\"ffr\"\n",
    "print(mydict)\n",
    "\n",
    "jsonstr = json.dumps(mydict)\n",
    "print(jsonstr)\n",
    "\n",
    "\n",
    "newdict = json.loads(jsonstr)\n",
    "print(newdict)\n",
    "\n",
    "\n",
    "\n",
    "x='rr'\n"
   ]
  },
  {
   "cell_type": "code",
   "execution_count": null,
   "metadata": {},
   "outputs": [],
   "source": []
  },
  {
   "cell_type": "code",
   "execution_count": null,
   "metadata": {},
   "outputs": [],
   "source": []
  }
 ],
 "metadata": {
  "kernelspec": {
   "display_name": "Python 3",
   "language": "python",
   "name": "python3"
  }
 },
 "nbformat": 4,
 "nbformat_minor": 2
}
