{
 "cells": [
  {
   "cell_type": "code",
   "execution_count": 1,
   "metadata": {},
   "outputs": [],
   "source": [
    "from numba import jit, autojit\n",
    "#@jit\n",
    "def function(x):\n",
    "    # your loop or numerically intensive computations\n",
    "    str1='ddd ddd ddd'\n",
    "    for i in range(1000):\n",
    "        str1.split()\n",
    "        i=i+2\n",
    "    return i\n",
    "\n"
   ]
  },
  {
   "cell_type": "code",
   "execution_count": 5,
   "metadata": {},
   "outputs": [
    {
     "name": "stdout",
     "output_type": "stream",
     "text": [
      "CPU times: user 398 µs, sys: 59 µs, total: 457 µs\n",
      "Wall time: 463 µs\n"
     ]
    },
    {
     "data": {
      "text/plain": [
       "1001"
      ]
     },
     "execution_count": 5,
     "metadata": {},
     "output_type": "execute_result"
    }
   ],
   "source": [
    "%%time\n",
    "function(5)\n"
   ]
  },
  {
   "cell_type": "code",
   "execution_count": 2,
   "metadata": {},
   "outputs": [],
   "source": [
    "from numba import jit, autojit\n",
    "\n",
    "@autojit\n",
    "def testx():\n",
    "    workFile='pg/author1/work.txt'\n",
    "    workfiles=!find pg -type f|sort\n",
    "    \n",
    "    for workfile in workfiles:\n",
    "        print('splitting:', workfile)\n",
    "        #print(i)\n",
    "        get_ipython().system('sh splitWork.sh ' + workfile)\n"
   ]
  },
  {
   "cell_type": "code",
   "execution_count": 3,
   "metadata": {},
   "outputs": [
    {
     "name": "stdout",
     "output_type": "stream",
     "text": [
      "splitting: pg/author1/.ipynb_checkpoints/work1-checkpoint.txt\n",
      "splitting: pg/author1/work1.txt\n",
      "splitting: pg/author2/work2.txt\n",
      "CPU times: user 333 ms, sys: 27.7 ms, total: 361 ms\n",
      "Wall time: 852 ms\n"
     ]
    }
   ],
   "source": [
    "%%time\n",
    "testx()"
   ]
  },
  {
   "cell_type": "code",
   "execution_count": 14,
   "metadata": {},
   "outputs": [
    {
     "name": "stdout",
     "output_type": "stream",
     "text": [
      "δeρέυδυεδεη\n",
      "0 δ\n",
      "1 ;\n",
      "2 e\n",
      "3 >\n",
      "4 ?\n",
      "5 ΄\n",
      "6 ρ\n",
      "7 έ\n",
      "8 υ\n",
      "9 δ\n",
      "10 υ\n",
      "11 ε\n",
      "12 δ\n",
      "13 ε\n",
      "14 η\n",
      "15 >\n",
      "δ;\n"
     ]
    }
   ],
   "source": [
    "my_string='δ;e>?΄ρέυδυεδεη>'\n",
    "word=''.join(filter(str.isalnum, my_string))\n",
    "print(word)\n",
    "for i, character in enumerate(my_string):\n",
    "    print(i,character)\n",
    "    \n",
    "    \n",
    "print(my_string[0:2])\n",
    "    "
   ]
  },
  {
   "cell_type": "code",
   "execution_count": null,
   "metadata": {},
   "outputs": [],
   "source": []
  }
 ],
 "metadata": {
  "kernelspec": {
   "display_name": "Python 3",
   "language": "python",
   "name": "python3"
  },
  "language_info": {
   "codemirror_mode": {
    "name": "ipython",
    "version": 3
   },
   "file_extension": ".py",
   "mimetype": "text/x-python",
   "name": "python",
   "nbconvert_exporter": "python",
   "pygments_lexer": "ipython3",
   "version": "3.6.7"
  }
 },
 "nbformat": 4,
 "nbformat_minor": 2
}
