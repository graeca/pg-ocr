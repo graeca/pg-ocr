{
 "cells": [
  {
   "cell_type": "code",
   "execution_count": 3,
   "metadata": {
    "collapsed": true,
    "deletable": true,
    "editable": true
   },
   "outputs": [],
   "source": [
    "import cv2 as cv2  \n",
    "from matplotlib import pyplot as plt\n",
    "import numpy as np"
   ]
  },
  {
   "cell_type": "code",
   "execution_count": 6,
   "metadata": {
    "collapsed": true,
    "deletable": true,
    "editable": true
   },
   "outputs": [],
   "source": [
    "def cutPunctuation(img,wordname_path):\n",
    "    #plt.imshow(img)\n",
    "    img = cv2.bitwise_not(img) \n",
    "    newX=256\n",
    "    newY=256\n",
    "    #plt.figure()\n",
    "    #plt.imshow(img)\n",
    "    #img = cv2.resize(img,(int(newX),int(newY)))\n",
    "    img=img//255\n",
    "    y=img.sum(axis=0)\n",
    "    \n",
    "    #print (y)\n",
    "    #print(y.shape)\n",
    "    num=np.size(img,1)\n",
    "    x = np.arange(num)\n",
    "    ###print(x.shape)\n",
    "    fig, ax = plt.subplots()\n",
    "    ax.plot(x,y)\n",
    "    plt.show()\n",
    "    plt.figure()\n",
    "    \n",
    "    \n",
    "    #width=np.size(img,0)\n",
    "    #xc=np.size(img,0)\n",
    "    #print(width)\n",
    "    #img = img[0:width, 0:250]\n",
    "    #plt.imshow(img)\n",
    "    \n",
    "    #x = np.array([1,0,2,0,3,0,4,5,6,7,8])\n",
    "    #print(\"========\")\n",
    "    \n",
    "    index=np.where(y == 0)[0]\n",
    "    #index=np.where(y <= 10)[0]\n",
    "    \n",
    "    #print(index)\n",
    "    len=index.shape[0]\n",
    "    rev_index=index[::-1]\n",
    "    #print(len)\n",
    "    #print(\"========\")\n",
    "    \n",
    "   \n",
    "    \n",
    "    width=np.size(img,1)\n",
    "    \n",
    "    height=np.size(img,0)\n",
    "    print(width)\n",
    "    print(height)\n",
    "    \n",
    "    \n",
    "    sum_ink=0\n",
    "    for i in  range(0, len-1):\n",
    "        #print(i,\"++++\")\n",
    "        \n",
    "        if rev_index[i+1]<rev_index[i]-1: #by pass the contigues zeros that exist\n",
    "            #print(\"dif=\",rev_index[i]-rev_index[i+1],\"index=\",i )\n",
    "            #print(rev_index[i])\n",
    "            #print(rev_index[i+1])\n",
    "            \n",
    "            xc=rev_index[i+1]\n",
    "            \n",
    "            imgF = img[0:height, 0:xc]\n",
    "            \n",
    "            \n",
    "            imgT= img[0:height, xc:width]\n",
    "            half=height/2\n",
    "            print('==========')\n",
    "            print('half',half)\n",
    "            print('xc',xc)\n",
    "            hprof=imgT.sum(axis=1)\n",
    "            hprofIndex=np.where(hprof == 0)\n",
    "            hprofZerosNum=np.size(hprofIndex,1)\n",
    "            \n",
    "            print('zeros',hprofZerosNum)\n",
    "            \n",
    "            print('==========')\n",
    "            if hprofZerosNum-3 >= half:\n",
    "                #do not cut\n",
    "                \n",
    "                imgF=255*imgF\n",
    "                imgF=abs(255-imgF)\n",
    "                imgReturn=imgF\n",
    "                \n",
    "                #plt.figure()\n",
    "                #plt.imshow(imgF)\n",
    "                return imgReturn\n",
    "            else:\n",
    "                #cut\n",
    "                img=255*img\n",
    "                img=abs(255-img)\n",
    "                imgReturn=img\n",
    "                return imgReturn\n",
    "            \n",
    "           \n",
    "        \n",
    "        \n",
    "        \n",
    "        \n",
    "        "
   ]
  },
  {
   "cell_type": "code",
   "execution_count": 1,
   "metadata": {
    "collapsed": false,
    "deletable": true,
    "editable": true
   },
   "outputs": [
    {
     "ename": "NameError",
     "evalue": "name 'cv2' is not defined",
     "output_type": "error",
     "traceback": [
      "\u001b[1;31m\u001b[0m",
      "\u001b[1;31mNameError\u001b[0mTraceback (most recent call last)",
      "\u001b[1;32m<ipython-input-1-caa0e0cef4be>\u001b[0m in \u001b[0;36m<module>\u001b[1;34m()\u001b[0m\n\u001b[0;32m      1\u001b[0m \u001b[0mwordname_path\u001b[0m\u001b[1;33m=\u001b[0m\u001b[1;34m\"tmp1/1.png\"\u001b[0m\u001b[1;33m\u001b[0m\u001b[0m\n\u001b[1;32m----> 2\u001b[1;33m \u001b[0mimg\u001b[0m\u001b[1;33m=\u001b[0m \u001b[0mcv2\u001b[0m\u001b[1;33m.\u001b[0m\u001b[0mimread\u001b[0m\u001b[1;33m(\u001b[0m\u001b[0mwordname_path\u001b[0m\u001b[1;33m,\u001b[0m\u001b[1;36m0\u001b[0m\u001b[1;33m)\u001b[0m\u001b[1;33m;\u001b[0m\u001b[1;33m\u001b[0m\u001b[0m\n\u001b[0m\u001b[0;32m      3\u001b[0m \u001b[1;33m\u001b[0m\u001b[0m\n\u001b[0;32m      4\u001b[0m \u001b[1;33m\u001b[0m\u001b[0m\n\u001b[0;32m      5\u001b[0m \u001b[1;31m#img=abs(255-img)\u001b[0m\u001b[1;33m\u001b[0m\u001b[1;33m\u001b[0m\u001b[0m\n",
      "\u001b[1;31mNameError\u001b[0m: name 'cv2' is not defined"
     ]
    }
   ],
   "source": [
    "wordname_path=\"tmp1/1.png\"\n",
    "img= cv2.imread(wordname_path,0);\n",
    "\n",
    "\n",
    "#img=abs(255-img)\n",
    "#img=img//255\n",
    "#print(img)\n",
    "#plt.figure()\n",
    "#plt.imshow(img)\n",
    "#img = cv2.bitwise_not(img)\n",
    "imgx=cutPunctuation(img,wordname_path)\n",
    "\n",
    "#imgx=255*imgx\n",
    "#imgx=abs(255-imgx)\n",
    "#imx=imgx.astype(int)\n",
    "\n",
    "plt.figure()\n",
    "plt.imshow(imgx)\n",
    "print(imgx)\n",
    "cv2.imwrite('tmp1/111.png',imgx)"
   ]
  },
  {
   "cell_type": "code",
   "execution_count": null,
   "metadata": {
    "collapsed": true,
    "deletable": true,
    "editable": true
   },
   "outputs": [],
   "source": [
    "\n"
   ]
  },
  {
   "cell_type": "code",
   "execution_count": null,
   "metadata": {
    "collapsed": true,
    "deletable": true,
    "editable": true
   },
   "outputs": [],
   "source": []
  },
  {
   "cell_type": "code",
   "execution_count": null,
   "metadata": {
    "collapsed": true,
    "deletable": true,
    "editable": true
   },
   "outputs": [],
   "source": []
  }
 ],
 "metadata": {
  "kernelspec": {
   "display_name": "Python 3",
   "language": "python",
   "name": "python3"
  },
  "language_info": {
   "codemirror_mode": {
    "name": "ipython",
    "version": 3
   },
   "file_extension": ".py",
   "mimetype": "text/x-python",
   "name": "python",
   "nbconvert_exporter": "python",
   "pygments_lexer": "ipython3",
   "version": "3.5.2"
  }
 },
 "nbformat": 4,
 "nbformat_minor": 2
}
