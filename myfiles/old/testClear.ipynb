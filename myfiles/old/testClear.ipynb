{
 "cells": [
  {
   "cell_type": "code",
   "execution_count": 2,
   "metadata": {},
   "outputs": [
    {
     "data": {
      "text/plain": [
       "<matplotlib.image.AxesImage at 0x8759ef0>"
      ]
     },
     "execution_count": 2,
     "metadata": {},
     "output_type": "execute_result"
    },
    {
     "data": {
      "image/png": "[encoded data removed]",
      "text/plain": [
       "<Figure size 432x288 with 1 Axes>"
      ]
     },
     "metadata": {
      "needs_background": "light"
     },
     "output_type": "display_data"
    }
   ],
   "source": [
    "import cv2 as cv2  \n",
    "from matplotlib import pyplot as plt\n",
    "import numpy as np\n",
    "\n",
    "\n",
    "\n",
    "def clearBorder(img):\n",
    "    \n",
    "\n",
    "    #img = np.array([[10, 2], [0, 4], [5, 6]])\n",
    "    \n",
    "    w=img.shape[1]\n",
    "    h=img.shape[0]\n",
    "    #print(w)\n",
    "    #print(h)\n",
    "    for row in range(h):\n",
    "        if img[row, 0] == 0:\n",
    "            #print(row)\n",
    "            cv2.floodFill(img, None, (0, row), 255)\n",
    "        if img[row, w-1] == 0:\n",
    "            cv2.floodFill(img, None, (w-1, row), 255)\n",
    "    \n",
    "    for col in range(w):\n",
    "        if img[0, col] == 0:\n",
    "            cv2.floodFill(img, None, (col, 0), 255)\n",
    "        if img[h-1, col] == 0:\n",
    "            cv2.floodFill(img, None, (col, h-1), 255)\n",
    "\n",
    "    return img\n",
    "\n",
    "\n",
    "wordname_path=\"tmp1/2839-608-113-37.png\"\n",
    "img= cv2.imread(wordname_path,0);\n",
    "\n",
    "\n",
    "imgx=clearBorder(img)\n",
    "#imgx=img\n",
    "\n",
    "\n",
    "#imgx=255*imgx\n",
    "#imgx=abs(255-imgx)\n",
    "#imx=imgx.astype(int)\n",
    "\n",
    "plt.figure()\n",
    "plt.imshow(imgx)"
   ]
  },
  {
   "cell_type": "code",
   "execution_count": null,
   "metadata": {},
   "outputs": [],
   "source": []
  }
 ],
 "metadata": {
  "kernelspec": {
   "display_name": "Python 3",
   "language": "python",
   "name": "python3"
  },
  "language_info": {
   "codemirror_mode": {
    "name": "ipython",
    "version": 3
   },
   "file_extension": ".py",
   "mimetype": "text/x-python",
   "name": "python",
   "nbconvert_exporter": "python",
   "pygments_lexer": "ipython3",
   "version": "3.6.8"
  }
 },
 "nbformat": 4,
 "nbformat_minor": 2
}
