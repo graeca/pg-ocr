{
 "cells": [
  {
   "cell_type": "code",
   "execution_count": 23,
   "metadata": {},
   "outputs": [],
   "source": [
    "#using TestImages, Images\n",
    "#img = testimage(\"mandrill\")\n",
    "#using ImageView\n",
    "#imshow(img)"
   ]
  },
  {
   "cell_type": "code",
   "execution_count": null,
   "metadata": {},
   "outputs": [],
   "source": [
    " "
   ]
  },
  {
   "cell_type": "code",
   "execution_count": 28,
   "metadata": {},
   "outputs": [
    {
     "name": "stdout",
     "output_type": "stream",
     "text": [
      "64\n",
      "1 -> A\n",
      "2 -> é\n",
      "4 -> B\n",
      "5 -> 𐅍\n",
      "9 -> C\n",
      "10 -> D\n"
     ]
    },
    {
     "data": {
      "text/plain": [
       "\"Aé\""
      ]
     },
     "execution_count": 28,
     "metadata": {},
     "output_type": "execute_result"
    }
   ],
   "source": [
    "\n",
    "x=64\n",
    "println(x)\n",
    "su = String(\"AéB𐅍CD\")\n",
    "for i in eachindex(su)\n",
    "    println(thisind(su, i), \" -> \", su[i])\n",
    "end\n",
    "\n",
    "s = String(\"Aé B 𐅍C D\")\n",
    "\n",
    "ar=split(s, \" \")\n",
    "ar[1]\n"
   ]
  },
  {
   "cell_type": "code",
   "execution_count": 5,
   "metadata": {},
   "outputs": [],
   "source": [
    "#using Plots\n",
    "#plot(x = 1:10, y = 4)"
   ]
  },
  {
   "cell_type": "code",
   "execution_count": null,
   "metadata": {},
   "outputs": [],
   "source": []
  }
 ],
 "metadata": {
  "kernelspec": {
   "display_name": "Julia 1.1.0",
   "language": "julia",
   "name": "julia-1.1"
  },
  "language_info": {
   "file_extension": ".jl",
   "mimetype": "application/julia",
   "name": "julia",
   "version": "1.1.0"
  }
 },
 "nbformat": 4,
 "nbformat_minor": 2
}
