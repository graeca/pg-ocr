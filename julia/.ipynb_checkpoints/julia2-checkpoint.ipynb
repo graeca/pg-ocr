{
 "cells": [
  {
   "cell_type": "code",
   "execution_count": 7,
   "metadata": {},
   "outputs": [
    {
     "data": {
      "text/plain": [
       "α (generic function with 1 method)"
      ]
     },
     "execution_count": 7,
     "metadata": {},
     "output_type": "execute_result"
    }
   ],
   "source": [
    "function α(x,y)\n",
    "           x + y\n",
    "end"
   ]
  },
  {
   "cell_type": "code",
   "execution_count": 6,
   "metadata": {},
   "outputs": [
    {
     "data": {
      "text/plain": [
       "13"
      ]
     },
     "execution_count": 6,
     "metadata": {},
     "output_type": "execute_result"
    }
   ],
   "source": [
    "α(4,9)"
   ]
  },
  {
   "cell_type": "code",
   "execution_count": 188,
   "metadata": {},
   "outputs": [
    {
     "name": "stdout",
     "output_type": "stream",
     "text": [
      "(word = \"word1\", frgs = (\"frg1\", \"frg4\"))\n",
      "(\"frg1\", \"frg4\")\n",
      "==================\n",
      "(\"frg1\", \"frg55\")\n",
      "Dict{Any,Any}(\"word2\"=>(\"frg1\", \"frg55\", \"frgd55\"),\"word\"=>(\"frg1\", \"frg55\"))\n"
     ]
    }
   ],
   "source": [
    "f(x,y) = x + y\n",
    "\n",
    "f(3,5)\n",
    "map(x -> x^2 + 2x - 1, [1,3,-1])\n",
    "\n",
    "\n",
    "b=(\"frg1\",)\n",
    "\n",
    "#t.a\n",
    "\n",
    "b=(b...,\"frg4\")\n",
    "t = (word=\"word1\",frgs=b,)\n",
    "println(t)\n",
    "println(b)\n",
    "\n",
    "\n",
    "\n",
    "\n",
    " \n",
    "function c()\n",
    "println(\"==================\")\n",
    "frgs=(\"frg1\",)\n",
    "frgs=(frgs...,\"frg55\")\n",
    "\n",
    "println(frgs)\n",
    "dict=Dict()\n",
    "dict[\"word\"]=frgs\n",
    "frgs=(frgs...,\"frgd55\")\n",
    "dict[\"word2\"]=frgs\n",
    " \n",
    "println(dict)\n",
    "end\n",
    "\n",
    "\n",
    "c()\n",
    "\n",
    "\n",
    "\n",
    "\n"
   ]
  },
  {
   "cell_type": "code",
   "execution_count": 2,
   "metadata": {},
   "outputs": [
    {
     "name": "stdout",
     "output_type": "stream",
     "text": [
      "22\n",
      "2\n",
      "Bcfc\n",
      "1\n",
      "𐅍Ccfcf\n",
      "1\n",
      "22\n",
      "2\n",
      "Dfcf\n",
      "1\n",
      "Dict{Any,Any}(\"Dfcf\"=>1,\"Bcfc\"=>1,\"22\"=>2,\"𐅍Ccfcf\"=>1)\n"
     ]
    },
    {
     "data": {
      "text/plain": [
       "Base.RegexMatchIterator(r\"foo\", \"bar foo baz foo\", false)"
      ]
     },
     "execution_count": 2,
     "metadata": {},
     "output_type": "execute_result"
    }
   ],
   "source": [
    "s = String(\"22 Bcfc 𐅍Ccfcf 22 Dfcf\")\n",
    "\n",
    "ar=split(s, \" \")\n",
    "#for w in ar\n",
    "    \n",
    "w=Dict()\n",
    "for (n, word) in enumerate(split(s, \" \"))\n",
    "    println(word)\n",
    "    \n",
    "    \n",
    "    w[word]=get(w, word, 0) + 1\n",
    "    #d[l]=1\n",
    "    \n",
    "    \n",
    "    \n",
    "   # occursin(r\"opium\", l) && println(\"$n $(replace(l, \"opium\" => \"$(red)opium$(default)\"))\")\n",
    "     \n",
    "    ok=Regex(word)\n",
    "     \n",
    "    #println(ok)\n",
    "    #println(length(collect(eachmatch(r\"22\", s))))\n",
    "    println(length(collect(eachmatch(ok, s))))\n",
    "    #sr = search(s, \"22\")\n",
    "end\n",
    "    \n",
    "println(w) \n",
    "length(collect(eachmatch(r\"foo\", \"bar foo baz foo\")))\n",
    "\n",
    "s1=\"oo\"\n",
    "s2=\"dd\"\n",
    "s1*s2\n",
    "\n",
    "eachmatch(r\"foo\", \"bar foo baz foo\")"
   ]
  },
  {
   "cell_type": "code",
   "execution_count": 3,
   "metadata": {},
   "outputs": [
    {
     "name": "stdout",
     "output_type": "stream",
     "text": [
      "[\"fref\", \"erfre\", \"f\", \"erf\"]\n"
     ]
    }
   ],
   "source": [
    "#xar=[]\n",
    "f2=open(\"test.txt\") \n",
    "xar=readlines(f2)\n",
    " \n",
    "close(f2)\n",
    "println(xar[2:5])"
   ]
  },
  {
   "cell_type": "code",
   "execution_count": null,
   "metadata": {},
   "outputs": [],
   "source": [
    "wordsDir=\"words\"\n",
    "if isdir(wordsDir)\n",
    "#rm(wordsDir, recursive=true)    \n",
    "else\n",
    "        \n",
    "end\n",
    "pwd()\n",
    "#mkdir(wordsDir)\n",
    "#=\n",
    "for work in readdir(\"pg\")\n",
    "println(work)           \n",
    "xar=[]        \n",
    "f2=open(\"test.txt\") \n",
    "xar=readlines(f2)\n",
    "close(f2)\n",
    "#println(xar)          \n",
    "end\n",
    "=#\n",
    "corpus=\"pg\"    \n",
    "cmd=`find $corpus -type f`\n",
    "\n",
    "#files=run(x)\n",
    "filesOut = read(cmd, String) \n",
    "files=split(filesOut, \"\\n\")\n",
    "#print(ar) \n",
    "for file in files\n",
    "       println(file) \n",
    "        f2=open(file) \n",
    "        xar=readlines(f2)\n",
    "        close(f2)\n",
    "        println(xar)\n",
    "end\n",
    "#=\n",
    "open(`find pg -type f`) do io\n",
    "        while !eof(io)\n",
    "            line = readline(io)\n",
    "            #@show line\n",
    "            println(line)\n",
    "\n",
    "            f2=open(line) \n",
    "            xar=readlines(f2)\n",
    "            close(f2)\n",
    "            \n",
    "            #split the xar\n",
    "            \n",
    "            println(xar)\n",
    "\n",
    "        end\n",
    "end   \n",
    "=#  \n",
    "    \n",
    "    \n",
    "    \n",
    "\n",
    "\n"
   ]
  },
  {
   "cell_type": "code",
   "execution_count": 3,
   "metadata": {},
   "outputs": [
    {
     "name": "stdout",
     "output_type": "stream",
     "text": [
      "pg/author2/work2.txt0\n",
      "pg/author1/work1.txt0\n"
     ]
    }
   ],
   "source": [
    "wordsDir=\"words\"\n",
    "if isdir(wordsDir)\n",
    "#rm(wordsDir, recursive=true)    \n",
    "else\n",
    "        \n",
    "end\n",
    "pwd()\n",
    "#mkdir(wordsDir)\n",
    "\n",
    "\n",
    "function createFragments()\n",
    "corpus=\"pg\"    \n",
    "cmd=`find $corpus -type f`\n",
    "\n",
    "\n",
    "filesOut = read(cmd, String) \n",
    "files=split(filesOut, \"\\n\")\n",
    " \n",
    "    for file in files\n",
    "        if file==\"\" \n",
    "            continue\n",
    "        end\n",
    "        names=split(file,\"/\")   \n",
    "        \n",
    "        author=names[2]\n",
    "        work=names[3]\n",
    "        cmd2=`split  --additional-suffix=\".frg\" -a 5 -d -l 10 $file fragments/fragment-$author-$work` \n",
    "        run(cmd2)\n",
    "           \n",
    "        println(file,0) \n",
    "            \n",
    "        #f2=open(file) \n",
    "        #xar=readlines(f2)\n",
    "        #close(f2)\n",
    "        #println(length(xar))\n",
    "    end\n",
    "end\n",
    "    \n",
    "createFragments()\n",
    "    \n",
    "    \n"
   ]
  },
  {
   "cell_type": "code",
   "execution_count": null,
   "metadata": {},
   "outputs": [],
   "source": []
  }
 ],
 "metadata": {
  "kernelspec": {
   "display_name": "Julia 1.1.0",
   "language": "julia",
   "name": "julia-1.1"
  },
  "language_info": {
   "file_extension": ".jl",
   "mimetype": "application/julia",
   "name": "julia",
   "version": "1.1.0"
  }
 },
 "nbformat": 4,
 "nbformat_minor": 2
}
