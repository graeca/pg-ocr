{
 "cells": [
  {
   "cell_type": "code",
   "execution_count": 6,
   "metadata": {},
   "outputs": [],
   "source": [
    "from itertools import groupby\n",
    "#import numpy as np\n",
    "import json\n",
    "\n",
    "\n",
    "def createWordssResource():\n",
    "    words_dict={}\n",
    "    #words_all=[]\n",
    "    fragmentfiles=!find fragments -type f|sort\n",
    "    for fragmentfile in fragmentfiles:\n",
    "        lines_in_file = open(fragmentfile).read().splitlines()\n",
    "        for line in lines_in_file:\n",
    "            for word in line.split(' '):\n",
    "                if word in words_dict.keys():\n",
    "                    #print(d[word])\n",
    "                    #print(word)\n",
    "                    words_dict[word].append(fragmentfile) \n",
    "                else:\n",
    "                    #print(word)\n",
    "                    words_dict[word] =[fragmentfile]\n",
    "\n",
    "\n",
    "    with open('file.json', 'w') as f:\n",
    "        json.dump(words_dict, f)\n",
    "\n",
    "    #print(words_dict['5'])\n",
    "createWordssResource()\n",
    "\n"
   ]
  },
  {
   "cell_type": "code",
   "execution_count": 16,
   "metadata": {},
   "outputs": [
    {
     "name": "stdout",
     "output_type": "stream",
     "text": [
      "splitting: pg/author1/.ipynb_checkpoints/work2-checkpoint.txt\n",
      "splitting: pg/author1/work1.txt\n",
      "splitting: pg/author1/work2.txt\n",
      "splitting: pg/author2/work1.txt\n"
     ]
    }
   ],
   "source": [
    "def createFragmentsResource():\n",
    "    workfiles=!find pg -type f -name '*.txt'|sort\n",
    "    for workfile in workfiles:\n",
    "        print('splitting:',workfile)\n",
    "        collection_author_work=workfile.split('/')\n",
    "        authorId=collection_author_work[1]\n",
    "        #print(authorId)\n",
    "        workId=collection_author_work[2]\n",
    "        #!sh splitWork.sh {workfile}\n",
    "        !split  --additional-suffix=\".frg\" -a 5 -d -l 10 {workfile} fragments/fragment-{authorId}-{workId}- \n",
    "\n",
    "#!ls\n",
    "createFragmentsResource()"
   ]
  },
  {
   "cell_type": "code",
   "execution_count": null,
   "metadata": {},
   "outputs": [],
   "source": []
  }
 ],
 "metadata": {
  "kernelspec": {
   "display_name": "Python 3",
   "language": "python",
   "name": "python3"
  },
  "language_info": {
   "codemirror_mode": {
    "name": "ipython",
    "version": 3
   },
   "file_extension": ".py",
   "mimetype": "text/x-python",
   "name": "python",
   "nbconvert_exporter": "python",
   "pygments_lexer": "ipython3",
   "version": "3.7.0"
  }
 },
 "nbformat": 4,
 "nbformat_minor": 2
}
