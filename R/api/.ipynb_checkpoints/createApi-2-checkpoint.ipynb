{
 "cells": [
  {
   "cell_type": "code",
   "execution_count": 47,
   "metadata": {},
   "outputs": [],
   "source": [
    "from itertools import groupby\n",
    "import numpy as np\n",
    "import json\n",
    "filename='pg/author1/work2.txt'\n",
    "\n",
    "\n",
    "###############################\n",
    "d={}\n",
    "words_all=[]\n",
    "fragmentfiles=!find fragments -type f|sort\n",
    "for fragmentfile in fragmentfiles:\n",
    "    lines_in_file = open(filename).read().splitlines()\n",
    "    for line in lines_in_file:\n",
    "        for word in line.split(' '):\n",
    "            if word in d.keys():\n",
    "                #print(d[word])\n",
    "                #print(word)\n",
    "                d[word].append(fragmentfile) \n",
    "            else:\n",
    "                #print(word)\n",
    "                d[word] =[fragmentfile]\n",
    "\n",
    "                \n",
    "  \n",
    "\n",
    "\n",
    "with open('file.json', 'w') as f:\n",
    "    json.dump(d, f)\n",
    "\n",
    "\n",
    "\n",
    "\n"
   ]
  },
  {
   "cell_type": "code",
   "execution_count": null,
   "metadata": {},
   "outputs": [],
   "source": []
  },
  {
   "cell_type": "code",
   "execution_count": null,
   "metadata": {},
   "outputs": [],
   "source": []
  }
 ],
 "metadata": {
  "kernelspec": {
   "display_name": "Python 3",
   "language": "python",
   "name": "python3"
  },
  "language_info": {
   "codemirror_mode": {
    "name": "ipython",
    "version": 3
   },
   "file_extension": ".py",
   "mimetype": "text/x-python",
   "name": "python",
   "nbconvert_exporter": "python",
   "pygments_lexer": "ipython3",
   "version": "3.7.0"
  }
 },
 "nbformat": 4,
 "nbformat_minor": 2
}
