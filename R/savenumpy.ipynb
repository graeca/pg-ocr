{
 "cells": [
  {
   "cell_type": "code",
   "execution_count": 66,
   "metadata": {},
   "outputs": [
    {
     "name": "stdout",
     "output_type": "stream",
     "text": [
      "total_cost 1489.9626314055472\n",
      "[[0.         1.04159458 2.15294644 3.31782106]\n",
      " [0.95012438 0.         1.04159458 2.15294644]\n",
      " [1.78045554 0.95012438 0.         1.04159458]\n",
      " [2.45599625 1.78045554 0.95012438 0.        ]]\n"
     ]
    }
   ],
   "source": [
    "import numpy as np\n",
    "import math \n",
    "from scipy.optimize import linear_sum_assignment\n",
    "inp1 = np.array([1,2,3,4]) \n",
    "inp2 = np.array([12,13,14,15])\n",
    "#inp2 = np.array([5,6,7])\n",
    "#inp2 = np.array([14,15,6])\n",
    "\n",
    "#a = np.array([[1,2,3]]) \n",
    "#a.mean()\n",
    "\n",
    "\n",
    "\n",
    "#col=-1\n",
    "#for row in a.T:\n",
    "    #col=col+1\n",
    "    #print(row)\n",
    "    #print(a[col,col])\n",
    "\n",
    "    \n",
    "#@@@@@@@@@@@@@@@@@@@@ \n",
    "\n",
    "\n",
    "\n",
    "def closest_pairs(inp1, inp2, threshold=np.inf):\n",
    "\n",
    "    cost = np.zeros((inp1.shape[0], inp2.shape[0]), dtype=np.float)   \n",
    "    for x in range(inp1.shape[0]):\n",
    "        for y in range(inp2.shape[0]):\n",
    "            #cost[x][y] = abs(inp1[x] - inp2[y])\n",
    "            cost[x][y]=math.sqrt((inp1[x]-inp2[y])**2+(x-y)**2) \n",
    "\n",
    "    #print(cost)\n",
    "    col=-1\n",
    "    sumdiagonal=0\n",
    "    for row in cost.T:\n",
    "        col=col+1\n",
    "        #print(row)\n",
    "\n",
    "        #print(cost[col,col])\n",
    "        sumdiagonal=sumdiagonal+cost[col,col]\n",
    "\n",
    "    translationCoef=sumdiagonal/(col+1)\n",
    "\n",
    "\n",
    "    #print(sumdiagonal)   \n",
    "    #print(translationCoef)   \n",
    "    cost=abs(cost-translationCoef)\n",
    "\n",
    "    threshold=100000\n",
    "\n",
    "    row_ind, col_ind = linear_sum_assignment(cost)\n",
    "    #print(row_ind)\n",
    "    #print(col_ind)\n",
    "\n",
    "    out = [item \n",
    "            for item in cost[row_ind, col_ind] \n",
    "            if item < threshold]\n",
    "\n",
    "        # if you want the pair of indices filtered by the threshold\n",
    "    pairs = [(row, col) \n",
    "             for row, col in zip(row_ind, col_ind) \n",
    "             if cost[row, col] < threshold]\n",
    "\n",
    "    #print(pairs) \n",
    "    t_cost=0\n",
    "    for p in pairs:\n",
    "        #print(p)\n",
    "        t_cost=t_cost+cost[p]\n",
    "\n",
    "    print('total_cost',t_cost)\n",
    "\n",
    "    return out, pairs\n",
    "\n",
    "\n",
    "inp1 = np.array([1,2,3,4,8]) \n",
    "inp2 = np.array([1122,123,124,125])\n",
    "\n",
    "closest_pairs(inp1, inp2, threshold=np.inf)\n",
    "\n",
    "#@@@@@@@@@@@@@@@@@@@@   \n",
    "\n",
    "\n",
    "\n",
    "\n",
    "print(cost)"
   ]
  },
  {
   "cell_type": "code",
   "execution_count": 94,
   "metadata": {},
   "outputs": [
    {
     "name": "stdout",
     "output_type": "stream",
     "text": [
      "[[1 2 3]\n",
      " [4 5 6]\n",
      " [7 8 9]]\n",
      "=========\n",
      "[[4 5]]\n"
     ]
    }
   ],
   "source": [
    "import numpy as np \n",
    "a = np.array([[1,2,3],[4,5,6],[7,8,9]]) \n",
    "\n",
    "  \n",
    "print(a) \n",
    " \n",
    "print('=========') \n",
    "# this returns array of items in the second column \n",
    "  \n",
    "#print(a[...,1]  )\n",
    "#print(a[1:,...])\n",
    "print(a[1:2,0:2])"
   ]
  },
  {
   "cell_type": "code",
   "execution_count": 87,
   "metadata": {},
   "outputs": [
    {
     "name": "stdout",
     "output_type": "stream",
     "text": [
      "[[1. 2. 3. 4. 5.]\n",
      " [1. 2. 3. 4. 5.]]\n"
     ]
    }
   ],
   "source": [
    "import numpy as np \n",
    "\n",
    "a = np.array([[1,2,3,4,5],[1,2,3,4,5]]) \n",
    "np.savetxt('out.txt',a,delimiter=',') \n",
    "b = np.loadtxt('out.txt',delimiter=',') \n",
    "print( b)"
   ]
  },
  {
   "cell_type": "code",
   "execution_count": 15,
   "metadata": {},
   "outputs": [
    {
     "name": "stdout",
     "output_type": "stream",
     "text": [
      "[ 0.      1.7373  3.9961  5.5333  6.9294  8.4039  9.898  13.439  17.125\n",
      " 22.271  27.278  30.129  32.804  34.29   35.49   35.49   35.49   35.49\n",
      " 35.49   35.49   32.718  25.431  19.376  14.945  12.365  11.671  11.325\n",
      " 11.278  11.729  12.498  14.29   16.541  18.184  19.624  22.867  26.553\n",
      " 29.522  32.38   33.973  35.467  36.247  36.984  36.984  36.914  36.239\n",
      " 34.949  30.576  25.349  17.208  11.016   9.5843  9.1451 10.557  10.796\n",
      "  9.3294 10.278  13.937  18.365  23.463  25.996  26.749  26.576  25.902\n",
      " 25.129  24.314  23.027  21.604  20.106  18.608  15.867  12.988  11.42\n",
      "  9.9333  9.9529  9.9059  9.149   8.5059  8.5059  8.651   9.4078  9.9686\n",
      "  9.9686  9.9686  9.9686  9.9686  9.9686  9.6353  8.8824  9.2314 10.675\n",
      " 11.357  11.451  14.18   18.502  20.918  22.427  23.369  24.106  24.851\n",
      " 25.608  24.42   22.937  22.157  21.431  21.345  21.322  22.137  22.949\n",
      " 23.616  24.161  24.141  23.957  23.216  21.22   16.118  11.765   8.8196\n",
      "  6.502   5.1216  4.702   5.4     5.7255  5.7255  7.4118 10.263  14.655\n",
      " 19.863  22.427  23.91   25.957  28.157  29.078  29.753  29.761  29.698\n",
      " 26.275  22.718  19.071  15.502  12.522  10.149  11.647  12.827  12.725\n",
      " 13.235  15.494  18.949  24.886  28.051  26.58   25.71   25.576  25.141\n",
      " 24.38   22.059  18.533  16.216  14.655  15.663  17.855  20.102  22.357\n",
      " 23.949  25.392  26.224  26.976  28.365  29.827  30.6    31.196  28.22\n",
      " 25.322  23.157  20.643  16.294  12.596  11.098   9.7922  8.9294  8.8941\n",
      " 10.38   12.161  14.341  16.576  18.855  20.725  22.208  23.255  23.996\n",
      " 24.741  25.494  23.58   20.596  16.439  11.945   8.1804  4.5686  4.1843\n",
      "  4.1843  7.7412 11.475  14.388  17.251  19.384  21.341  22.133  23.059\n",
      " 24.518  24.835  21.878  18.941  16.     13.608  12.125  11.937  13.412\n",
      " 14.902  16.392  19.125  22.827  24.251  24.251  24.71   25.384  25.553\n",
      " 25.553  26.765  28.282  27.835  27.075  23.549  19.824  14.78    9.9216\n",
      "  9.1059  8.0667  5.1725  2.5451  1.1098  0.      0.      0.      0.\n",
      "  0.      0.      0.      0.      0.    ]\n"
     ]
    }
   ],
   "source": [
    "b = np.loadtxt('numtest.txt',delimiter=',') \n",
    "#print( b)\n",
    "\n",
    "\n",
    "z=b[0,:]\n",
    "print(z)"
   ]
  },
  {
   "cell_type": "code",
   "execution_count": null,
   "metadata": {},
   "outputs": [],
   "source": []
  }
 ],
 "metadata": {
  "kernelspec": {
   "display_name": "Python 3",
   "language": "python",
   "name": "python3"
  },
  "language_info": {
   "codemirror_mode": {
    "name": "ipython",
    "version": 3
   },
   "file_extension": ".py",
   "mimetype": "text/x-python",
   "name": "python",
   "nbconvert_exporter": "python",
   "pygments_lexer": "ipython3",
   "version": "3.7.0"
  }
 },
 "nbformat": 4,
 "nbformat_minor": 2
}
