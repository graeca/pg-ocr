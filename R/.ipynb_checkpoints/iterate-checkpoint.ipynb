{
 "cells": [
  {
   "cell_type": "code",
   "execution_count": 3,
   "metadata": {},
   "outputs": [
    {
     "name": "stdout",
     "output_type": "stream",
     "text": [
      "[(1, 3, 5), (2, 2, 5), (2, 3, 5), (3, 1, 5), (3, 2, 5), (3, 3, 5), (3, 3, 3)]\n"
     ]
    }
   ],
   "source": [
    "alist = [1, 2, 3]\n",
    "blist = [1, 2, 3]\n",
    "clist = [1, 5, 3]\n",
    "\n",
    "abc = [(a,b,c) for a in alist for b in blist for c in clist if  a+b+c>8]\n",
    "\n",
    "print(abc)"
   ]
  },
  {
   "cell_type": "code",
   "execution_count": 2,
   "metadata": {},
   "outputs": [
    {
     "data": {
      "text/plain": [
       "array([[0, 0, 0, 0, 1, 0, 0, 0, 0],\n",
       "       [0, 1, 1, 1, 1, 1, 1, 1, 0],\n",
       "       [0, 1, 1, 1, 1, 1, 1, 1, 0],\n",
       "       [1, 1, 1, 1, 1, 1, 1, 1, 1],\n",
       "       [1, 1, 1, 1, 1, 1, 1, 1, 1],\n",
       "       [1, 1, 1, 1, 1, 1, 1, 1, 1],\n",
       "       [0, 1, 1, 1, 1, 1, 1, 1, 0],\n",
       "       [0, 1, 1, 1, 1, 1, 1, 1, 0],\n",
       "       [0, 0, 0, 0, 1, 0, 0, 0, 0]], dtype=uint8)"
      ]
     },
     "execution_count": 2,
     "metadata": {},
     "output_type": "execute_result"
    }
   ],
   "source": [
    "import cv2\n",
    "\n",
    "\n",
    "cv2.getStructuringElement(cv2.MORPH_ELLIPSE,(9,9))"
   ]
  },
  {
   "cell_type": "code",
   "execution_count": 30,
   "metadata": {},
   "outputs": [
    {
     "name": "stdout",
     "output_type": "stream",
     "text": [
      "[(1, 1, 33), (1, 1, 5), (1, 1, 35), (1, 2, 33), (1, 2, 5), (1, 2, 35), (2, 1, 33), (2, 1, 5), (2, 1, 35), (2, 2, 33), (2, 2, 5), (2, 2, 35)]\n"
     ]
    }
   ],
   "source": [
    "alist = [ 1, 2]\n",
    "blist = [1,2]\n",
    "\n",
    "clist = [33, 5, 35]\n",
    "\n",
    "abc = [(a,b, a*a) for a in alist for b in blist if  a+b==3 and a>b or a>b]\n",
    "abc = [(a,b,c) for a in alist for b in blist for c in clist  ]\n",
    "\n",
    " \n",
    "print(abc)"
   ]
  },
  {
   "cell_type": "code",
   "execution_count": null,
   "metadata": {},
   "outputs": [],
   "source": []
  }
 ],
 "metadata": {
  "kernelspec": {
   "display_name": "Python 3",
   "language": "python",
   "name": "python3"
  },
  "language_info": {
   "codemirror_mode": {
    "name": "ipython",
    "version": 3
   },
   "file_extension": ".py",
   "mimetype": "text/x-python",
   "name": "python",
   "nbconvert_exporter": "python",
   "pygments_lexer": "ipython3",
   "version": "3.7.0"
  }
 },
 "nbformat": 4,
 "nbformat_minor": 2
}
