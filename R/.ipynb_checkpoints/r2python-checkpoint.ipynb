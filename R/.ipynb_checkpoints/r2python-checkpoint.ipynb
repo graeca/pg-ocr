{
 "cells": [
  {
   "cell_type": "code",
   "execution_count": 27,
   "metadata": {},
   "outputs": [
    {
     "name": "stdout",
     "output_type": "stream",
     "text": [
      "$index1s\n",
      "[1] 1 2 3\n",
      "\n",
      "\n",
      "5.656854249492381\n"
     ]
    }
   ],
   "source": [
    "#https://www.datatechnotes.com/2018/11/dynamic-time-warping-example-in-r.html\n",
    "#https://docs.google.com/viewer?url=https%3A%2F%2Fwww.jstatsoft.org%2Findex.php%2Fjss%2Farticle%2Fview%2Fv031i07%2Fv31i07.pdf&embedded=true&chrome=false&dov=1\n",
    "import numpy as np\n",
    "\n",
    "import rpy2.robjects.numpy2ri\n",
    "from rpy2.robjects.packages import importr\n",
    "\n",
    "rpy2.robjects.numpy2ri.activate()\n",
    "\n",
    "# Set up our R namespaces\n",
    "R = rpy2.robjects.r\n",
    "DTW = importr('dtw')\n",
    "\n",
    "# Generate our data\n",
    "idx1 = np.linspace(0, 2*np.pi, 1)\n",
    "template = np.cos(idx1)\n",
    "template=np.zeros((2, 2))\n",
    "\n",
    "\n",
    "idx2 = np.linspace(0, 2*np.pi, 1)\n",
    "#print(len(idx2))\n",
    "query = np.sin(idx2) + np.array(R.runif(len(idx2)))/10\n",
    "#query=np.cos(idx)+ np.array(R.runif(100))/10\n",
    "query=np.ones((3, 2))\n",
    "\n",
    "\n",
    "# Calculate the alignment vector and corresponding distance\n",
    "alignment = R.dtw(query, template, keep=True)\n",
    "dist = alignment.rx('distance')[0][0]\n",
    "x = alignment.rx('index1s')\n",
    "print(x)\n",
    "print(dist)"
   ]
  },
  {
   "cell_type": "code",
   "execution_count": null,
   "metadata": {},
   "outputs": [],
   "source": []
  }
 ],
 "metadata": {
  "kernelspec": {
   "display_name": "Python 3",
   "language": "python",
   "name": "python3"
  },
  "language_info": {
   "codemirror_mode": {
    "name": "ipython",
    "version": 3
   },
   "file_extension": ".py",
   "mimetype": "text/x-python",
   "name": "python",
   "nbconvert_exporter": "python",
   "pygments_lexer": "ipython3",
   "version": "3.7.0"
  }
 },
 "nbformat": 4,
 "nbformat_minor": 2
}
