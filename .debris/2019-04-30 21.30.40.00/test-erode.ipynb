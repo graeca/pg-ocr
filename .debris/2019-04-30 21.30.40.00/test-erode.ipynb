{
 "cells": [
  {
   "cell_type": "code",
   "execution_count": 13,
   "metadata": {},
   "outputs": [
    {
     "name": "stdout",
     "output_type": "stream",
     "text": [
      "test\\0177.pdf300\\1480-1230-116-38.png\n",
      "test\\0177.pdf300\\1481-1104-119-36.png\n",
      "test\\0177.pdf300\\1528-1784-120-35.png\n",
      "test\\0177.pdf300\\1573-1105-117-35.png\n",
      "test\\0177.pdf300\\198-1193-116-35.png\n",
      "test\\0177.pdf300\\243-1594-117-36.png\n",
      "test\\0177.pdf300\\290-1285-128-36.png\n",
      "test\\0177.pdf300\\841-1420-119-34.png\n",
      "test\\0177.pdf300\\887-1635-116-35.png\n",
      "test\\0177.pdf300\\979-1783-123-35.png\n",
      "10\n"
     ]
    }
   ],
   "source": [
    "!grep t searchResults.txt\n",
    "%lsmagic\n",
    "\n",
    "x=10\n",
    "!echo $x"
   ]
  },
  {
   "cell_type": "code",
   "execution_count": null,
   "metadata": {
    "scrolled": false
   },
   "outputs": [],
   "source": [
    "\n",
    " \n",
    "\n",
    "\n"
   ]
  },
  {
   "cell_type": "code",
   "execution_count": 34,
   "metadata": {},
   "outputs": [
    {
     "data": {
      "text/plain": [
       "<matplotlib.image.AxesImage at 0x9d6ca58>"
      ]
     },
     "execution_count": 34,
     "metadata": {},
     "output_type": "execute_result"
    },
    {
     "data": {
      "image/png": "[encoded data removed]",
      "text/plain": [
       "<Figure size 432x288 with 1 Axes>"
      ]
     },
     "metadata": {
      "needs_background": "light"
     },
     "output_type": "display_data"
    },
    {
     "data": {
      "image/png": "[encoded data removed]",
      "text/plain": [
       "<Figure size 432x288 with 1 Axes>"
      ]
     },
     "metadata": {
      "needs_background": "light"
     },
     "output_type": "display_data"
    }
   ],
   "source": [
    "import cv2 as cv2  \n",
    "from matplotlib import pyplot as plt\n",
    "import numpy as np\n",
    "\n",
    "\n",
    "def createPadding(query, margin):\n",
    "    #size=np.size(query)\n",
    "    #query = np.insert(query, w, values=0, axis=1)\n",
    "    \n",
    "\n",
    "\n",
    "    #create horizontal space\n",
    "    w=query.shape[0]\n",
    "    x=np.zeros(shape=(w, margin))\n",
    "    x.fill(255)\n",
    "    #x.astype(int)\n",
    "    query = np.hstack((query, x))\n",
    "    query = np.hstack((x,query))\n",
    "    \n",
    "    \n",
    "    h=query.shape[1]\n",
    "    y=np.zeros(shape=(margin, h))\n",
    "    y.fill(255)\n",
    "    query = np.vstack((query, y))\n",
    "    query = np.vstack((y,query))\n",
    "    \n",
    "    \n",
    "    \n",
    "    return query\n",
    "\n",
    "\n",
    "\n",
    "def applyCircleErosion(word_img):\n",
    "    kernel=cv2.getStructuringElement(cv2.MORPH_ELLIPSE,(9,9))\n",
    "    erode_img = cv2.erode(word_img, kernel, iterations=1)\n",
    "    return erode_img\n",
    "\n",
    "\n",
    "\n",
    "\n",
    "\n",
    "\n",
    "query= cv2.imread(\"tmp1/kyriosa1.png\",0);\n",
    "img=createPadding(query, 20)\n",
    "img=applyCircleErosion(img)\n",
    "plt.figure()\n",
    "plt.imshow(img)\n",
    "\n",
    "query= cv2.imread(\"tmp1/kyrios4.png\",0);\n",
    "img=createPadding(query, 20)\n",
    "img=applyCircleErosion(img)\n",
    "plt.figure()\n",
    "plt.imshow(img)\n",
    "\n",
    "\n"
   ]
  },
  {
   "cell_type": "code",
   "execution_count": null,
   "metadata": {},
   "outputs": [],
   "source": []
  },
  {
   "cell_type": "code",
   "execution_count": null,
   "metadata": {},
   "outputs": [],
   "source": []
  }
 ],
 "metadata": {
  "kernelspec": {
   "display_name": "Python 3",
   "language": "python",
   "name": "python3"
  },
  "language_info": {
   "codemirror_mode": {
    "name": "ipython",
    "version": 3
   },
   "file_extension": ".py",
   "mimetype": "text/x-python",
   "name": "python",
   "nbconvert_exporter": "python",
   "pygments_lexer": "ipython3",
   "version": "3.6.7"
  }
 },
 "nbformat": 4,
 "nbformat_minor": 2
}
