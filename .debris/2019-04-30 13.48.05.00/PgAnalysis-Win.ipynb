{
 "cells": [
  {
   "cell_type": "code",
   "execution_count": 4,
   "metadata": {
    "code_folding": [
     18,
     26,
     37,
     50
    ],
    "scrolled": false
   },
   "outputs": [
    {
     "name": "stdout",
     "output_type": "stream",
     "text": [
      "Windows\n",
      "['test\\\\0177.pdf300\\\\1480-1230-116-38.png', 'test\\\\0177.pdf300\\\\1481-1104-119-36.png', 'test\\\\0177.pdf300\\\\1528-1784-120-35.png', 'test\\\\0177.pdf300\\\\1573-1105-117-35.png', 'test\\\\0177.pdf300\\\\198-1193-116-35.png', 'test\\\\0177.pdf300\\\\243-1594-117-36.png', 'test\\\\0177.pdf300\\\\290-1285-128-36.png', 'test\\\\0177.pdf300\\\\841-1420-119-34.png', 'test\\\\0177.pdf300\\\\887-1635-116-35.png', 'test\\\\0177.pdf300\\\\979-1783-123-35.png']\n",
      "['0177.pdf300']\n",
      "==============\n",
      "source/0177.pdf300.png\n",
      "['1480', '1230', '116', '38']\n",
      "source/0177.pdf300.png\n",
      "['1481', '1104', '119', '36']\n",
      "source/0177.pdf300.png\n",
      "['1528', '1784', '120', '35']\n",
      "source/0177.pdf300.png\n",
      "['1573', '1105', '117', '35']\n",
      "source/0177.pdf300.png\n",
      "['198', '1193', '116', '35']\n",
      "source/0177.pdf300.png\n",
      "['243', '1594', '117', '36']\n",
      "source/0177.pdf300.png\n",
      "['290', '1285', '128', '36']\n",
      "source/0177.pdf300.png\n",
      "['841', '1420', '119', '34']\n",
      "source/0177.pdf300.png\n",
      "['887', '1635', '116', '35']\n",
      "source/0177.pdf300.png\n",
      "['979', '1783', '123', '35']\n",
      "http://51.158.175.87:8888/view/myfiles/resultsSpot/0177.pdf300rec.png\n"
     ]
    }
   ],
   "source": [
    "from matplotlib import pyplot as plt\n",
    "from matplotlib import figure as fig\n",
    "import cv2 as cv2\n",
    "\n",
    "import platform\n",
    "system=platform.system()\n",
    "print(system)\n",
    "\n",
    "\n",
    "#paths=['test/0159.pdf300/1778-1435-58-29.png', 'test/0159.pdf300/1367-1249-58-29.png', 'test/0159.pdf300/1686-1366-57-30.png', 'test/0159.pdf300/1550-1215-57-27.png', 'test/0159.pdf300/819-1617-57-28.png', 'test/0159.pdf300/956-1140-57-28.png', 'test/0159.pdf300/1139-1875-59-30.png', 'test/0159.pdf300/1276-1602-55-28.png', 'test/0159.pdf300/1778-1880-58-27.png', 'test/0159.pdf300/964-1390-56-19.png', 'test/0159.pdf300/818-1367-56-28.png', 'test/0159.pdf300/1823-1795-57-28.png', 'test/0159.pdf300/727-1457-56-28.png', 'test/0159.pdf300/1412-1693-57-29.png', 'test/0159.pdf300/2006-1670-58-28.png', 'test/0159.pdf300/772-1500-56-29.png', 'test/0159.pdf300/864-1642-57-28.png', 'test/0159.pdf300/408-1413-57-28.png', 'test/0159.pdf300/1870-1226-56-28.png', 'test/0159.pdf300/680-1137-56-29.png', 'test/0159.pdf300/1458-1271-57-29.png', 'test/0159.pdf300/1549-1732-56-28.png', 'test/0159.pdf300/1368-1430-57-28.png', 'test/0159.pdf300/1732-1439-57-29.png', 'test/0159.pdf300/772-1235-58-29.png', 'test/0159.pdf300/1970-1339-57-20.png', 'test/0159.pdf300/2190-1439-56-28.png', 'test/0159.pdf300/543-1402-56-29.png', 'test/0159.pdf300/1321-1582-57-29.png', 'test/0159.pdf300/909-1485-56-28.png', 'test/0157.pdf300/886-1491-59-29.png', 'test/0157.pdf300/2587-451-58-29.png', 'test/0157.pdf300/2412-1642-55-30.png', 'test/0157.pdf300/1846-1211-57-29.png', 'test/0157.pdf300/1391-1710-57-29.png', 'test/0157.pdf300/1847-1681-58-28.png', 'test/0157.pdf300/1253-1286-58-28.png', 'test/0157.pdf300/1392-1270-57-28.png', 'test/0157.pdf300/1712-1806-56-29.png', 'test/0157.pdf300/1345-1258-59-29.png', 'test/0157.pdf300/704-1551-58-30.png', 'test/0157.pdf300/1159-1782-58-29.png', 'test/0157.pdf300/1070-1609-57-28.png', 'test/0157.pdf300/1071-1236-59-29.png', 'test/0157.pdf300/1299-1318-59-28.png', 'test/0156.pdf300/1322-420-58-30.png', 'test/0156.pdf300/1242-614-58-20.png', 'test/0156.pdf300/1004-731-57-29.png', 'test/0156.pdf300/548-212-56-29.png', 'test/0156.pdf300/731-541-57-28.png', 'test/0156.pdf300/502-382-58-29.png', 'test/0156.pdf300/456-449-57-29.png', 'test/0156.pdf300/776-585-57-29.png', 'test/0156.pdf300/366-575-56-28.png', 'test/0156.pdf300/593-868-57-29.png', 'test/0156.pdf300/1735-583-58-28.png', 'test/0156.pdf300/1598-396-58-28.png', 'test/0156.pdf300/1459-556-57-29.png', 'test/0156.pdf300/686-869-57-29.png', 'test/0161.pdf300/900-1489-57-29.png', 'test/0161.pdf300/947-1202-57-29.png', 'test/0161.pdf300/762-1615-55-29.png', 'test/0161.pdf300/1993-1389-57-29.png', 'test/0161.pdf300/2669-1456-68-29.png', 'test/0161.pdf300/855-1173-57-29.png', 'test/0161.pdf300/1538-1101-58-29.png', 'test/0161.pdf300/626-1457-58-28.png', 'test/0161.pdf300/1810-1687-59-29.png', 'test/0161.pdf300/992-1458-58-29.png', 'test/0161.pdf300/994-1102-58-28.png', 'test/0161.pdf300/264-1841-58-29.png', 'test/0161.pdf300/2428-917-57-29.png', 'test/0161.pdf300/399-1766-60-29.png', 'test/0161.pdf300/1408-1711-58-20.png', 'test/0161.pdf300/261-1483-55-29.png', 'test/0161.pdf300/2128-1836-61-29.png', 'test/0161.pdf300/1858-1337-67-33.png', 'test/0161.pdf300/809-1515-57-28.png', 'test/0161.pdf300/2604-971-58-29.png', 'test/0161.pdf300/2427-358-68-35.png', 'test/0161.pdf300/2129-1292-57-29.png', 'test/0161.pdf300/1718-1710-57-28.png', 'test/0161.pdf300/1082-1647-60-29.png', 'test/0161.pdf300/1356-1707-56-28.png', 'test/0152.pdf300/1557-663-58-29.png', 'test/0152.pdf300/1328-243-57-28.png', 'test/0152.pdf300/1006-705-58-28.png', 'test/0152.pdf300/868-762-57-28.png', 'test/0152.pdf300/1419-535-57-28.png', 'test/0152.pdf300/961-322-57-29.png', 'test/0152.pdf300/360-534-57-28.png', 'test/0152.pdf300/403-645-58-30.png', 'test/0152.pdf300/1374-150-56-28.png', 'test/0152.pdf300/363-144-57-30.png', 'test/0152.pdf300/2729-821-57-27.png', 'test/0152.pdf300/2309-754-57-28.png', 'test/0154.pdf300/540-407-59-28.png', 'test/0154.pdf300/356-317-60-29.png', 'test/0154.pdf300/539-550-59-30.png', 'test/0154.pdf300/2183-545-57-29.png', 'test/0154.pdf300/2183-385-57-28.png', 'test/0154.pdf300/448-435-59-29.png', 'test/0154.pdf300/1519-770-136-72.png', 'test/0154.pdf300/2323-870-56-28.png', 'test/0154.pdf300/266-540-60-29.png', 'test/0154.pdf300/769-666-57-28.png', 'test/0154.pdf300/2325-713-58-27.png', 'test/0154.pdf300/1239-1266-51-30.png', 'test/0154.pdf300/630-703-58-29.png', 'test/0158.pdf300/1363-202-60-30.png', 'test/0158.pdf300/770-617-60-29.png', 'test/0158.pdf300/2215-934-58-28.png', 'test/0158.pdf300/448-130-58-30.png', 'test/0158.pdf300/861-680-57-29.png', 'test/0158.pdf300/542-450-57-28.png', 'test/0158.pdf300/1728-498-56-29.png', 'test/0158.pdf300/725-648-58-29.png', 'test/0158.pdf300/355-244-60-29.png', 'test/0158.pdf300/1454-849-58-29.png', 'test/0158.pdf300/1590-369-59-30.png', 'test/0158.pdf300/952-533-57-29.png', 'test/0158.pdf300/1180-776-59-30.png', 'test/0163.pdf300/705-1283-57-28.png', 'test/0163.pdf300/1345-1235-59-29.png', 'test/0163.pdf300/614-1241-57-29.png', 'test/0163.pdf300/659-1250-56-29.png', 'test/0163.pdf300/1208-1455-58-29.png', 'test/0163.pdf300/339-1758-57-28.png', 'test/0163.pdf300/1344-1494-59-29.png', 'test/0163.pdf300/522-1557-67-35.png', 'test/0163.pdf300/1575-1387-67-34.png', 'test/0153.pdf300/1687-1312-58-28.png', 'test/0153.pdf300/1322-1392-58-28.png', 'test/0153.pdf300/2561-770-67-28.png', 'test/0153.pdf300/492-1324-58-29.png', 'test/0153.pdf300/214-1650-57-29.png', 'test/0153.pdf300/631-1291-56-28.png', 'test/0153.pdf300/1139-1228-57-29.png', 'test/0153.pdf300/584-1311-57-28.png', 'test/0153.pdf300/582-1849-60-30.png', 'test/0153.pdf300/2008-1860-59-29.png', 'test/0162.pdf300/1306-1302-51-29.png', 'test/0162.pdf300/805-606-57-28.png', 'test/0162.pdf300/1214-534-68-35.png', 'test/0162.pdf300/768-582-58-21.png', 'test/0162.pdf300/1032-390-58-29.png', 'test/0162.pdf300/2674-1752-60-30.png', 'test/0162.pdf300/1536-354-58-29.png', 'test/0162.pdf300/1306-500-67-35.png', 'test/0162.pdf300/2082-391-58-29.png', 'test/0162.pdf300/670-830-59-29.png', 'test/0162.pdf300/578-916-56-29.png', 'test/0162.pdf300/985-837-59-30.png', 'test/0162.pdf300/807-403-56-28.png', 'test/0162.pdf300/1671-473-67-33.png', 'test/0162.pdf300/2640-1269-57-29.png', 'test/0162.pdf300/1030-751-58-30.png', 'test/0162.pdf300/1168-750-67-34.png', 'test/0162.pdf300/804-850-57-29.png', 'test/0162.pdf300/1259-642-68-34.png', 'test/0162.pdf300/1444-466-58-28.png', 'test/0160.pdf300/1581-386-58-28.png', 'test/0160.pdf300/669-592-62-29.png', 'test/0160.pdf300/1813-783-58-30.png', 'test/0160.pdf300/986-603-57-28.png', 'test/0160.pdf300/985-334-57-28.png', 'test/0160.pdf300/940-325-59-29.png', 'test/0160.pdf300/1859-661-56-28.png', 'test/0160.pdf300/898-304-59-28.png', 'test/0160.pdf300/852-234-57-28.png', 'test/0160.pdf300/986-776-58-29.png', 'test/0160.pdf300/1353-642-56-29.png', 'test/0160.pdf300/941-779-56-29.png', 'test/0160.pdf300/1767-883-58-29.png', 'test/0160.pdf300/851-575-57-29.png', 'test/0160.pdf300/258-885-56-28.png', 'test/0160.pdf300/2596-882-56-30.png', 'test/0155.pdf300/979-1363-56-30.png', 'test/0155.pdf300/1437-1741-57-28.png', 'test/0155.pdf300/938-1122-58-29.png', 'test/0155.pdf300/1254-1336-57-30.png', 'test/0155.pdf300/934-1556-58-30.png', 'test/0155.pdf300/935-1311-58-30.png', 'test/0155.pdf300/1118-1329-58-28.png', 'test/0155.pdf300/1438-1335-57-29.png', 'test/0155.pdf300/583-1272-58-20.png', 'test/0155.pdf300/1072-1278-56-29.png', 'test/0155.pdf300/1162-1365-59-29.png', 'test/0165.pdf300/532-1384-57-29.png', 'test/0165.pdf300/714-1232-58-30.png', 'test/0165.pdf300/2434-1746-58-28.png', 'test/0165.pdf300/2261-1558-57-27.png', 'test/0165.pdf300/2470-1206-58-29.png', 'test/0165.pdf300/2016-1555-56-27.png', 'test/0165.pdf300/2330-1402-58-28.png', 'test/0165.pdf300/1982-1204-56-27.png', 'test/0165.pdf300/485-1580-58-28.png', 'test/0165.pdf300/755-1725-57-30.png', 'test/0165.pdf300/212-1433-57-29.png', 'test/0165.pdf300/2504-1656-52-29.png', 'test/0165.pdf300/2225-1662-58-28.png', 'test/0165.pdf300/2365-1494-58-27.png', 'test/0165.pdf300/1218-1835-61-29.png', 'test/0165.pdf300/306-1095-70-29.png', 'test/0165.pdf300/853-1261-58-28.png', 'test/0165.pdf300/2400-1098-56-29.png', 'test/0165.pdf300/395-1254-57-29.png', 'test/0164.pdf300/1228-661-57-29.png', 'test/0164.pdf300/954-447-59-28.png', 'test/0164.pdf300/1182-449-56-28.png', 'test/0164.pdf300/2293-933-56-28.png', 'test/0164.pdf300/1838-459-57-29.png', 'test/0164.pdf300/504-640-56-27.png', 'test/0164.pdf300/770-207-58-29.png', 'test/0164.pdf300/367-601-58-29.png', 'test/0164.pdf300/1503-522-58-29.png', 'test/0164.pdf300/1942-436-57-28.png', 'test/0164.pdf300/1184-782-57-28.png', 'test/0164.pdf300/1551-875-59-28.png', 'test/0164.pdf300/635-391-56-29.png', 'test/0164.pdf300/1639-662-58-28.png', 'test/0164.pdf300/638-603-57-28.png', 'test/0164.pdf300/1007-384-57-20.png', 'test/0164.pdf300/1413-822-58-28.png', 'test/0164.pdf300/1273-490-59-29.png', 'test/0164.pdf300/228-289-59-30.png', 'test/0166.pdf300/1290-460-57-28.png', 'test/0166.pdf300/1243-635-57-28.png', 'test/0166.pdf300/468-643-56-28.png', 'test/0166.pdf300/740-837-58-29.png', 'test/0166.pdf300/1195-940-57-29.png', 'test/0166.pdf300/1698-489-57-28.png', 'test/0166.pdf300/1425-630-57-30.png', 'test/0166.pdf300/1382-384-58-29.png', 'test/0166.pdf300/1743-935-57-29.png', 'test/0166.pdf300/1562-554-56-28.png', 'test/0166.pdf300/1206-536-57-21.png', 'test/0166.pdf300/832-805-59-28.png', 'test/0166.pdf300/1474-197-59-28.png', 'test/0166.pdf300/651-719-56-29.png', 'test/0166.pdf300/514-801-57-28.png', 'test/0166.pdf300/786-822-57-29.png', 'test/0166.pdf300/1654-349-59-28.png', 'test/0166.pdf300/559-508-57-29.png']\n",
    "\n",
    "\n",
    "#paths=['test/0159.pdf300/964-1722-77-28.png', 'test/0159.pdf300/2589-1276-67-28.png', 'test/0159.pdf300/782-1860-69-27.png', 'test/0156.pdf300/601-391-68-29.png', 'test/0152.pdf300/324-376-81-28.png', 'test/0152.pdf300/369-440-77-28.png', 'test/0152.pdf300/229-479-80-30.png', 'test/0153.pdf300/409-1350-78-28.png', 'test/0153.pdf300/639-1210-77-28.png', 'test/0160.pdf300/861-152-74-28.png', 'test/0160.pdf300/814-358-68-28.png']\n",
    "\n",
    "\n",
    "\n",
    "with open(\"searchResults.txt\", 'r') as f:\n",
    "    paths = [line.rstrip('\\n') for line in f]\n",
    "\n",
    "print(paths)\n",
    "\n",
    "def getCordinatesFromPath(mypath):\n",
    "    #mypath='test/0152.pdf300/1006-705-58-28.png'\n",
    "    \n",
    "    #mylist = mypath.split('/')\n",
    "    mylist = mypath.split('\\\\')\n",
    "    mycoords=mylist[-1].split('.')\n",
    "    mycoord=mycoords[0].split('-')\n",
    "    print(mycoord)\n",
    "    return mycoord\n",
    "\n",
    "def getSourceFromPath(mypath):\n",
    "    #mypath='test/0152.pdf300/1006-705-58-28.png'\n",
    "    #mylist = mypath.split('/')\n",
    "    mylist = mypath.split('\\\\')\n",
    "    return 'source'+'/'+mylist[1]+'.png'\n",
    "       \n",
    "\n",
    "    \n",
    "    \n",
    "    \n",
    "#plt.rcParams[\"figure.figsize\"] = (20,3)\n",
    "\n",
    "\n",
    "files=[]\n",
    "for path in paths:\n",
    "    #lista=path.split('/')\n",
    "    lista=path.split('\\\\')\n",
    "    #print(lista[1])\n",
    "    #print(files.__contains__(lista[1]))\n",
    "    if files.__contains__(lista[1]):\n",
    "        tmp=0\n",
    "    else:\n",
    "        files.append(lista[1])\n",
    "        \n",
    "print(files)  \n",
    "print('==============')\n",
    "for file in files:\n",
    "    img= cv2.imread('source/'+file+'.png',0);   \n",
    "    for path in paths:\n",
    "        tmp=getSourceFromPath(path)\n",
    "        print(tmp)\n",
    "        tmp=tmp.split('/')\n",
    "        #tmp=tmp[1].split('.')\n",
    "        filex=tmp[1]\n",
    "        \n",
    "        if file+'.png'==filex:\n",
    "            #print(filex)\n",
    "            coords=getCordinatesFromPath(path)\n",
    "           \n",
    "            x=int(coords[1])\n",
    "            y=int(coords[0])\n",
    "            ux=int(coords[2])\n",
    "            uy=int(coords[3])\n",
    "            img=cv2.rectangle(img,(x,y),( x+ux, y+uy),(0,255,0),5) \n",
    "            \n",
    "    cv2.imwrite('resultsSpot/'+file+'rec.png',img) \n",
    "    print('http://51.158.175.87:8888/view/myfiles/'+'resultsSpot/'+file+'rec.png')          \n",
    "        \n",
    "\n",
    "#print(f)\n",
    "        \n",
    "        \n",
    "        "
   ]
  },
  {
   "cell_type": "code",
   "execution_count": null,
   "metadata": {
    "collapsed": true
   },
   "outputs": [],
   "source": []
  },
  {
   "cell_type": "code",
   "execution_count": null,
   "metadata": {
    "collapsed": true
   },
   "outputs": [],
   "source": []
  },
  {
   "cell_type": "code",
   "execution_count": null,
   "metadata": {
    "collapsed": true
   },
   "outputs": [],
   "source": []
  },
  {
   "cell_type": "code",
   "execution_count": null,
   "metadata": {
    "collapsed": true
   },
   "outputs": [],
   "source": []
  }
 ],
 "metadata": {
  "kernelspec": {
   "display_name": "Python 3",
   "language": "python",
   "name": "python3"
  },
  "language_info": {
   "codemirror_mode": {
    "name": "ipython",
    "version": 3
   },
   "file_extension": ".py",
   "mimetype": "text/x-python",
   "name": "python",
   "nbconvert_exporter": "python",
   "pygments_lexer": "ipython3",
   "version": "3.6.8"
  }
 },
 "nbformat": 4,
 "nbformat_minor": 2
}
