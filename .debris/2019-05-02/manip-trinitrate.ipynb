{
 "cells": [
  {
   "cell_type": "code",
   "execution_count": null,
   "metadata": {},
   "outputs": [],
   "source": [
    "%%bash\n",
    "IFS='\n",
    "'\n",
    "#∆αυῒδ\n",
    "words='∆αυ.δ\n",
    "Ῥωμαίοις\n",
    "ὑποστάσεως\n",
    "πίστεως\n",
    "ἅγιον\n",
    "Κορινθίοις\n",
    "φῶς\n",
    "Ἰησοῦ\n",
    "Χριστοῦ\n",
    "Παῦλος\n",
    "πατρὸς\n",
    "υἱὸς\n",
    "θεὸν\n",
    "κύριος\n",
    "πνεύματος\n",
    "πνεῦμα\n",
    "θεὸς\n",
    "ὅτι\n",
    "γὰρ\n",
    "καὶ'\n",
    "\n",
    "word='κύριος'\n",
    "\n",
    "for word in `echo \"$words\"`\n",
    "do\n",
    "\n",
    "x=0\n",
    "files=`find  pages -type f|sort`\n",
    "for file in `echo \"$files\"`\n",
    "do\n",
    "#echo $file\n",
    "\n",
    "cat \"$file\"|tr \" \" \"\\n\"|sort|uniq -c|sed -rn 's@'$word'@'$word'@gp'\n",
    "\n",
    "num=`cat \"$file\"|tr \" \" \"\\n\"|sort|sed -rn 's@'$word'@'$word'@gp'|wc -l`\n",
    "#echo $num\n",
    "\n",
    "x=`expr $x + $num`\n",
    "done\n",
    "echo \"number of occurence of ... $word: $x\"\n",
    "done\n",
    "\n",
    "\n"
   ]
  },
  {
   "cell_type": "code",
   "execution_count": null,
   "metadata": {},
   "outputs": [],
   "source": []
  }
 ],
 "metadata": {
  "kernelspec": {
   "display_name": "Python 3",
   "language": "python",
   "name": "python3"
  },
  "language_info": {
   "codemirror_mode": {
    "name": "ipython",
    "version": 3
   },
   "file_extension": ".py",
   "mimetype": "text/x-python",
   "name": "python",
   "nbconvert_exporter": "python",
   "pygments_lexer": "ipython3",
   "version": "3.6.7"
  }
 },
 "nbformat": 4,
 "nbformat_minor": 2
}
