{
 "cells": [
  {
   "cell_type": "code",
   "execution_count": 4,
   "metadata": {},
   "outputs": [],
   "source": [
    "import cv2 as cv2  \n",
    "from matplotlib import pyplot as plt\n",
    "import numpy as np\n",
    "\n",
    "\n",
    "\n",
    "def applyCircleErosion(word_img):\n",
    "    colorvalue = [0, 0, 0]\n",
    "    #enlarge_img= cv2.copyMakeBorder(word_img,10,10,10,10,cv2.BORDER_REPLICATE,value=colorvalue)\n",
    "    \n",
    "    \n",
    "    enlarge_img\n",
    "    kernel=cv2.getStructuringElement(cv2.MORPH_ELLIPSE,(9,9))\n",
    "    erode_img = cv2.erode(enlarge_img, kernel, iterations=1)\n",
    "    erode_img=enlarge_img\n",
    "    return erode_img"
   ]
  },
  {
   "cell_type": "code",
   "execution_count": null,
   "metadata": {
    "scrolled": false
   },
   "outputs": [],
   "source": [
    "\n",
    " \n",
    "\n",
    "\n"
   ]
  },
  {
   "cell_type": "code",
   "execution_count": 57,
   "metadata": {},
   "outputs": [
    {
     "name": "stdout",
     "output_type": "stream",
     "text": [
      "45\n",
      "45\n",
      "[[255 255 255 ... 255 255 255]\n",
      " [255 255 255 ... 255 255 255]\n",
      " [255 255 255 ... 255 255 255]\n",
      " ...\n",
      " [255 255 255 ... 255 255 255]\n",
      " [255 255 255 ... 255 255 255]\n",
      " [255 255 255 ... 255 255 255]]\n"
     ]
    },
    {
     "data": {
      "text/plain": [
       "<matplotlib.image.AxesImage at 0x9bba9b0>"
      ]
     },
     "execution_count": 57,
     "metadata": {},
     "output_type": "execute_result"
    },
    {
     "data": {
      "image/png": "[encoded data removed]",
      "text/plain": [
       "<Figure size 432x288 with 1 Axes>"
      ]
     },
     "metadata": {
      "needs_background": "light"
     },
     "output_type": "display_data"
    }
   ],
   "source": [
    "import cv2 as cv2  \n",
    "from matplotlib import pyplot as plt\n",
    "import numpy as np\n",
    "query= cv2.imread(\"tmp1/kyrios4.png\",0);\n",
    "#size=np.size(query)\n",
    "\n",
    "#b = np.insert(query, endX, values=255, axis=1)\n",
    "\n",
    "\n",
    "#create horizontal space\n",
    "w=query.shape[0]\n",
    "print(w)\n",
    "x=np.zeros(shape=(w, 20),dtype=int)\n",
    "x.fill(255)\n",
    "x.astype(int)\n",
    "addLastCols = np.hstack((query, x))\n",
    "addFirstCols=np.hstack((x, addLastCols))\n",
    "\n",
    "\n",
    "\n",
    "h=query.shape[1]\n",
    "print(w)\n",
    "y=np.zeros(shape=(20, h),dtype=int)\n",
    "y.fill(255)\n",
    "y.astype(int)\n",
    "\n",
    "print(y)\n",
    "addBottomRows = np.vstack((query, y))\n",
    "#addUpRows=np.vstack((y, addLastCols))\n",
    "\n",
    "\n",
    "\n",
    "\n",
    "\n",
    "\n",
    "\n",
    "\n",
    "\n",
    "plt.figure()\n",
    "plt.imshow(addBottomRows)\n",
    "\n",
    "\n",
    "\n",
    "\n"
   ]
  },
  {
   "cell_type": "code",
   "execution_count": null,
   "metadata": {},
   "outputs": [],
   "source": []
  },
  {
   "cell_type": "code",
   "execution_count": null,
   "metadata": {},
   "outputs": [],
   "source": []
  }
 ],
 "metadata": {
  "kernelspec": {
   "display_name": "Python 3",
   "language": "python",
   "name": "python3"
  }
 },
 "nbformat": 4,
 "nbformat_minor": 2
}
