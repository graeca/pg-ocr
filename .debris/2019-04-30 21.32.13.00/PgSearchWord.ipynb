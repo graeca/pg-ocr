{
 "cells": [
  {
   "cell_type": "code",
   "execution_count": 9,
   "metadata": {},
   "outputs": [
    {
     "name": "stdout",
     "output_type": "stream",
     "text": [
      "source/0177.pdf300.png\n",
      "0177.pdf300\n",
      "0\n",
      "[]\n",
      "0\n"
     ]
    }
   ],
   "source": [
    "import cv2 as cv2  \n",
    "from matplotlib import pyplot as plt\n",
    "import numpy as np\n",
    "import re\n",
    "\n",
    "#from PgFunctions import clearBorder\n",
    "#from PgFunctions import checkDiacritics\n",
    "#from PgFunctions import cutPunctuation\n",
    "#from PgFunctions import applyCircleErosion\n",
    "#from PgFunctions import applyWordSegmentation\n",
    "#from PgFunctions import searchData\n",
    "#from PgFunctions import createView\n",
    "\n",
    "\n",
    "%run PgFunctions.py \n",
    "\n",
    "\n",
    "import shutil\n",
    "import glob, os\n",
    "\n",
    "f=open(\"results/results.html\", \"w\")\n",
    "f.write('')\n",
    "f.close()\n",
    "wordlinks=[]\n",
    "#for filename in glob.glob(\"source/*pdf300.png\"):\n",
    "for filename in glob.glob(\"source/0177.pdf300.png\"):\n",
    "#for filename in glob.glob(\"source/0194.pdf300.png\"):    \n",
    "    print(filename)\n",
    "    filename_w_ext = os.path.basename(filename)\n",
    "    name, extension = os.path.splitext(filename_w_ext)\n",
    "    print(name)\n",
    "    folder=name\n",
    "    \n",
    "   \n",
    "    query= cv2.imread(\"word/fos.png\",0);\n",
    "    query= cv2.imread(\"word/kyrios.png\",0);\n",
    "    #erodeQuery=applyCircleErosion(query)\n",
    "    ###plt.figure()\n",
    "    ###plt.imshow(erodeQuery)\n",
    "    x=searchData(query,folder)\n",
    "    for val in x:\n",
    "        \n",
    "        wordlinks.append(val)\n",
    "    \n",
    "    \n",
    "print(wordlinks)\n",
    "print(len(wordlinks))\n",
    "\n",
    "with open(\"searchResults.txt\", 'w') as f:\n",
    "    for wordlink in wordlinks:\n",
    "        f.write(str(wordlink) + '\\n')\n",
    "\n",
    "\n",
    " \n",
    "\n",
    "\n"
   ]
  },
  {
   "cell_type": "code",
   "execution_count": null,
   "metadata": {},
   "outputs": [],
   "source": []
  },
  {
   "cell_type": "code",
   "execution_count": null,
   "metadata": {},
   "outputs": [],
   "source": []
  },
  {
   "cell_type": "code",
   "execution_count": null,
   "metadata": {},
   "outputs": [],
   "source": []
  }
 ],
 "metadata": {
  "kernelspec": {
   "display_name": "Python 3",
   "language": "python",
   "name": "python3"
  },
  "language_info": {
   "codemirror_mode": {
    "name": "ipython",
    "version": 3
   },
   "file_extension": ".py",
   "mimetype": "text/x-python",
   "name": "python",
   "nbconvert_exporter": "python",
   "pygments_lexer": "ipython3",
   "version": "3.6.7"
  }
 },
 "nbformat": 4,
 "nbformat_minor": 2
}
