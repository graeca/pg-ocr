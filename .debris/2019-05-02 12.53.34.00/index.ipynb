{
 "cells": [
  {
   "cell_type": "markdown",
   "metadata": {},
   "source": [
    "# Work-flow\n",
    "\n",
    "- segmentation [PgCreateSegmentation.ipynb](PgCreateSegmentation.ipynb)\n",
    "\n",
    "creates test folder with the word images\n",
    "- searching [PgSearchWord.ipynb](PgSearchWord.ipynb)\n",
    "\n",
    "create searchResults.txt\n",
    "- analysis [PgAnalysis.ipynb](PgAnalysis.ipynb)\n",
    "\n",
    "reads searchResults.txt and offers the pages with the spotting words\n",
    "\n",
    "!!!needs examine for cutting s and some diacritics"
   ]
  },
  {
   "cell_type": "code",
   "execution_count": 1,
   "metadata": {},
   "outputs": [
    {
     "name": "stdout",
     "output_type": "stream",
     "text": [
      "test/0151.pdf300/11261-1427-77-27.png\n"
     ]
    }
   ],
   "source": [
    "import re\n",
    "\n",
    "wordlink=r\"test/0151.pdf300\\11261-1427-77-27.png\"\n",
    "\n",
    "\n",
    "wordlink = wordlink.replace(\"\\\\\", \"/\")\n",
    "print(wordlink)\n",
    "\n",
    "\n"
   ]
  },
  {
   "cell_type": "code",
   "execution_count": null,
   "metadata": {
    "collapsed": true
   },
   "outputs": [],
   "source": []
  }
 ],
 "metadata": {
  "kernelspec": {
   "display_name": "Python 3",
   "language": "python",
   "name": "python3"
  },
  "language_info": {
   "codemirror_mode": {
    "name": "ipython",
    "version": 3
   },
   "file_extension": ".py",
   "mimetype": "text/x-python",
   "name": "python",
   "nbconvert_exporter": "python",
   "pygments_lexer": "ipython3",
   "version": "3.6.8"
  }
 },
 "nbformat": 4,
 "nbformat_minor": 2
}
