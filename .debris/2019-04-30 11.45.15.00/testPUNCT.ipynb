{
 "cells": [
  {
   "cell_type": "code",
   "execution_count": 3,
   "metadata": {},
   "outputs": [],
   "source": [
    "import cv2 as cv2  \n",
    "from matplotlib import pyplot as plt\n",
    "import numpy as np\n",
    "from pathlib import Path\n"
   ]
  },
  {
   "cell_type": "code",
   "execution_count": 13,
   "metadata": {},
   "outputs": [],
   "source": [
    "def cutPunctuation(img,wordname_path):\n",
    "    #plt.imshow(img)\n",
    "    img = cv2.bitwise_not(img) \n",
    "    newX=256\n",
    "    newY=256\n",
    "    #plt.figure()\n",
    "    #plt.imshow(img)\n",
    "    #img = cv2.resize(img,(int(newX),int(newY)))\n",
    "    img=img//255\n",
    "    y=img.sum(axis=0)\n",
    "    \n",
    "    #print (y)\n",
    "    #print(y.shape)\n",
    "    num=np.size(img,1)\n",
    "    x = np.arange(num)\n",
    "    ###print(x.shape)\n",
    "    fig, ax = plt.subplots()\n",
    "    ax.plot(x,y)\n",
    "    plt.show()\n",
    "    plt.figure()\n",
    "    \n",
    "    \n",
    "    #width=np.size(img,0)\n",
    "    #xc=np.size(img,0)\n",
    "    #print(width)\n",
    "    #img = img[0:width, 0:250]\n",
    "    #plt.imshow(img)\n",
    "    \n",
    "    #x = np.array([1,0,2,0,3,0,4,5,6,7,8])\n",
    "    #print(\"========\")\n",
    "    \n",
    "    index=np.where(y == 0)[0]\n",
    "    #index=np.where(y <= 10)[0]\n",
    "    \n",
    "    #print(index)\n",
    "    len=index.shape[0]\n",
    "    rev_index=index[::-1]\n",
    "    #print(len)\n",
    "    #print(\"========\")\n",
    "    \n",
    "   \n",
    "    \n",
    "    width=np.size(img,1)\n",
    "    \n",
    "    height=np.size(img,0)\n",
    "    print(width)\n",
    "    print(height)\n",
    "    \n",
    "    \n",
    "    sum_ink=0\n",
    "    for i in  range(0, len-1):\n",
    "        #print(i,\"++++\")\n",
    "        \n",
    "        if rev_index[i+1]<rev_index[i]-1: #by pass the contigues zeros that exist\n",
    "            #print(\"dif=\",rev_index[i]-rev_index[i+1],\"index=\",i )\n",
    "            #print(rev_index[i])\n",
    "            #print(rev_index[i+1])\n",
    "            \n",
    "            xc=rev_index[i+1]\n",
    "            \n",
    "            imgF = img[0:height, 0:xc]\n",
    "            \n",
    "            \n",
    "            imgT= img[0:height, xc:width]\n",
    "            half=height/2\n",
    "            print('==========')\n",
    "            print('half',half)\n",
    "            print('xc',xc)\n",
    "            hprof=imgT.sum(axis=1)\n",
    "            sumakiarea=hprof.sum()\n",
    "            print('sumarea',hprof,sumakiarea)\n",
    "            hprofIndex=np.where(hprof == 0)\n",
    "            hprofZerosNum=np.size(hprofIndex,1)\n",
    "            \n",
    "            print('zeros',hprofZerosNum)\n",
    "            \n",
    "            print('==========')\n",
    "            #if hprofZerosNum-3 >= half:\n",
    "            if sumakiarea < 95:   \n",
    "                #do not cut\n",
    "                print(\"+++++++++++\")\n",
    "                imgF=255*imgF\n",
    "                imgF=abs(255-imgF)\n",
    "                imgReturn=imgF\n",
    "                \n",
    "                #plt.figure()\n",
    "                #plt.imshow(imgF)\n",
    "                return imgReturn\n",
    "            else:\n",
    "                #cut\n",
    "                img=255*img\n",
    "                img=abs(255-img)\n",
    "                imgReturn=img\n",
    "                return imgReturn\n",
    "            \n",
    "           \n",
    "        \n",
    "        \n",
    "        \n",
    "        \n",
    "        "
   ]
  },
  {
   "cell_type": "code",
   "execution_count": 17,
   "metadata": {},
   "outputs": [
    {
     "data": {
      "image/png": "[encoded data removed]",
      "text/plain": [
       "<Figure size 432x288 with 1 Axes>"
      ]
     },
     "metadata": {
      "needs_background": "light"
     },
     "output_type": "display_data"
    },
    {
     "name": "stdout",
     "output_type": "stream",
     "text": [
      "87\n",
      "35\n",
      "==========\n",
      "half 17.5\n",
      "xc 52\n",
      "sumarea [ 0  0  0  0  0  0  0  0  0  2  5  8  8  7  7  5 17 20 21 19 19  9 11 11\n",
      "  9  7  4  0  0  0  0  0  0  0  0] 189\n",
      "zeros 17\n",
      "==========\n",
      "[[255 255 255 ... 255 255 255]\n",
      " [255 255 255 ... 255 255 255]\n",
      " [255 255 255 ... 255 255 255]\n",
      " ...\n",
      " [255 255 255 ... 255 255 255]\n",
      " [255 255 255 ... 255 255 255]\n",
      " [255 255 255 ... 255 255 255]]\n"
     ]
    },
    {
     "data": {
      "text/plain": [
       "<Figure size 432x288 with 0 Axes>"
      ]
     },
     "metadata": {},
     "output_type": "display_data"
    },
    {
     "data": {
      "image/png": "[encoded data removed]",
      "text/plain": [
       "<Figure size 432x288 with 1 Axes>"
      ]
     },
     "metadata": {
      "needs_background": "light"
     },
     "output_type": "display_data"
    }
   ],
   "source": [
    "\n",
    "#print(Path('tmp').parent)\n",
    "\n",
    "\n",
    "\n",
    "\n",
    "\n",
    "\n",
    "wordname_path=\"..\\\\tmp1\\\\1.png\"\n",
    "\n",
    "wordname_path=\"..\\\\tmp1\\\\111.png\"\n",
    "wordname_path=\"..\\\\tmp1\\\\12.png\"\n",
    "wordname_path=\"..\\\\tmp1\\\\2.png\"\n",
    "wordname_path=\"..\\\\tmp1\\\\11.png\"\n",
    "wordname_path=\"..\\\\tmp1\\\\13.png\"\n",
    "img= cv2.imread(wordname_path,0);\n",
    "\n",
    "\n",
    "#img=abs(255-img)\n",
    "#img=img//255\n",
    "#print(img)\n",
    "#plt.figure()\n",
    "#plt.imshow(img)\n",
    "#img = cv2.bitwise_not(img)\n",
    "imgx=cutPunctuation(img,wordname_path)\n",
    "\n",
    "#imgx=255*imgx\n",
    "#imgx=abs(255-imgx)\n",
    "#imx=imgx.astype(int)\n",
    "\n",
    "plt.figure()\n",
    "plt.imshow(imgx)\n",
    "print(imgx)\n",
    "#cv2.imwrite('tmp1/111.png',imgx)"
   ]
  },
  {
   "cell_type": "code",
   "execution_count": null,
   "metadata": {
    "collapsed": true
   },
   "outputs": [],
   "source": [
    "\n"
   ]
  },
  {
   "cell_type": "code",
   "execution_count": null,
   "metadata": {
    "collapsed": true
   },
   "outputs": [],
   "source": []
  },
  {
   "cell_type": "code",
   "execution_count": null,
   "metadata": {
    "collapsed": true
   },
   "outputs": [],
   "source": []
  }
 ],
 "metadata": {
  "kernelspec": {
   "display_name": "Python 3",
   "language": "python",
   "name": "python3"
  }
 },
 "nbformat": 4,
 "nbformat_minor": 2
}
