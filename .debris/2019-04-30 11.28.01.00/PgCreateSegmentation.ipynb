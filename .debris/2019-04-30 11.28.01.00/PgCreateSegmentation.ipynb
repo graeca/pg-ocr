{
 "cells": [
  {
   "cell_type": "code",
   "execution_count": 2,
   "metadata": {},
   "outputs": [
    {
     "name": "stdout",
     "output_type": "stream",
     "text": [
      "source/0177.pdf300.png\n",
      "0177.pdf300\n"
     ]
    }
   ],
   "source": [
    "import cv2 as cv2  \n",
    "from matplotlib import pyplot as plt\n",
    "import numpy as np\n",
    "\n",
    "from PgFunctions import clearBorder\n",
    "from PgFunctions import checkDiacritics\n",
    "from PgFunctions import cutPunctuation\n",
    "from PgFunctions import applyCircleErosion\n",
    "from PgFunctions import applyWordSegmentation\n",
    "from PgFunctions import searchData\n",
    "from PgFunctions import createView\n",
    "\n",
    "import shutil\n",
    "import glob, os\n",
    "\n",
    "\n",
    "for filename in glob.glob(\"source/0177.pdf300.png\"):\n",
    "    print(filename)\n",
    "    filename_w_ext = os.path.basename(filename)\n",
    "    name, extension = os.path.splitext(filename_w_ext)\n",
    "    print(name)\n",
    "    folder=name\n",
    "    \n",
    "    if os.path.exists('test/'+folder):    \n",
    "        shutil.rmtree('test/'+folder)\n",
    "        \n",
    "    os.mkdir('test/'+folder)\n",
    "    img = cv2.imread(filename,0)\n",
    "    applyWordSegmentation(img,folder)\n",
    "     \n",
    "   \n",
    "\n",
    "\n",
    "\n",
    "\n"
   ]
  },
  {
   "cell_type": "code",
   "execution_count": null,
   "metadata": {
    "collapsed": true
   },
   "outputs": [],
   "source": []
  },
  {
   "cell_type": "code",
   "execution_count": null,
   "metadata": {
    "collapsed": true
   },
   "outputs": [],
   "source": []
  },
  {
   "cell_type": "code",
   "execution_count": null,
   "metadata": {
    "collapsed": true
   },
   "outputs": [],
   "source": []
  }
 ],
 "metadata": {
  "kernelspec": {
   "display_name": "Python 3",
   "language": "python",
   "name": "python3"
  },
  "language_info": {
   "codemirror_mode": {
    "name": "ipython",
    "version": 3
   },
   "file_extension": ".py",
   "mimetype": "text/x-python",
   "name": "python",
   "nbconvert_exporter": "python",
   "pygments_lexer": "ipython3",
   "version": "3.6.8"
  }
 },
 "nbformat": 4,
 "nbformat_minor": 2
}
