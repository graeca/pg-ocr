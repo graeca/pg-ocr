{
 "cells": [
  {
   "cell_type": "code",
   "execution_count": 1,
   "metadata": {},
   "outputs": [],
   "source": []
  },
  {
   "cell_type": "code",
   "execution_count": null,
   "metadata": {
    "scrolled": false
   },
   "outputs": [],
   "source": [
    "\n",
    " \n",
    "\n",
    "\n"
   ]
  },
  {
   "cell_type": "code",
   "execution_count": 32,
   "metadata": {},
   "outputs": [
    {
     "data": {
      "text/plain": [
       "<matplotlib.image.AxesImage at 0x9cc9080>"
      ]
     },
     "execution_count": 32,
     "metadata": {},
     "output_type": "execute_result"
    },
    {
     "data": {
      "image/png": "[encoded data removed]",
      "text/plain": [
       "<Figure size 432x288 with 1 Axes>"
      ]
     },
     "metadata": {
      "needs_background": "light"
     },
     "output_type": "display_data"
    },
    {
     "data": {
      "image/png": "[encoded data removed]",
      "text/plain": [
       "<Figure size 432x288 with 1 Axes>"
      ]
     },
     "metadata": {
      "needs_background": "light"
     },
     "output_type": "display_data"
    }
   ],
   "source": [
    "import cv2 as cv2  \n",
    "from matplotlib import pyplot as plt\n",
    "import numpy as np\n",
    "\n",
    "\n",
    "def createPadding(query, margin):\n",
    "    #size=np.size(query)\n",
    "    #query = np.insert(query, w, values=0, axis=1)\n",
    "    \n",
    "\n",
    "\n",
    "    #create horizontal space\n",
    "    w=query.shape[0]\n",
    "    x=np.zeros(shape=(w, margin))\n",
    "    x.fill(255)\n",
    "    #x.astype(int)\n",
    "    query = np.hstack((query, x))\n",
    "    query = np.hstack((x,query))\n",
    "    \n",
    "    \n",
    "    h=query.shape[1]\n",
    "    y=np.zeros(shape=(margin, h))\n",
    "    y.fill(255)\n",
    "    query = np.vstack((query, y))\n",
    "    query = np.vstack((y,query))\n",
    "    \n",
    "    \n",
    "    \n",
    "    return query\n",
    "\n",
    "\n",
    "\n",
    "def applyCircleErosion(word_img):\n",
    "    kernel=cv2.getStructuringElement(cv2.MORPH_ELLIPSE,(9,9))\n",
    "    erode_img = cv2.erode(word_img, kernel, iterations=1)\n",
    "    return erode_img\n",
    "\n",
    "\n",
    "\n",
    "\n",
    "\n",
    "\n",
    "query= cv2.imread(\"tmp1/kyrios3.png\",0);\n",
    "img=createPadding(query, 20)\n",
    "img=applyCircleErosion(img)\n",
    "plt.figure()\n",
    "plt.imshow(img)\n",
    "\n",
    "query= cv2.imread(\"tmp1/kyrios4.png\",0);\n",
    "img=createPadding(query, 20)\n",
    "img=applyCircleErosion(img)\n",
    "plt.figure()\n",
    "plt.imshow(img)\n",
    "\n",
    "\n"
   ]
  },
  {
   "cell_type": "code",
   "execution_count": null,
   "metadata": {},
   "outputs": [],
   "source": []
  },
  {
   "cell_type": "code",
   "execution_count": null,
   "metadata": {},
   "outputs": [],
   "source": []
  }
 ],
 "metadata": {
  "kernelspec": {
   "display_name": "Python 3",
   "language": "python",
   "name": "python3"
  },
  "language_info": {
   "codemirror_mode": {
    "name": "ipython",
    "version": 3
   },
   "file_extension": ".py",
   "mimetype": "text/x-python",
   "name": "python",
   "nbconvert_exporter": "python",
   "pygments_lexer": "ipython3",
   "version": "3.6.8"
  }
 },
 "nbformat": 4,
 "nbformat_minor": 2
}
