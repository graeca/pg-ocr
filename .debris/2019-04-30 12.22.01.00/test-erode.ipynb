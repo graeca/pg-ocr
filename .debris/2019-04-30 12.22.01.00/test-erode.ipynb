{
 "cells": [
  {
   "cell_type": "code",
   "execution_count": 4,
   "metadata": {},
   "outputs": [],
   "source": [
    "import cv2 as cv2  \n",
    "from matplotlib import pyplot as plt\n",
    "import numpy as np\n",
    "\n",
    "\n",
    "\n",
    "def applyCircleErosion(word_img):\n",
    "    colorvalue = [0, 0, 0]\n",
    "    enlarge_img= cv2.copyMakeBorder(word_img,10,10,10,10,cv2.BORDER_REPLICATE,value=colorvalue)\n",
    "    kernel=cv2.getStructuringElement(cv2.MORPH_ELLIPSE,(9,9))\n",
    "    #erode_img = cv2.erode(enlarge_img, kernel, iterations=1)\n",
    "    erode_img=enlarge_img\n",
    "    return erode_img"
   ]
  },
  {
   "cell_type": "code",
   "execution_count": null,
   "metadata": {
    "scrolled": false
   },
   "outputs": [],
   "source": [
    "\n",
    " \n",
    "\n",
    "\n"
   ]
  },
  {
   "cell_type": "code",
   "execution_count": 34,
   "metadata": {},
   "outputs": [
    {
     "name": "stdout",
     "output_type": "stream",
     "text": [
      "111\n"
     ]
    },
    {
     "data": {
      "text/plain": [
       "<matplotlib.image.AxesImage at 0x9983ba8>"
      ]
     },
     "execution_count": 34,
     "metadata": {},
     "output_type": "execute_result"
    },
    {
     "data": {
      "image/png": "[encoded data removed]",
      "text/plain": [
       "<Figure size 432x288 with 1 Axes>"
      ]
     },
     "metadata": {
      "needs_background": "light"
     },
     "output_type": "display_data"
    }
   ],
   "source": [
    "import cv2 as cv2  \n",
    "from matplotlib import pyplot as plt\n",
    "import numpy as np\n",
    "query= cv2.imread(\"tmp1/kyrios4.png\",0);\n",
    "size=np.size(query)\n",
    "endX=query.shape[1]\n",
    "print(x)\n",
    "b = np.insert(query, endX, values=255, axis=1)\n",
    "#b = np.hstack((query, np.zeros((query.shape[0], 11), dtype=query.dtype)))\n",
    "plt.figure()\n",
    "plt.imshow(b)\n",
    "\n",
    "\n",
    "\n",
    "\n"
   ]
  },
  {
   "cell_type": "code",
   "execution_count": null,
   "metadata": {},
   "outputs": [],
   "source": []
  },
  {
   "cell_type": "code",
   "execution_count": null,
   "metadata": {},
   "outputs": [],
   "source": []
  }
 ],
 "metadata": {
  "kernelspec": {
   "display_name": "Python 3",
   "language": "python",
   "name": "python3"
  }
 },
 "nbformat": 4,
 "nbformat_minor": 2
}
